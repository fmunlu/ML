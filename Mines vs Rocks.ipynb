{
 "cells": [
  {
   "cell_type": "markdown",
   "metadata": {},
   "source": [
    "# Mines vs Rocks\n",
    "\n",
    "This dataset is publicly available in machine learning repositories such as: in [OpenML](https://www.openml.org) under the name \"sonar\" and in [UCI Machine Learning Repository](https://archive.ics.uci.edu/ml) under the name \"Connectionist Bench (Sonar, Mines vs. Rocks) Data Set.\" The objective is to train a model to discriminate between sonar signals bounced off a metal cylinder (a proxy for a mine) and those bounced off a roughly cylindrical rock. One can consult the repositories above to learn more about the dataset. I initially got interested in the dataset because of the challenge of working with sparse data (208 instances in 60 dimensional space) and overcoming the curse of dimensionality."
   ]
  },
  {
   "cell_type": "markdown",
   "metadata": {},
   "source": [
    "## Step 1: Loading libraries to be used in the modeling, loading the dataset, and initial exploratory analysis."
   ]
  },
  {
   "cell_type": "code",
   "execution_count": 1,
   "metadata": {},
   "outputs": [
    {
     "name": "stdout",
     "output_type": "stream",
     "text": [
      "numpy version:  1.16.5\n",
      "pandas version:  0.25.2\n",
      "seaborn version:  0.9.0\n"
     ]
    }
   ],
   "source": [
    "import numpy as np\n",
    "import pandas as pd\n",
    "import matplotlib.pyplot as plt\n",
    "import seaborn as sns\n",
    "%matplotlib inline\n",
    "\n",
    "print('numpy version: ',np.__version__)\n",
    "print('pandas version: ',pd.__version__)\n",
    "print('seaborn version: ',sns.__version__)"
   ]
  },
  {
   "cell_type": "code",
   "execution_count": 2,
   "metadata": {},
   "outputs": [],
   "source": [
    "#fetching the dataset from OpenML repository\n",
    "\n",
    "from sklearn.datasets import fetch_openml\n",
    "X, y = fetch_openml('sonar', return_X_y=True)"
   ]
  },
  {
   "cell_type": "code",
   "execution_count": 3,
   "metadata": {},
   "outputs": [
    {
     "name": "stdout",
     "output_type": "stream",
     "text": [
      "dim of X:  (208, 60)\n",
      "dim of y:  (208,)\n"
     ]
    }
   ],
   "source": [
    "print('dim of X: ', X.shape)\n",
    "print('dim of y: ', y.shape)"
   ]
  },
  {
   "cell_type": "code",
   "execution_count": 4,
   "metadata": {},
   "outputs": [
    {
     "data": {
      "text/html": [
       "<div>\n",
       "<style scoped>\n",
       "    .dataframe tbody tr th:only-of-type {\n",
       "        vertical-align: middle;\n",
       "    }\n",
       "\n",
       "    .dataframe tbody tr th {\n",
       "        vertical-align: top;\n",
       "    }\n",
       "\n",
       "    .dataframe thead th {\n",
       "        text-align: right;\n",
       "    }\n",
       "</style>\n",
       "<table border=\"1\" class=\"dataframe\">\n",
       "  <thead>\n",
       "    <tr style=\"text-align: right;\">\n",
       "      <th></th>\n",
       "      <th>var1</th>\n",
       "      <th>var2</th>\n",
       "      <th>var3</th>\n",
       "      <th>var4</th>\n",
       "      <th>var5</th>\n",
       "      <th>var6</th>\n",
       "      <th>var7</th>\n",
       "      <th>var8</th>\n",
       "      <th>var9</th>\n",
       "      <th>var10</th>\n",
       "      <th>...</th>\n",
       "      <th>var51</th>\n",
       "      <th>var52</th>\n",
       "      <th>var53</th>\n",
       "      <th>var54</th>\n",
       "      <th>var55</th>\n",
       "      <th>var56</th>\n",
       "      <th>var57</th>\n",
       "      <th>var58</th>\n",
       "      <th>var59</th>\n",
       "      <th>var60</th>\n",
       "    </tr>\n",
       "  </thead>\n",
       "  <tbody>\n",
       "    <tr>\n",
       "      <th>0</th>\n",
       "      <td>0.0200</td>\n",
       "      <td>0.0371</td>\n",
       "      <td>0.0428</td>\n",
       "      <td>0.0207</td>\n",
       "      <td>0.0954</td>\n",
       "      <td>0.0986</td>\n",
       "      <td>0.1539</td>\n",
       "      <td>0.1601</td>\n",
       "      <td>0.3109</td>\n",
       "      <td>0.2111</td>\n",
       "      <td>...</td>\n",
       "      <td>0.0232</td>\n",
       "      <td>0.0027</td>\n",
       "      <td>0.0065</td>\n",
       "      <td>0.0159</td>\n",
       "      <td>0.0072</td>\n",
       "      <td>0.0167</td>\n",
       "      <td>0.0180</td>\n",
       "      <td>0.0084</td>\n",
       "      <td>0.0090</td>\n",
       "      <td>0.0032</td>\n",
       "    </tr>\n",
       "    <tr>\n",
       "      <th>1</th>\n",
       "      <td>0.0453</td>\n",
       "      <td>0.0523</td>\n",
       "      <td>0.0843</td>\n",
       "      <td>0.0689</td>\n",
       "      <td>0.1183</td>\n",
       "      <td>0.2583</td>\n",
       "      <td>0.2156</td>\n",
       "      <td>0.3481</td>\n",
       "      <td>0.3337</td>\n",
       "      <td>0.2872</td>\n",
       "      <td>...</td>\n",
       "      <td>0.0125</td>\n",
       "      <td>0.0084</td>\n",
       "      <td>0.0089</td>\n",
       "      <td>0.0048</td>\n",
       "      <td>0.0094</td>\n",
       "      <td>0.0191</td>\n",
       "      <td>0.0140</td>\n",
       "      <td>0.0049</td>\n",
       "      <td>0.0052</td>\n",
       "      <td>0.0044</td>\n",
       "    </tr>\n",
       "    <tr>\n",
       "      <th>2</th>\n",
       "      <td>0.0262</td>\n",
       "      <td>0.0582</td>\n",
       "      <td>0.1099</td>\n",
       "      <td>0.1083</td>\n",
       "      <td>0.0974</td>\n",
       "      <td>0.2280</td>\n",
       "      <td>0.2431</td>\n",
       "      <td>0.3771</td>\n",
       "      <td>0.5598</td>\n",
       "      <td>0.6194</td>\n",
       "      <td>...</td>\n",
       "      <td>0.0033</td>\n",
       "      <td>0.0232</td>\n",
       "      <td>0.0166</td>\n",
       "      <td>0.0095</td>\n",
       "      <td>0.0180</td>\n",
       "      <td>0.0244</td>\n",
       "      <td>0.0316</td>\n",
       "      <td>0.0164</td>\n",
       "      <td>0.0095</td>\n",
       "      <td>0.0078</td>\n",
       "    </tr>\n",
       "    <tr>\n",
       "      <th>3</th>\n",
       "      <td>0.0100</td>\n",
       "      <td>0.0171</td>\n",
       "      <td>0.0623</td>\n",
       "      <td>0.0205</td>\n",
       "      <td>0.0205</td>\n",
       "      <td>0.0368</td>\n",
       "      <td>0.1098</td>\n",
       "      <td>0.1276</td>\n",
       "      <td>0.0598</td>\n",
       "      <td>0.1264</td>\n",
       "      <td>...</td>\n",
       "      <td>0.0241</td>\n",
       "      <td>0.0121</td>\n",
       "      <td>0.0036</td>\n",
       "      <td>0.0150</td>\n",
       "      <td>0.0085</td>\n",
       "      <td>0.0073</td>\n",
       "      <td>0.0050</td>\n",
       "      <td>0.0044</td>\n",
       "      <td>0.0040</td>\n",
       "      <td>0.0117</td>\n",
       "    </tr>\n",
       "    <tr>\n",
       "      <th>4</th>\n",
       "      <td>0.0762</td>\n",
       "      <td>0.0666</td>\n",
       "      <td>0.0481</td>\n",
       "      <td>0.0394</td>\n",
       "      <td>0.0590</td>\n",
       "      <td>0.0649</td>\n",
       "      <td>0.1209</td>\n",
       "      <td>0.2467</td>\n",
       "      <td>0.3564</td>\n",
       "      <td>0.4459</td>\n",
       "      <td>...</td>\n",
       "      <td>0.0156</td>\n",
       "      <td>0.0031</td>\n",
       "      <td>0.0054</td>\n",
       "      <td>0.0105</td>\n",
       "      <td>0.0110</td>\n",
       "      <td>0.0015</td>\n",
       "      <td>0.0072</td>\n",
       "      <td>0.0048</td>\n",
       "      <td>0.0107</td>\n",
       "      <td>0.0094</td>\n",
       "    </tr>\n",
       "    <tr>\n",
       "      <th>5</th>\n",
       "      <td>0.0286</td>\n",
       "      <td>0.0453</td>\n",
       "      <td>0.0277</td>\n",
       "      <td>0.0174</td>\n",
       "      <td>0.0384</td>\n",
       "      <td>0.0990</td>\n",
       "      <td>0.1201</td>\n",
       "      <td>0.1833</td>\n",
       "      <td>0.2105</td>\n",
       "      <td>0.3039</td>\n",
       "      <td>...</td>\n",
       "      <td>0.0104</td>\n",
       "      <td>0.0045</td>\n",
       "      <td>0.0014</td>\n",
       "      <td>0.0038</td>\n",
       "      <td>0.0013</td>\n",
       "      <td>0.0089</td>\n",
       "      <td>0.0057</td>\n",
       "      <td>0.0027</td>\n",
       "      <td>0.0051</td>\n",
       "      <td>0.0062</td>\n",
       "    </tr>\n",
       "    <tr>\n",
       "      <th>6</th>\n",
       "      <td>0.0317</td>\n",
       "      <td>0.0956</td>\n",
       "      <td>0.1321</td>\n",
       "      <td>0.1408</td>\n",
       "      <td>0.1674</td>\n",
       "      <td>0.1710</td>\n",
       "      <td>0.0731</td>\n",
       "      <td>0.1401</td>\n",
       "      <td>0.2083</td>\n",
       "      <td>0.3513</td>\n",
       "      <td>...</td>\n",
       "      <td>0.0195</td>\n",
       "      <td>0.0201</td>\n",
       "      <td>0.0248</td>\n",
       "      <td>0.0131</td>\n",
       "      <td>0.0070</td>\n",
       "      <td>0.0138</td>\n",
       "      <td>0.0092</td>\n",
       "      <td>0.0143</td>\n",
       "      <td>0.0036</td>\n",
       "      <td>0.0103</td>\n",
       "    </tr>\n",
       "  </tbody>\n",
       "</table>\n",
       "<p>7 rows × 60 columns</p>\n",
       "</div>"
      ],
      "text/plain": [
       "     var1    var2    var3    var4    var5    var6    var7    var8    var9  \\\n",
       "0  0.0200  0.0371  0.0428  0.0207  0.0954  0.0986  0.1539  0.1601  0.3109   \n",
       "1  0.0453  0.0523  0.0843  0.0689  0.1183  0.2583  0.2156  0.3481  0.3337   \n",
       "2  0.0262  0.0582  0.1099  0.1083  0.0974  0.2280  0.2431  0.3771  0.5598   \n",
       "3  0.0100  0.0171  0.0623  0.0205  0.0205  0.0368  0.1098  0.1276  0.0598   \n",
       "4  0.0762  0.0666  0.0481  0.0394  0.0590  0.0649  0.1209  0.2467  0.3564   \n",
       "5  0.0286  0.0453  0.0277  0.0174  0.0384  0.0990  0.1201  0.1833  0.2105   \n",
       "6  0.0317  0.0956  0.1321  0.1408  0.1674  0.1710  0.0731  0.1401  0.2083   \n",
       "\n",
       "    var10  ...   var51   var52   var53   var54   var55   var56   var57  \\\n",
       "0  0.2111  ...  0.0232  0.0027  0.0065  0.0159  0.0072  0.0167  0.0180   \n",
       "1  0.2872  ...  0.0125  0.0084  0.0089  0.0048  0.0094  0.0191  0.0140   \n",
       "2  0.6194  ...  0.0033  0.0232  0.0166  0.0095  0.0180  0.0244  0.0316   \n",
       "3  0.1264  ...  0.0241  0.0121  0.0036  0.0150  0.0085  0.0073  0.0050   \n",
       "4  0.4459  ...  0.0156  0.0031  0.0054  0.0105  0.0110  0.0015  0.0072   \n",
       "5  0.3039  ...  0.0104  0.0045  0.0014  0.0038  0.0013  0.0089  0.0057   \n",
       "6  0.3513  ...  0.0195  0.0201  0.0248  0.0131  0.0070  0.0138  0.0092   \n",
       "\n",
       "    var58   var59   var60  \n",
       "0  0.0084  0.0090  0.0032  \n",
       "1  0.0049  0.0052  0.0044  \n",
       "2  0.0164  0.0095  0.0078  \n",
       "3  0.0044  0.0040  0.0117  \n",
       "4  0.0048  0.0107  0.0094  \n",
       "5  0.0027  0.0051  0.0062  \n",
       "6  0.0143  0.0036  0.0103  \n",
       "\n",
       "[7 rows x 60 columns]"
      ]
     },
     "execution_count": 4,
     "metadata": {},
     "output_type": "execute_result"
    }
   ],
   "source": [
    "#forming a dataframe from predictor variables\n",
    "\n",
    "column_names = ['var' + str(k) for k in range(1, 61)]\n",
    "X = pd.DataFrame(X, columns=column_names)\n",
    "X.head(7)"
   ]
  },
  {
   "cell_type": "code",
   "execution_count": 5,
   "metadata": {},
   "outputs": [],
   "source": [
    "#shortening the names of target variables in the obvious way\n",
    "\n",
    "y[y == 'Rock'] = 'R'\n",
    "y[y == 'Mine'] = 'M'"
   ]
  },
  {
   "cell_type": "code",
   "execution_count": 6,
   "metadata": {},
   "outputs": [
    {
     "data": {
      "text/plain": [
       "Index([], dtype='object')"
      ]
     },
     "execution_count": 6,
     "metadata": {},
     "output_type": "execute_result"
    }
   ],
   "source": [
    "#checking to see whether we have any missing values among features: No, there are not.\n",
    "\n",
    "X.columns[X.isnull().any()]"
   ]
  },
  {
   "cell_type": "code",
   "execution_count": 7,
   "metadata": {},
   "outputs": [
    {
     "data": {
      "text/plain": [
       "(array(['M', 'R'], dtype=object), array([111,  97], dtype=int64))"
      ]
     },
     "execution_count": 7,
     "metadata": {},
     "output_type": "execute_result"
    }
   ],
   "source": [
    "#checking to see whether the response variable seems to be balanced: Yes, it seems balanced.\n",
    "#also there are no missing values among the target variable.\n",
    "\n",
    "np.unique(y, return_counts=True)"
   ]
  },
  {
   "cell_type": "code",
   "execution_count": 8,
   "metadata": {},
   "outputs": [
    {
     "data": {
      "text/plain": [
       "0\n",
       "M    111\n",
       "R     97\n",
       "dtype: int64"
      ]
     },
     "execution_count": 8,
     "metadata": {},
     "output_type": "execute_result"
    }
   ],
   "source": [
    "#this is just another way of getting the counts for the response variable.\n",
    "\n",
    "pd.DataFrame(y).groupby(0).size()"
   ]
  },
  {
   "cell_type": "code",
   "execution_count": 9,
   "metadata": {},
   "outputs": [
    {
     "data": {
      "image/png": "[encoded data removed]",
      "text/plain": [
       "<Figure size 1296x864 with 60 Axes>"
      ]
     },
     "metadata": {},
     "output_type": "display_data"
    }
   ],
   "source": [
    "#distribution of each predictor variable grouped by the response variable.\n",
    "\n",
    "plt.figure(figsize=(18,12))\n",
    "\n",
    "for k in range(0,60):\n",
    "    plt.subplot(6, 10, k+1)\n",
    "    sns.kdeplot(X[(y == 'R')]['var'+str(k+1)], label='R')\n",
    "    sns.kdeplot(X[(y == 'M')]['var'+str(k+1)], label='M')\n",
    "    plt.title('var'+str(k+1))\n",
    "    plt.xticks([])\n",
    "    plt.yticks([])\n",
    "\n",
    "plt.legend()\n",
    "plt.show()"
   ]
  },
  {
   "cell_type": "markdown",
   "metadata": {},
   "source": [
    "#### Observations: \n",
    "\n",
    "1. Distributions of each feature as grouped by the response variable seem to be very close to each other. In fact, in some cases (var18, var39, var57, var60) they seem to be virtually indistinguishable. However, there is still hope to achieve the goal since we have 60 predictor variables.\n",
    "\n",
    "2. There are no missing values in the dataset.\n",
    "\n",
    "3. There is no gross inbalance of the response variable, so we don't have to worry about balancing them.\n"
   ]
  },
  {
   "cell_type": "markdown",
   "metadata": {},
   "source": [
    "## Step 2: Splitting the data into training and test sets"
   ]
  },
  {
   "cell_type": "code",
   "execution_count": 10,
   "metadata": {},
   "outputs": [],
   "source": [
    "# I am setting 20% data aside for the test set.\n",
    "\n",
    "from sklearn.model_selection import train_test_split\n",
    "X_train, X_test, y_train, y_test = train_test_split(X, y, test_size=0.20, stratify=y, random_state=2019)"
   ]
  },
  {
   "cell_type": "code",
   "execution_count": 11,
   "metadata": {},
   "outputs": [
    {
     "data": {
      "text/plain": [
       "(True, True)"
      ]
     },
     "execution_count": 11,
     "metadata": {},
     "output_type": "execute_result"
    }
   ],
   "source": [
    "#sanity check (ensuring that sizes match)\n",
    "\n",
    "(X_train.shape[0] + X_test.shape[0] == X.shape[0],\n",
    " y_train.size + y_test.size == y.size)"
   ]
  },
  {
   "cell_type": "code",
   "execution_count": 12,
   "metadata": {},
   "outputs": [
    {
     "name": "stdout",
     "output_type": "stream",
     "text": [
      "Train set counts:\n",
      "0\n",
      "M    89\n",
      "R    77\n",
      "dtype: int64\n",
      "Test set counts:\n",
      "0\n",
      "M    22\n",
      "R    20\n",
      "dtype: int64\n",
      "The ratio of the two:\n",
      "0\n",
      "M    4.045455\n",
      "R    3.850000\n",
      "dtype: float64\n"
     ]
    }
   ],
   "source": [
    "#sanity check 2 (ensuring that data is split in a stratified way)\n",
    "\n",
    "print('Train set counts:')\n",
    "print(pd.DataFrame(y_train).groupby(0).size())\n",
    "\n",
    "print('Test set counts:')\n",
    "print(pd.DataFrame(y_test).groupby(0).size())\n",
    "\n",
    "print('The ratio of the two:')\n",
    "print(pd.DataFrame(y_train).groupby(0).size() / pd.DataFrame(y_test).groupby(0).size())\n"
   ]
  },
  {
   "cell_type": "markdown",
   "metadata": {},
   "source": [
    "#### Notes:\n",
    "\n",
    "1. I assigned 80% of the data to the training set and the remaining 20% to the test set.\n",
    "\n",
    "2. The data is split in a stratified way to ensure equidistribution of the response variable in both sets.\n"
   ]
  },
  {
   "cell_type": "markdown",
   "metadata": {},
   "source": [
    "## Step 3: Trying Various Algorithms Straight Out of Box\n",
    "\n",
    "According to \"No Free Lunch Theorem\", there is no universal algorithm which outperforms all other methods. Equivalently, if you make no assumptions about the data, then there is no reason to prefer one model over any other. Thus, I will try a good number of models on the dataset and pick top performers for further study.\n",
    "\n",
    "I will use 'accuracy' as the metric to determine which model outperforms the others. Accuracy is the percentage of instances correctly classified. As it might be obvious to some, accuracy by itself will not be enough due to the fact that the 'cost' of misclassifying a mine as a rock is infinitely greater than the 'cost' of misclassifying a rock as a mine. As a result, we will switch to 'recall' (percentage of mines correctly classifed) later in the analysis."
   ]
  },
  {
   "cell_type": "markdown",
   "metadata": {},
   "source": [
    "### Setting the stage for algorithms that do NOT need scaling\n",
    "\n",
    "One could have scaled the data for all algorithms without running into time/computational power issues because the dataset is fairly small. However, I chose to separate the algorithms into two classes for the sake of consistency."
   ]
  },
  {
   "cell_type": "code",
   "execution_count": 13,
   "metadata": {},
   "outputs": [],
   "source": [
    "from sklearn.tree import DecisionTreeClassifier, ExtraTreeClassifier\n",
    "from sklearn.ensemble import (AdaBoostClassifier, \n",
    "                              BaggingClassifier, \n",
    "                              ExtraTreesClassifier, \n",
    "                              GradientBoostingClassifier,\n",
    "                              RandomForestClassifier)\n",
    "from sklearn.discriminant_analysis import (LinearDiscriminantAnalysis, \n",
    "                                           QuadraticDiscriminantAnalysis)\n",
    "from sklearn.naive_bayes import GaussianNB\n",
    "\n",
    "models_tree = [\n",
    "    ('DTC', DecisionTreeClassifier()),\n",
    "    ('ETC', ExtraTreeClassifier(random_state=2019))\n",
    "]\n",
    "\n",
    "models_ensemble = [\n",
    "    ('ADA', AdaBoostClassifier(random_state=2019)),\n",
    "    ('Bag', BaggingClassifier(random_state=2019)),\n",
    "    ('ETsC', ExtraTreesClassifier(random_state=2019)),\n",
    "    ('GBC', GradientBoostingClassifier(random_state=2019)),\n",
    "    ('RFC', RandomForestClassifier(random_state=2019))\n",
    "]\n",
    "\n",
    "models_da = [\n",
    "    ('LDA', LinearDiscriminantAnalysis()),\n",
    "    ('QDA', QuadraticDiscriminantAnalysis())\n",
    "]\n",
    "\n",
    "model_nb = [('GNB', GaussianNB())]"
   ]
  },
  {
   "cell_type": "code",
   "execution_count": 14,
   "metadata": {},
   "outputs": [],
   "source": [
    "models_need_NO_scaling = models_tree + models_ensemble + models_da + model_nb"
   ]
  },
  {
   "cell_type": "markdown",
   "metadata": {},
   "source": [
    "### Setting the stage for algorithms that need scaling"
   ]
  },
  {
   "cell_type": "code",
   "execution_count": 15,
   "metadata": {},
   "outputs": [],
   "source": [
    "from sklearn.linear_model import (LogisticRegression, \n",
    "                                  PassiveAggressiveClassifier, \n",
    "                                  RidgeClassifier, \n",
    "                                  SGDClassifier)\n",
    "from sklearn.neighbors import KNeighborsClassifier\n",
    "from sklearn.svm import SVC\n",
    "\n",
    "models_lin = [\n",
    "    ('Log_Reg', LogisticRegression()),\n",
    "    ('PAC', PassiveAggressiveClassifier()),\n",
    "    ('Ridge', RidgeClassifier()),\n",
    "    ('SGDC', SGDClassifier())\n",
    "]\n",
    "\n",
    "model_neigh = [('KNC', KNeighborsClassifier())]\n",
    "\n",
    "model_svm = [('SVC', SVC())]"
   ]
  },
  {
   "cell_type": "code",
   "execution_count": 16,
   "metadata": {},
   "outputs": [],
   "source": [
    "models_need_scaling = models_lin + model_neigh + model_svm"
   ]
  },
  {
   "cell_type": "markdown",
   "metadata": {},
   "source": [
    "### Trying algorithms that do NOT need scaling on the training set\n",
    "\n",
    "I am using 10-fold cross validation to evaluate my models on the training set with respect to 'accuracy'."
   ]
  },
  {
   "cell_type": "code",
   "execution_count": 17,
   "metadata": {
    "scrolled": true
   },
   "outputs": [
    {
     "name": "stderr",
     "output_type": "stream",
     "text": [
      "[Parallel(n_jobs=-1)]: Using backend LokyBackend with 8 concurrent workers.\n",
      "[Parallel(n_jobs=-1)]: Done   7 out of  10 | elapsed:    2.3s remaining:    0.9s\n",
      "[Parallel(n_jobs=-1)]: Done  10 out of  10 | elapsed:    2.3s finished\n",
      "[Parallel(n_jobs=-1)]: Using backend LokyBackend with 8 concurrent workers.\n",
      "[Parallel(n_jobs=-1)]: Done   7 out of  10 | elapsed:    0.0s remaining:    0.0s\n",
      "[Parallel(n_jobs=-1)]: Done  10 out of  10 | elapsed:    0.0s finished\n",
      "[Parallel(n_jobs=-1)]: Using backend LokyBackend with 8 concurrent workers.\n",
      "[Parallel(n_jobs=-1)]: Done   7 out of  10 | elapsed:    0.1s remaining:    0.0s\n",
      "[Parallel(n_jobs=-1)]: Done  10 out of  10 | elapsed:    0.1s finished\n",
      "[Parallel(n_jobs=-1)]: Using backend LokyBackend with 8 concurrent workers.\n",
      "[Parallel(n_jobs=-1)]: Done   7 out of  10 | elapsed:    0.0s remaining:    0.0s\n",
      "[Parallel(n_jobs=-1)]: Done  10 out of  10 | elapsed:    0.0s finished\n",
      "[Parallel(n_jobs=-1)]: Using backend LokyBackend with 8 concurrent workers.\n",
      "[Parallel(n_jobs=-1)]: Done   7 out of  10 | elapsed:    0.0s remaining:    0.0s\n",
      "[Parallel(n_jobs=-1)]: Done  10 out of  10 | elapsed:    0.0s finished\n",
      "[Parallel(n_jobs=-1)]: Using backend LokyBackend with 8 concurrent workers.\n",
      "[Parallel(n_jobs=-1)]: Done   7 out of  10 | elapsed:    0.1s remaining:    0.0s\n",
      "[Parallel(n_jobs=-1)]: Done  10 out of  10 | elapsed:    0.2s finished\n",
      "[Parallel(n_jobs=-1)]: Using backend LokyBackend with 8 concurrent workers.\n",
      "[Parallel(n_jobs=-1)]: Done   7 out of  10 | elapsed:    0.0s remaining:    0.0s\n",
      "[Parallel(n_jobs=-1)]: Done  10 out of  10 | elapsed:    0.0s finished\n",
      "[Parallel(n_jobs=-1)]: Using backend LokyBackend with 8 concurrent workers.\n",
      "[Parallel(n_jobs=-1)]: Done   7 out of  10 | elapsed:    0.0s remaining:    0.0s\n",
      "[Parallel(n_jobs=-1)]: Done  10 out of  10 | elapsed:    0.0s finished\n",
      "[Parallel(n_jobs=-1)]: Using backend LokyBackend with 8 concurrent workers.\n",
      "[Parallel(n_jobs=-1)]: Done   7 out of  10 | elapsed:    0.0s remaining:    0.0s\n",
      "[Parallel(n_jobs=-1)]: Done  10 out of  10 | elapsed:    0.0s finished\n",
      "[Parallel(n_jobs=-1)]: Using backend LokyBackend with 8 concurrent workers.\n",
      "[Parallel(n_jobs=-1)]: Done   7 out of  10 | elapsed:    0.0s remaining:    0.0s\n",
      "[Parallel(n_jobs=-1)]: Done  10 out of  10 | elapsed:    0.0s finished\n"
     ]
    }
   ],
   "source": [
    "from sklearn.model_selection import cross_val_score\n",
    "\n",
    "models = models_need_NO_scaling\n",
    "cv = 10\n",
    "scoring = 'accuracy'\n",
    "\n",
    "cv_results = {}\n",
    "\n",
    "for name, model in models:\n",
    "    cv_res = cross_val_score(model, X_train, y_train, cv=cv, scoring=scoring, verbose=2, n_jobs=-1)\n",
    "    cv_results[name] = cv_res"
   ]
  },
  {
   "cell_type": "code",
   "execution_count": 18,
   "metadata": {},
   "outputs": [],
   "source": [
    "results_df = pd.DataFrame(cv_results, index=range(1, cv+1))"
   ]
  },
  {
   "cell_type": "code",
   "execution_count": 19,
   "metadata": {},
   "outputs": [
    {
     "data": {
      "text/plain": [
       "QDA     0.626961\n",
       "ETC     0.671985\n",
       "GNB     0.686152\n",
       "Bag     0.734314\n",
       "LDA     0.735882\n",
       "DTC     0.741814\n",
       "RFC     0.782892\n",
       "ADA     0.802059\n",
       "GBC     0.802475\n",
       "ETsC    0.819338\n",
       "dtype: float64"
      ]
     },
     "execution_count": 19,
     "metadata": {},
     "output_type": "execute_result"
    }
   ],
   "source": [
    "results_df.mean(axis='index').sort_values()"
   ]
  },
  {
   "cell_type": "code",
   "execution_count": 20,
   "metadata": {},
   "outputs": [
    {
     "data": {
      "text/plain": [
       "DTC     0.101822\n",
       "ETC     0.154262\n",
       "ADA     0.072355\n",
       "Bag     0.082005\n",
       "ETsC    0.067668\n",
       "GBC     0.146171\n",
       "RFC     0.043434\n",
       "LDA     0.087941\n",
       "QDA     0.084297\n",
       "GNB     0.118149\n",
       "dtype: float64"
      ]
     },
     "execution_count": 20,
     "metadata": {},
     "output_type": "execute_result"
    }
   ],
   "source": [
    "results_df.std(axis='index')"
   ]
  },
  {
   "cell_type": "code",
   "execution_count": 21,
   "metadata": {},
   "outputs": [
    {
     "data": {
      "image/png": "[encoded data removed]",
      "text/plain": [
       "<Figure size 864x432 with 1 Axes>"
      ]
     },
     "metadata": {
      "needs_background": "light"
     },
     "output_type": "display_data"
    }
   ],
   "source": [
    "results_df.plot(kind='box', figsize=(12, 6))\n",
    "plt.title('CV scores for algorithms that do NOT need scaling')\n",
    "plt.axhline(y=0.8, color='red', linestyle='dashed')\n",
    "plt.ylabel('Accuracy')\n",
    "plt.show()"
   ]
  },
  {
   "cell_type": "markdown",
   "metadata": {},
   "source": [
    "### Trying algorithms that need scaling on the training set\n",
    "\n",
    "Again, I am using 10-fold cross validation to evaluate my models on the training set with respect to 'accuracy'.\n",
    "\n",
    "One has to be careful about data leakage! I formed a pipeline of each model with the Standard Scaler so as to prevent underestimation of errors in cross validation."
   ]
  },
  {
   "cell_type": "code",
   "execution_count": 22,
   "metadata": {},
   "outputs": [
    {
     "name": "stderr",
     "output_type": "stream",
     "text": [
      "[Parallel(n_jobs=-1)]: Using backend LokyBackend with 8 concurrent workers.\n",
      "[Parallel(n_jobs=-1)]: Done   7 out of  10 | elapsed:    0.0s remaining:    0.0s\n",
      "[Parallel(n_jobs=-1)]: Done  10 out of  10 | elapsed:    0.0s finished\n",
      "[Parallel(n_jobs=-1)]: Using backend LokyBackend with 8 concurrent workers.\n",
      "[Parallel(n_jobs=-1)]: Done   7 out of  10 | elapsed:    0.0s remaining:    0.0s\n",
      "[Parallel(n_jobs=-1)]: Done  10 out of  10 | elapsed:    0.0s finished\n",
      "[Parallel(n_jobs=-1)]: Using backend LokyBackend with 8 concurrent workers.\n",
      "[Parallel(n_jobs=-1)]: Done   7 out of  10 | elapsed:    0.0s remaining:    0.0s\n",
      "[Parallel(n_jobs=-1)]: Done  10 out of  10 | elapsed:    0.0s finished\n",
      "[Parallel(n_jobs=-1)]: Using backend LokyBackend with 8 concurrent workers.\n",
      "[Parallel(n_jobs=-1)]: Done   7 out of  10 | elapsed:    0.0s remaining:    0.0s\n",
      "[Parallel(n_jobs=-1)]: Done  10 out of  10 | elapsed:    0.0s finished\n",
      "[Parallel(n_jobs=-1)]: Using backend LokyBackend with 8 concurrent workers.\n",
      "[Parallel(n_jobs=-1)]: Done   7 out of  10 | elapsed:    0.0s remaining:    0.0s\n",
      "[Parallel(n_jobs=-1)]: Done  10 out of  10 | elapsed:    0.0s finished\n",
      "[Parallel(n_jobs=-1)]: Using backend LokyBackend with 8 concurrent workers.\n",
      "[Parallel(n_jobs=-1)]: Done   7 out of  10 | elapsed:    0.0s remaining:    0.0s\n",
      "[Parallel(n_jobs=-1)]: Done  10 out of  10 | elapsed:    0.0s finished\n"
     ]
    }
   ],
   "source": [
    "from sklearn.pipeline import Pipeline\n",
    "from sklearn.preprocessing import StandardScaler\n",
    "\n",
    "models_sc = models_need_scaling\n",
    "cv = 10\n",
    "scoring = 'accuracy'\n",
    "\n",
    "cv_results_sc = {}\n",
    "\n",
    "for name, model in models_sc:\n",
    "    model_pip = Pipeline([\n",
    "        ('scaler', StandardScaler()),\n",
    "        (name, model)\n",
    "    ])\n",
    "    cv_res = cross_val_score(model_pip, X_train, y_train, cv=cv, scoring=scoring, verbose=2, n_jobs=-1)\n",
    "    cv_results_sc[name] = cv_res"
   ]
  },
  {
   "cell_type": "code",
   "execution_count": 23,
   "metadata": {},
   "outputs": [],
   "source": [
    "results_df_sc = pd.DataFrame(cv_results_sc, index=range(1, cv+1))"
   ]
  },
  {
   "cell_type": "code",
   "execution_count": 24,
   "metadata": {},
   "outputs": [
    {
     "data": {
      "text/plain": [
       "PAC        0.723382\n",
       "SGDC       0.746863\n",
       "Log_Reg    0.752745\n",
       "Ridge      0.753162\n",
       "KNC        0.795809\n",
       "SVC        0.800172\n",
       "dtype: float64"
      ]
     },
     "execution_count": 24,
     "metadata": {},
     "output_type": "execute_result"
    }
   ],
   "source": [
    "results_df_sc.mean(axis='index').sort_values()"
   ]
  },
  {
   "cell_type": "code",
   "execution_count": 25,
   "metadata": {},
   "outputs": [
    {
     "data": {
      "text/plain": [
       "Log_Reg    0.113071\n",
       "PAC        0.117856\n",
       "Ridge      0.086086\n",
       "SGDC       0.124815\n",
       "KNC        0.109676\n",
       "SVC        0.073071\n",
       "dtype: float64"
      ]
     },
     "execution_count": 25,
     "metadata": {},
     "output_type": "execute_result"
    }
   ],
   "source": [
    "results_df_sc.std(axis='index')"
   ]
  },
  {
   "cell_type": "code",
   "execution_count": 26,
   "metadata": {},
   "outputs": [
    {
     "data": {
      "image/png": "[encoded data removed]",
      "text/plain": [
       "<Figure size 864x432 with 1 Axes>"
      ]
     },
     "metadata": {
      "needs_background": "light"
     },
     "output_type": "display_data"
    }
   ],
   "source": [
    "results_df_sc.plot(kind='box', figsize=(12, 6))\n",
    "plt.title('CV scores for algorithms that need scaling')\n",
    "plt.axhline(y=0.8, color='red', linestyle='dashed')\n",
    "plt.ylabel('Accuracy')\n",
    "plt.show()"
   ]
  },
  {
   "cell_type": "markdown",
   "metadata": {},
   "source": [
    "### Comparison of all out-of-box algorithms"
   ]
  },
  {
   "cell_type": "code",
   "execution_count": 27,
   "metadata": {},
   "outputs": [
    {
     "data": {
      "image/png": "[encoded data removed]",
      "text/plain": [
       "<Figure size 864x432 with 1 Axes>"
      ]
     },
     "metadata": {
      "needs_background": "light"
     },
     "output_type": "display_data"
    }
   ],
   "source": [
    "results = pd.concat([results_df, results_df_sc], axis='columns')\n",
    "\n",
    "results.plot(kind='box', figsize=(12, 6))\n",
    "plt.title('CV scores for all algorithms')\n",
    "plt.axhline(y=0.8, color='red', linestyle='dashed')\n",
    "plt.ylabel('Accuracy')\n",
    "plt.show()"
   ]
  },
  {
   "cell_type": "markdown",
   "metadata": {},
   "source": [
    "#### Results:\n",
    "\n",
    "The following algorithms deserve further study:\n",
    "1. SVC -- Support Vector Classifier\n",
    "2. KNC -- K-Neighbors Classifier\n",
    "3. ETsC -- Extra Trees Classifier\n",
    "4. GBC -- Gradient Boosting Classifier\n",
    "5. ADA -- Ada Boost Classifier\n",
    "\n",
    "Here we see that there are many models with very high variance, i.e. ETC, DTC, and others which is a direct result of the smallness of sample size."
   ]
  },
  {
   "cell_type": "markdown",
   "metadata": {},
   "source": [
    "## Step 4: Fine Tuning of Promising Algorithms\n",
    "\n",
    "I will fine-tune (find optimal hyperparameters) for the promising algorithms using 10-fold cross validation with respect to 'accuracy'."
   ]
  },
  {
   "cell_type": "code",
   "execution_count": 28,
   "metadata": {},
   "outputs": [],
   "source": [
    "from sklearn.model_selection import GridSearchCV"
   ]
  },
  {
   "cell_type": "markdown",
   "metadata": {},
   "source": [
    "### KNC -- K-Neighbors Classifier\n",
    "\n",
    "I am somewhat surprised to see that K-Neighbors Classifier turned out be one of the better performing algorithms on this data set. The surprising part is that KNC typically performs well on datasets with few features (residing in a low dimensional space) whereas our dataset is the opposite."
   ]
  },
  {
   "cell_type": "code",
   "execution_count": 29,
   "metadata": {
    "scrolled": true
   },
   "outputs": [
    {
     "name": "stdout",
     "output_type": "stream",
     "text": [
      "Fitting 10 folds for each of 20 candidates, totalling 200 fits\n"
     ]
    },
    {
     "name": "stderr",
     "output_type": "stream",
     "text": [
      "[Parallel(n_jobs=-1)]: Using backend LokyBackend with 8 concurrent workers.\n",
      "[Parallel(n_jobs=-1)]: Done 200 out of 200 | elapsed:    0.2s finished\n",
      "C:\\Users\\vava\\AppData\\Local\\Continuum\\anaconda3\\lib\\site-packages\\sklearn\\model_selection\\_search.py:814: DeprecationWarning: The default of the `iid` parameter will change from True to False in version 0.22 and will be removed in 0.24. This will change numeric results when test-set sizes are unequal.\n",
      "  DeprecationWarning)\n"
     ]
    }
   ],
   "source": [
    "neighbors = list(range(1, 21))  #default=5, bias decreases as it decreases\n",
    "par_grid_KNC = dict(KNC__n_neighbors=neighbors)\n",
    "\n",
    "model = Pipeline([\n",
    "    ('scaler', StandardScaler()),\n",
    "    ('KNC', KNeighborsClassifier())\n",
    "])\n",
    "\n",
    "grid_KNC = GridSearchCV(estimator=model, param_grid=par_grid_KNC, cv=10, \n",
    "                        verbose=2, n_jobs=-1, scoring='accuracy')\n",
    "grid_result_KNC = grid_KNC.fit(X_train, y_train)"
   ]
  },
  {
   "cell_type": "code",
   "execution_count": 30,
   "metadata": {},
   "outputs": [
    {
     "data": {
      "text/plain": [
       "{'KNC__n_neighbors': 1}"
      ]
     },
     "execution_count": 30,
     "metadata": {},
     "output_type": "execute_result"
    }
   ],
   "source": [
    "grid_result_KNC.best_params_"
   ]
  },
  {
   "cell_type": "code",
   "execution_count": 31,
   "metadata": {},
   "outputs": [
    {
     "data": {
      "text/plain": [
       "0.8192771084337349"
      ]
     },
     "execution_count": 31,
     "metadata": {},
     "output_type": "execute_result"
    }
   ],
   "source": [
    "grid_result_KNC.best_score_"
   ]
  },
  {
   "cell_type": "code",
   "execution_count": 32,
   "metadata": {},
   "outputs": [
    {
     "data": {
      "text/html": [
       "<div>\n",
       "<style scoped>\n",
       "    .dataframe tbody tr th:only-of-type {\n",
       "        vertical-align: middle;\n",
       "    }\n",
       "\n",
       "    .dataframe tbody tr th {\n",
       "        vertical-align: top;\n",
       "    }\n",
       "\n",
       "    .dataframe thead th {\n",
       "        text-align: right;\n",
       "    }\n",
       "</style>\n",
       "<table border=\"1\" class=\"dataframe\">\n",
       "  <thead>\n",
       "    <tr style=\"text-align: right;\">\n",
       "      <th></th>\n",
       "      <th>params</th>\n",
       "      <th>mean_test_score</th>\n",
       "      <th>std_test_score</th>\n",
       "      <th>rank_test_score</th>\n",
       "    </tr>\n",
       "  </thead>\n",
       "  <tbody>\n",
       "    <tr>\n",
       "      <th>0</th>\n",
       "      <td>{'KNC__n_neighbors': 1}</td>\n",
       "      <td>0.819277</td>\n",
       "      <td>0.064154</td>\n",
       "      <td>1</td>\n",
       "    </tr>\n",
       "    <tr>\n",
       "      <th>1</th>\n",
       "      <td>{'KNC__n_neighbors': 2}</td>\n",
       "      <td>0.819277</td>\n",
       "      <td>0.090992</td>\n",
       "      <td>1</td>\n",
       "    </tr>\n",
       "    <tr>\n",
       "      <th>2</th>\n",
       "      <td>{'KNC__n_neighbors': 3}</td>\n",
       "      <td>0.819277</td>\n",
       "      <td>0.086968</td>\n",
       "      <td>1</td>\n",
       "    </tr>\n",
       "    <tr>\n",
       "      <th>4</th>\n",
       "      <td>{'KNC__n_neighbors': 5}</td>\n",
       "      <td>0.795181</td>\n",
       "      <td>0.103751</td>\n",
       "      <td>4</td>\n",
       "    </tr>\n",
       "    <tr>\n",
       "      <th>6</th>\n",
       "      <td>{'KNC__n_neighbors': 7}</td>\n",
       "      <td>0.771084</td>\n",
       "      <td>0.131102</td>\n",
       "      <td>5</td>\n",
       "    </tr>\n",
       "    <tr>\n",
       "      <th>3</th>\n",
       "      <td>{'KNC__n_neighbors': 4}</td>\n",
       "      <td>0.765060</td>\n",
       "      <td>0.102469</td>\n",
       "      <td>6</td>\n",
       "    </tr>\n",
       "    <tr>\n",
       "      <th>7</th>\n",
       "      <td>{'KNC__n_neighbors': 8}</td>\n",
       "      <td>0.740964</td>\n",
       "      <td>0.127729</td>\n",
       "      <td>7</td>\n",
       "    </tr>\n",
       "  </tbody>\n",
       "</table>\n",
       "</div>"
      ],
      "text/plain": [
       "                    params  mean_test_score  std_test_score  rank_test_score\n",
       "0  {'KNC__n_neighbors': 1}         0.819277        0.064154                1\n",
       "1  {'KNC__n_neighbors': 2}         0.819277        0.090992                1\n",
       "2  {'KNC__n_neighbors': 3}         0.819277        0.086968                1\n",
       "4  {'KNC__n_neighbors': 5}         0.795181        0.103751                4\n",
       "6  {'KNC__n_neighbors': 7}         0.771084        0.131102                5\n",
       "3  {'KNC__n_neighbors': 4}         0.765060        0.102469                6\n",
       "7  {'KNC__n_neighbors': 8}         0.740964        0.127729                7"
      ]
     },
     "execution_count": 32,
     "metadata": {},
     "output_type": "execute_result"
    }
   ],
   "source": [
    "pd.DataFrame(grid_result_KNC.cv_results_)[['params', 'mean_test_score', \n",
    "                                           'std_test_score', 'rank_test_score']].sort_values('rank_test_score').head(7)"
   ]
  },
  {
   "cell_type": "markdown",
   "metadata": {},
   "source": [
    "#### The best estimator is with n_neighbors=1, 2, or 3. From these I will pick the one with lowest variance, i.e. n_neighbors=1."
   ]
  },
  {
   "cell_type": "markdown",
   "metadata": {},
   "source": [
    "### SVC -- Support Vector Classifier"
   ]
  },
  {
   "cell_type": "code",
   "execution_count": 33,
   "metadata": {},
   "outputs": [
    {
     "name": "stderr",
     "output_type": "stream",
     "text": [
      "[Parallel(n_jobs=-1)]: Using backend LokyBackend with 8 concurrent workers.\n"
     ]
    },
    {
     "name": "stdout",
     "output_type": "stream",
     "text": [
      "Fitting 10 folds for each of 224 candidates, totalling 2240 fits\n"
     ]
    },
    {
     "name": "stderr",
     "output_type": "stream",
     "text": [
      "[Parallel(n_jobs=-1)]: Done 214 tasks      | elapsed:    0.5s\n",
      "[Parallel(n_jobs=-1)]: Done 2240 out of 2240 | elapsed:    3.2s finished\n",
      "C:\\Users\\vava\\AppData\\Local\\Continuum\\anaconda3\\lib\\site-packages\\sklearn\\model_selection\\_search.py:814: DeprecationWarning: The default of the `iid` parameter will change from True to False in version 0.22 and will be removed in 0.24. This will change numeric results when test-set sizes are unequal.\n",
      "  DeprecationWarning)\n"
     ]
    }
   ],
   "source": [
    "C_val = [0.01, 0.05, 0.1, 0.25, 0.5, 0.75, 1.0, 1.25, 1.5, 1.75, 2.0, \n",
    "         3.0, 5.0, 10.0]   #default=1, bias increases as it decreases\n",
    "kernel =  ['linear', 'rbf', 'poly', 'sigmoid'] #default='rbf'\n",
    "degree = [2, 3, 4, 5] #default=3\n",
    "\n",
    "par_grid_svc = dict(svc__C=C_val, svc__kernel=kernel, svc__degree=degree)\n",
    "\n",
    "model = Pipeline([\n",
    "    ('scaler', StandardScaler()),\n",
    "    ('svc', SVC())\n",
    "])\n",
    "\n",
    "grid_svc = GridSearchCV(estimator=model, param_grid=par_grid_svc, cv=10, \n",
    "                        verbose=2, n_jobs=-1, scoring='accuracy')\n",
    "grid_result_svc = grid_svc.fit(X_train, y_train)"
   ]
  },
  {
   "cell_type": "code",
   "execution_count": 34,
   "metadata": {},
   "outputs": [
    {
     "data": {
      "text/plain": [
       "{'svc__C': 5.0, 'svc__degree': 2, 'svc__kernel': 'rbf'}"
      ]
     },
     "execution_count": 34,
     "metadata": {},
     "output_type": "execute_result"
    }
   ],
   "source": [
    "grid_result_svc.best_params_"
   ]
  },
  {
   "cell_type": "code",
   "execution_count": 35,
   "metadata": {},
   "outputs": [
    {
     "data": {
      "text/plain": [
       "0.8734939759036144"
      ]
     },
     "execution_count": 35,
     "metadata": {},
     "output_type": "execute_result"
    }
   ],
   "source": [
    "grid_result_svc.best_score_"
   ]
  },
  {
   "cell_type": "code",
   "execution_count": 36,
   "metadata": {},
   "outputs": [
    {
     "data": {
      "text/html": [
       "<div>\n",
       "<style scoped>\n",
       "    .dataframe tbody tr th:only-of-type {\n",
       "        vertical-align: middle;\n",
       "    }\n",
       "\n",
       "    .dataframe tbody tr th {\n",
       "        vertical-align: top;\n",
       "    }\n",
       "\n",
       "    .dataframe thead th {\n",
       "        text-align: right;\n",
       "    }\n",
       "</style>\n",
       "<table border=\"1\" class=\"dataframe\">\n",
       "  <thead>\n",
       "    <tr style=\"text-align: right;\">\n",
       "      <th></th>\n",
       "      <th>params</th>\n",
       "      <th>mean_test_score</th>\n",
       "      <th>std_test_score</th>\n",
       "      <th>rank_test_score</th>\n",
       "    </tr>\n",
       "  </thead>\n",
       "  <tbody>\n",
       "    <tr>\n",
       "      <th>221</th>\n",
       "      <td>{'svc__C': 10.0, 'svc__degree': 5, 'svc__kerne...</td>\n",
       "      <td>0.873494</td>\n",
       "      <td>0.069580</td>\n",
       "      <td>1</td>\n",
       "    </tr>\n",
       "    <tr>\n",
       "      <th>217</th>\n",
       "      <td>{'svc__C': 10.0, 'svc__degree': 4, 'svc__kerne...</td>\n",
       "      <td>0.873494</td>\n",
       "      <td>0.069580</td>\n",
       "      <td>1</td>\n",
       "    </tr>\n",
       "    <tr>\n",
       "      <th>213</th>\n",
       "      <td>{'svc__C': 10.0, 'svc__degree': 3, 'svc__kerne...</td>\n",
       "      <td>0.873494</td>\n",
       "      <td>0.069580</td>\n",
       "      <td>1</td>\n",
       "    </tr>\n",
       "    <tr>\n",
       "      <th>193</th>\n",
       "      <td>{'svc__C': 5.0, 'svc__degree': 2, 'svc__kernel...</td>\n",
       "      <td>0.873494</td>\n",
       "      <td>0.079113</td>\n",
       "      <td>1</td>\n",
       "    </tr>\n",
       "    <tr>\n",
       "      <th>197</th>\n",
       "      <td>{'svc__C': 5.0, 'svc__degree': 3, 'svc__kernel...</td>\n",
       "      <td>0.873494</td>\n",
       "      <td>0.079113</td>\n",
       "      <td>1</td>\n",
       "    </tr>\n",
       "    <tr>\n",
       "      <th>209</th>\n",
       "      <td>{'svc__C': 10.0, 'svc__degree': 2, 'svc__kerne...</td>\n",
       "      <td>0.873494</td>\n",
       "      <td>0.069580</td>\n",
       "      <td>1</td>\n",
       "    </tr>\n",
       "    <tr>\n",
       "      <th>201</th>\n",
       "      <td>{'svc__C': 5.0, 'svc__degree': 4, 'svc__kernel...</td>\n",
       "      <td>0.873494</td>\n",
       "      <td>0.079113</td>\n",
       "      <td>1</td>\n",
       "    </tr>\n",
       "    <tr>\n",
       "      <th>205</th>\n",
       "      <td>{'svc__C': 5.0, 'svc__degree': 5, 'svc__kernel...</td>\n",
       "      <td>0.873494</td>\n",
       "      <td>0.079113</td>\n",
       "      <td>1</td>\n",
       "    </tr>\n",
       "    <tr>\n",
       "      <th>189</th>\n",
       "      <td>{'svc__C': 3.0, 'svc__degree': 5, 'svc__kernel...</td>\n",
       "      <td>0.861446</td>\n",
       "      <td>0.055365</td>\n",
       "      <td>9</td>\n",
       "    </tr>\n",
       "    <tr>\n",
       "      <th>177</th>\n",
       "      <td>{'svc__C': 3.0, 'svc__degree': 2, 'svc__kernel...</td>\n",
       "      <td>0.861446</td>\n",
       "      <td>0.055365</td>\n",
       "      <td>9</td>\n",
       "    </tr>\n",
       "  </tbody>\n",
       "</table>\n",
       "</div>"
      ],
      "text/plain": [
       "                                                params  mean_test_score  \\\n",
       "221  {'svc__C': 10.0, 'svc__degree': 5, 'svc__kerne...         0.873494   \n",
       "217  {'svc__C': 10.0, 'svc__degree': 4, 'svc__kerne...         0.873494   \n",
       "213  {'svc__C': 10.0, 'svc__degree': 3, 'svc__kerne...         0.873494   \n",
       "193  {'svc__C': 5.0, 'svc__degree': 2, 'svc__kernel...         0.873494   \n",
       "197  {'svc__C': 5.0, 'svc__degree': 3, 'svc__kernel...         0.873494   \n",
       "209  {'svc__C': 10.0, 'svc__degree': 2, 'svc__kerne...         0.873494   \n",
       "201  {'svc__C': 5.0, 'svc__degree': 4, 'svc__kernel...         0.873494   \n",
       "205  {'svc__C': 5.0, 'svc__degree': 5, 'svc__kernel...         0.873494   \n",
       "189  {'svc__C': 3.0, 'svc__degree': 5, 'svc__kernel...         0.861446   \n",
       "177  {'svc__C': 3.0, 'svc__degree': 2, 'svc__kernel...         0.861446   \n",
       "\n",
       "     std_test_score  rank_test_score  \n",
       "221        0.069580                1  \n",
       "217        0.069580                1  \n",
       "213        0.069580                1  \n",
       "193        0.079113                1  \n",
       "197        0.079113                1  \n",
       "209        0.069580                1  \n",
       "201        0.079113                1  \n",
       "205        0.079113                1  \n",
       "189        0.055365                9  \n",
       "177        0.055365                9  "
      ]
     },
     "execution_count": 36,
     "metadata": {},
     "output_type": "execute_result"
    }
   ],
   "source": [
    "pd.DataFrame(grid_result_svc.cv_results_)[['params', 'mean_test_score', \n",
    "                                           'std_test_score', 'rank_test_score']].sort_values('rank_test_score').head(10)"
   ]
  },
  {
   "cell_type": "markdown",
   "metadata": {},
   "source": [
    "#### There are several models tied to the first spot. I will pick the one with lowest variance, i.e. C=10.0 and kernel='rbf"
   ]
  },
  {
   "cell_type": "markdown",
   "metadata": {},
   "source": [
    "## ETsC -- Extra Trees Classifier"
   ]
  },
  {
   "cell_type": "code",
   "execution_count": 37,
   "metadata": {},
   "outputs": [
    {
     "name": "stderr",
     "output_type": "stream",
     "text": [
      "[Parallel(n_jobs=-1)]: Using backend LokyBackend with 8 concurrent workers.\n"
     ]
    },
    {
     "name": "stdout",
     "output_type": "stream",
     "text": [
      "Fitting 10 folds for each of 99 candidates, totalling 990 fits\n"
     ]
    },
    {
     "name": "stderr",
     "output_type": "stream",
     "text": [
      "[Parallel(n_jobs=-1)]: Done 214 tasks      | elapsed:    3.4s\n",
      "[Parallel(n_jobs=-1)]: Done 975 out of 990 | elapsed:   14.2s remaining:    0.1s\n",
      "[Parallel(n_jobs=-1)]: Done 990 out of 990 | elapsed:   14.4s finished\n",
      "C:\\Users\\vava\\AppData\\Local\\Continuum\\anaconda3\\lib\\site-packages\\sklearn\\model_selection\\_search.py:814: DeprecationWarning: The default of the `iid` parameter will change from True to False in version 0.22 and will be removed in 0.24. This will change numeric results when test-set sizes are unequal.\n",
      "  DeprecationWarning)\n"
     ]
    }
   ],
   "source": [
    "n_estimators = [10, 25, 50, 75, 100, 115, 125, 135, 150]   #default=10, bias increases as it decreases\n",
    "max_depth =  [1, 2, 3, 5, 7, 10, 13, 15, 17, 19, 21] \n",
    "\n",
    "par_grid_X_tree = dict(n_estimators=n_estimators, max_depth=max_depth)\n",
    "\n",
    "model = ExtraTreesClassifier(random_state=2019)\n",
    "\n",
    "grid_X_tree = GridSearchCV(estimator=model, param_grid=par_grid_X_tree, cv=10, \n",
    "                        verbose=2, n_jobs=-1, scoring='accuracy')\n",
    "grid_result_X_tree = grid_X_tree.fit(X_train, y_train)"
   ]
  },
  {
   "cell_type": "code",
   "execution_count": 38,
   "metadata": {},
   "outputs": [
    {
     "data": {
      "text/plain": [
       "{'max_depth': 13, 'n_estimators': 25}"
      ]
     },
     "execution_count": 38,
     "metadata": {},
     "output_type": "execute_result"
    }
   ],
   "source": [
    "grid_result_X_tree.best_params_"
   ]
  },
  {
   "cell_type": "code",
   "execution_count": 39,
   "metadata": {},
   "outputs": [
    {
     "data": {
      "text/plain": [
       "0.8855421686746988"
      ]
     },
     "execution_count": 39,
     "metadata": {},
     "output_type": "execute_result"
    }
   ],
   "source": [
    "grid_result_X_tree.best_score_"
   ]
  },
  {
   "cell_type": "code",
   "execution_count": 40,
   "metadata": {},
   "outputs": [
    {
     "data": {
      "text/html": [
       "<div>\n",
       "<style scoped>\n",
       "    .dataframe tbody tr th:only-of-type {\n",
       "        vertical-align: middle;\n",
       "    }\n",
       "\n",
       "    .dataframe tbody tr th {\n",
       "        vertical-align: top;\n",
       "    }\n",
       "\n",
       "    .dataframe thead th {\n",
       "        text-align: right;\n",
       "    }\n",
       "</style>\n",
       "<table border=\"1\" class=\"dataframe\">\n",
       "  <thead>\n",
       "    <tr style=\"text-align: right;\">\n",
       "      <th></th>\n",
       "      <th>params</th>\n",
       "      <th>mean_test_score</th>\n",
       "      <th>std_test_score</th>\n",
       "      <th>rank_test_score</th>\n",
       "    </tr>\n",
       "  </thead>\n",
       "  <tbody>\n",
       "    <tr>\n",
       "      <th>55</th>\n",
       "      <td>{'max_depth': 13, 'n_estimators': 25}</td>\n",
       "      <td>0.885542</td>\n",
       "      <td>0.076535</td>\n",
       "      <td>1</td>\n",
       "    </tr>\n",
       "    <tr>\n",
       "      <th>65</th>\n",
       "      <td>{'max_depth': 15, 'n_estimators': 50}</td>\n",
       "      <td>0.873494</td>\n",
       "      <td>0.079019</td>\n",
       "      <td>2</td>\n",
       "    </tr>\n",
       "    <tr>\n",
       "      <th>83</th>\n",
       "      <td>{'max_depth': 19, 'n_estimators': 50}</td>\n",
       "      <td>0.873494</td>\n",
       "      <td>0.079019</td>\n",
       "      <td>2</td>\n",
       "    </tr>\n",
       "    <tr>\n",
       "      <th>92</th>\n",
       "      <td>{'max_depth': 21, 'n_estimators': 50}</td>\n",
       "      <td>0.873494</td>\n",
       "      <td>0.079019</td>\n",
       "      <td>2</td>\n",
       "    </tr>\n",
       "    <tr>\n",
       "      <th>74</th>\n",
       "      <td>{'max_depth': 17, 'n_estimators': 50}</td>\n",
       "      <td>0.867470</td>\n",
       "      <td>0.070978</td>\n",
       "      <td>5</td>\n",
       "    </tr>\n",
       "    <tr>\n",
       "      <th>56</th>\n",
       "      <td>{'max_depth': 13, 'n_estimators': 50}</td>\n",
       "      <td>0.867470</td>\n",
       "      <td>0.070978</td>\n",
       "      <td>5</td>\n",
       "    </tr>\n",
       "    <tr>\n",
       "      <th>91</th>\n",
       "      <td>{'max_depth': 21, 'n_estimators': 25}</td>\n",
       "      <td>0.861446</td>\n",
       "      <td>0.083420</td>\n",
       "      <td>7</td>\n",
       "    </tr>\n",
       "  </tbody>\n",
       "</table>\n",
       "</div>"
      ],
      "text/plain": [
       "                                   params  mean_test_score  std_test_score  \\\n",
       "55  {'max_depth': 13, 'n_estimators': 25}         0.885542        0.076535   \n",
       "65  {'max_depth': 15, 'n_estimators': 50}         0.873494        0.079019   \n",
       "83  {'max_depth': 19, 'n_estimators': 50}         0.873494        0.079019   \n",
       "92  {'max_depth': 21, 'n_estimators': 50}         0.873494        0.079019   \n",
       "74  {'max_depth': 17, 'n_estimators': 50}         0.867470        0.070978   \n",
       "56  {'max_depth': 13, 'n_estimators': 50}         0.867470        0.070978   \n",
       "91  {'max_depth': 21, 'n_estimators': 25}         0.861446        0.083420   \n",
       "\n",
       "    rank_test_score  \n",
       "55                1  \n",
       "65                2  \n",
       "83                2  \n",
       "92                2  \n",
       "74                5  \n",
       "56                5  \n",
       "91                7  "
      ]
     },
     "execution_count": 40,
     "metadata": {},
     "output_type": "execute_result"
    }
   ],
   "source": [
    "pd.DataFrame(grid_result_X_tree.cv_results_)[['params', 'mean_test_score', \n",
    "                                           'std_test_score', 'rank_test_score']].sort_values('rank_test_score').head(7)"
   ]
  },
  {
   "cell_type": "markdown",
   "metadata": {},
   "source": [
    "#### The best estimator is one with max_depth=13, n_estimators=25."
   ]
  },
  {
   "cell_type": "markdown",
   "metadata": {},
   "source": [
    "## GBC -- Gradient Boosting Classifier"
   ]
  },
  {
   "cell_type": "code",
   "execution_count": 41,
   "metadata": {},
   "outputs": [
    {
     "name": "stderr",
     "output_type": "stream",
     "text": [
      "[Parallel(n_jobs=-1)]: Using backend LokyBackend with 8 concurrent workers.\n"
     ]
    },
    {
     "name": "stdout",
     "output_type": "stream",
     "text": [
      "Fitting 10 folds for each of 240 candidates, totalling 2400 fits\n"
     ]
    },
    {
     "name": "stderr",
     "output_type": "stream",
     "text": [
      "[Parallel(n_jobs=-1)]: Done  52 tasks      | elapsed:    0.7s\n",
      "[Parallel(n_jobs=-1)]: Done 536 tasks      | elapsed:    9.5s\n",
      "[Parallel(n_jobs=-1)]: Done 1196 tasks      | elapsed:   23.9s\n",
      "[Parallel(n_jobs=-1)]: Done 1762 tasks      | elapsed:   39.1s\n",
      "[Parallel(n_jobs=-1)]: Done 2400 out of 2400 | elapsed:   58.6s finished\n",
      "C:\\Users\\vava\\AppData\\Local\\Continuum\\anaconda3\\lib\\site-packages\\sklearn\\model_selection\\_search.py:814: DeprecationWarning: The default of the `iid` parameter will change from True to False in version 0.22 and will be removed in 0.24. This will change numeric results when test-set sizes are unequal.\n",
      "  DeprecationWarning)\n"
     ]
    }
   ],
   "source": [
    "n_estimators = list(range(95, 151, 5))   #default=100, bias increases as it decreases\n",
    "max_depth = [1, 2, 3, 4, 5] #default=3\n",
    "learning_rate = [0.2, 0.1, 0.05, 0.01] #default=0.1\n",
    "\n",
    "par_grid_gb = dict(n_estimators=n_estimators, max_depth=max_depth, \n",
    "                   learning_rate=learning_rate)\n",
    "\n",
    "model = GradientBoostingClassifier(random_state=2019)\n",
    "\n",
    "grid_gb = GridSearchCV(estimator=model, param_grid=par_grid_gb, cv=10, \n",
    "                        verbose=2, n_jobs=-1, scoring='accuracy')\n",
    "grid_result_gb = grid_gb.fit(X_train, y_train)"
   ]
  },
  {
   "cell_type": "code",
   "execution_count": 42,
   "metadata": {},
   "outputs": [
    {
     "data": {
      "text/plain": [
       "{'learning_rate': 0.2, 'max_depth': 2, 'n_estimators': 115}"
      ]
     },
     "execution_count": 42,
     "metadata": {},
     "output_type": "execute_result"
    }
   ],
   "source": [
    "# it seems sklearn doesn't look at variance when picking the best estimator when there are several tied to the first place\n",
    "\n",
    "grid_result_gb.best_params_"
   ]
  },
  {
   "cell_type": "code",
   "execution_count": 43,
   "metadata": {},
   "outputs": [
    {
     "data": {
      "text/plain": [
       "0.8253012048192772"
      ]
     },
     "execution_count": 43,
     "metadata": {},
     "output_type": "execute_result"
    }
   ],
   "source": [
    "grid_result_gb.best_score_"
   ]
  },
  {
   "cell_type": "code",
   "execution_count": 44,
   "metadata": {},
   "outputs": [
    {
     "data": {
      "text/html": [
       "<div>\n",
       "<style scoped>\n",
       "    .dataframe tbody tr th:only-of-type {\n",
       "        vertical-align: middle;\n",
       "    }\n",
       "\n",
       "    .dataframe tbody tr th {\n",
       "        vertical-align: top;\n",
       "    }\n",
       "\n",
       "    .dataframe thead th {\n",
       "        text-align: right;\n",
       "    }\n",
       "</style>\n",
       "<table border=\"1\" class=\"dataframe\">\n",
       "  <thead>\n",
       "    <tr style=\"text-align: right;\">\n",
       "      <th></th>\n",
       "      <th>params</th>\n",
       "      <th>mean_test_score</th>\n",
       "      <th>std_test_score</th>\n",
       "      <th>rank_test_score</th>\n",
       "    </tr>\n",
       "  </thead>\n",
       "  <tbody>\n",
       "    <tr>\n",
       "      <th>141</th>\n",
       "      <td>{'learning_rate': 0.05, 'max_depth': 2, 'n_est...</td>\n",
       "      <td>0.825301</td>\n",
       "      <td>0.098061</td>\n",
       "      <td>1</td>\n",
       "    </tr>\n",
       "    <tr>\n",
       "      <th>140</th>\n",
       "      <td>{'learning_rate': 0.05, 'max_depth': 2, 'n_est...</td>\n",
       "      <td>0.825301</td>\n",
       "      <td>0.086543</td>\n",
       "      <td>1</td>\n",
       "    </tr>\n",
       "    <tr>\n",
       "      <th>139</th>\n",
       "      <td>{'learning_rate': 0.05, 'max_depth': 2, 'n_est...</td>\n",
       "      <td>0.825301</td>\n",
       "      <td>0.093553</td>\n",
       "      <td>1</td>\n",
       "    </tr>\n",
       "    <tr>\n",
       "      <th>138</th>\n",
       "      <td>{'learning_rate': 0.05, 'max_depth': 2, 'n_est...</td>\n",
       "      <td>0.825301</td>\n",
       "      <td>0.093553</td>\n",
       "      <td>1</td>\n",
       "    </tr>\n",
       "    <tr>\n",
       "      <th>137</th>\n",
       "      <td>{'learning_rate': 0.05, 'max_depth': 2, 'n_est...</td>\n",
       "      <td>0.825301</td>\n",
       "      <td>0.093553</td>\n",
       "      <td>1</td>\n",
       "    </tr>\n",
       "    <tr>\n",
       "      <th>80</th>\n",
       "      <td>{'learning_rate': 0.1, 'max_depth': 2, 'n_esti...</td>\n",
       "      <td>0.825301</td>\n",
       "      <td>0.102586</td>\n",
       "      <td>1</td>\n",
       "    </tr>\n",
       "    <tr>\n",
       "      <th>136</th>\n",
       "      <td>{'learning_rate': 0.05, 'max_depth': 2, 'n_est...</td>\n",
       "      <td>0.825301</td>\n",
       "      <td>0.093553</td>\n",
       "      <td>1</td>\n",
       "    </tr>\n",
       "    <tr>\n",
       "      <th>82</th>\n",
       "      <td>{'learning_rate': 0.1, 'max_depth': 2, 'n_esti...</td>\n",
       "      <td>0.825301</td>\n",
       "      <td>0.102586</td>\n",
       "      <td>1</td>\n",
       "    </tr>\n",
       "    <tr>\n",
       "      <th>16</th>\n",
       "      <td>{'learning_rate': 0.2, 'max_depth': 2, 'n_esti...</td>\n",
       "      <td>0.825301</td>\n",
       "      <td>0.099072</td>\n",
       "      <td>1</td>\n",
       "    </tr>\n",
       "    <tr>\n",
       "      <th>143</th>\n",
       "      <td>{'learning_rate': 0.05, 'max_depth': 2, 'n_est...</td>\n",
       "      <td>0.819277</td>\n",
       "      <td>0.096159</td>\n",
       "      <td>10</td>\n",
       "    </tr>\n",
       "  </tbody>\n",
       "</table>\n",
       "</div>"
      ],
      "text/plain": [
       "                                                params  mean_test_score  \\\n",
       "141  {'learning_rate': 0.05, 'max_depth': 2, 'n_est...         0.825301   \n",
       "140  {'learning_rate': 0.05, 'max_depth': 2, 'n_est...         0.825301   \n",
       "139  {'learning_rate': 0.05, 'max_depth': 2, 'n_est...         0.825301   \n",
       "138  {'learning_rate': 0.05, 'max_depth': 2, 'n_est...         0.825301   \n",
       "137  {'learning_rate': 0.05, 'max_depth': 2, 'n_est...         0.825301   \n",
       "80   {'learning_rate': 0.1, 'max_depth': 2, 'n_esti...         0.825301   \n",
       "136  {'learning_rate': 0.05, 'max_depth': 2, 'n_est...         0.825301   \n",
       "82   {'learning_rate': 0.1, 'max_depth': 2, 'n_esti...         0.825301   \n",
       "16   {'learning_rate': 0.2, 'max_depth': 2, 'n_esti...         0.825301   \n",
       "143  {'learning_rate': 0.05, 'max_depth': 2, 'n_est...         0.819277   \n",
       "\n",
       "     std_test_score  rank_test_score  \n",
       "141        0.098061                1  \n",
       "140        0.086543                1  \n",
       "139        0.093553                1  \n",
       "138        0.093553                1  \n",
       "137        0.093553                1  \n",
       "80         0.102586                1  \n",
       "136        0.093553                1  \n",
       "82         0.102586                1  \n",
       "16         0.099072                1  \n",
       "143        0.096159               10  "
      ]
     },
     "execution_count": 44,
     "metadata": {},
     "output_type": "execute_result"
    }
   ],
   "source": [
    "pd.DataFrame(grid_result_gb.cv_results_)[['params', 'mean_test_score', \n",
    "                                           'std_test_score', 'rank_test_score']].sort_values('rank_test_score').head(10)"
   ]
  },
  {
   "cell_type": "code",
   "execution_count": 45,
   "metadata": {},
   "outputs": [
    {
     "data": {
      "text/plain": [
       "{'learning_rate': 0.05, 'max_depth': 2, 'n_estimators': 135}"
      ]
     },
     "execution_count": 45,
     "metadata": {},
     "output_type": "execute_result"
    }
   ],
   "source": [
    "pd.DataFrame(grid_result_gb.cv_results_).loc[140, ['params', 'mean_test_score', \n",
    "                                           'std_test_score', 'rank_test_score']][0]"
   ]
  },
  {
   "cell_type": "markdown",
   "metadata": {},
   "source": [
    "#### The best estimator seems to be with learning_rate=0.05, max_depth=2, and n_estimators=135. There are 9 estimators tied to the first place and I picked the one with smallest variance"
   ]
  },
  {
   "cell_type": "markdown",
   "metadata": {},
   "source": [
    "## ADA -- Ada Boost Classifier"
   ]
  },
  {
   "cell_type": "code",
   "execution_count": 46,
   "metadata": {},
   "outputs": [
    {
     "name": "stderr",
     "output_type": "stream",
     "text": [
      "[Parallel(n_jobs=-1)]: Using backend LokyBackend with 8 concurrent workers.\n"
     ]
    },
    {
     "name": "stdout",
     "output_type": "stream",
     "text": [
      "Fitting 10 folds for each of 196 candidates, totalling 1960 fits\n"
     ]
    },
    {
     "name": "stderr",
     "output_type": "stream",
     "text": [
      "[Parallel(n_jobs=-1)]: Done 106 tasks      | elapsed:    2.6s\n",
      "[Parallel(n_jobs=-1)]: Done 514 tasks      | elapsed:   15.4s\n",
      "[Parallel(n_jobs=-1)]: Done 920 tasks      | elapsed:   27.6s\n",
      "[Parallel(n_jobs=-1)]: Done 1486 tasks      | elapsed:   45.6s\n",
      "[Parallel(n_jobs=-1)]: Done 1960 out of 1960 | elapsed:  1.0min finished\n",
      "C:\\Users\\vava\\AppData\\Local\\Continuum\\anaconda3\\lib\\site-packages\\sklearn\\model_selection\\_search.py:814: DeprecationWarning: The default of the `iid` parameter will change from True to False in version 0.22 and will be removed in 0.24. This will change numeric results when test-set sizes are unequal.\n",
      "  DeprecationWarning)\n"
     ]
    }
   ],
   "source": [
    "n_estimators = list(range(15, 151, 5))   #default=50, bias increases as it decreases\n",
    "learning_rate = [1.0, 0.25, 0.2, 0.15, 0.1, 0.05, 0.01] #default=1\n",
    "\n",
    "par_grid_ada = dict(n_estimators=n_estimators, learning_rate=learning_rate)\n",
    "\n",
    "model = AdaBoostClassifier(random_state=2019)\n",
    "\n",
    "grid_ada = GridSearchCV(estimator=model, param_grid=par_grid_ada, cv=10, \n",
    "                        verbose=2, n_jobs=-1, scoring='accuracy')\n",
    "grid_result_ada = grid_ada.fit(X_train, y_train)"
   ]
  },
  {
   "cell_type": "code",
   "execution_count": 47,
   "metadata": {},
   "outputs": [
    {
     "data": {
      "text/plain": [
       "{'learning_rate': 0.25, 'n_estimators': 40}"
      ]
     },
     "execution_count": 47,
     "metadata": {},
     "output_type": "execute_result"
    }
   ],
   "source": [
    "grid_result_ada.best_params_"
   ]
  },
  {
   "cell_type": "code",
   "execution_count": 48,
   "metadata": {},
   "outputs": [
    {
     "data": {
      "text/plain": [
       "0.8373493975903614"
      ]
     },
     "execution_count": 48,
     "metadata": {},
     "output_type": "execute_result"
    }
   ],
   "source": [
    "grid_result_ada.best_score_"
   ]
  },
  {
   "cell_type": "code",
   "execution_count": 49,
   "metadata": {},
   "outputs": [
    {
     "data": {
      "text/html": [
       "<div>\n",
       "<style scoped>\n",
       "    .dataframe tbody tr th:only-of-type {\n",
       "        vertical-align: middle;\n",
       "    }\n",
       "\n",
       "    .dataframe tbody tr th {\n",
       "        vertical-align: top;\n",
       "    }\n",
       "\n",
       "    .dataframe thead th {\n",
       "        text-align: right;\n",
       "    }\n",
       "</style>\n",
       "<table border=\"1\" class=\"dataframe\">\n",
       "  <thead>\n",
       "    <tr style=\"text-align: right;\">\n",
       "      <th></th>\n",
       "      <th>params</th>\n",
       "      <th>mean_test_score</th>\n",
       "      <th>std_test_score</th>\n",
       "      <th>rank_test_score</th>\n",
       "    </tr>\n",
       "  </thead>\n",
       "  <tbody>\n",
       "    <tr>\n",
       "      <th>33</th>\n",
       "      <td>{'learning_rate': 0.25, 'n_estimators': 40}</td>\n",
       "      <td>0.837349</td>\n",
       "      <td>0.091331</td>\n",
       "      <td>1</td>\n",
       "    </tr>\n",
       "    <tr>\n",
       "      <th>63</th>\n",
       "      <td>{'learning_rate': 0.2, 'n_estimators': 50}</td>\n",
       "      <td>0.837349</td>\n",
       "      <td>0.097757</td>\n",
       "      <td>1</td>\n",
       "    </tr>\n",
       "    <tr>\n",
       "      <th>62</th>\n",
       "      <td>{'learning_rate': 0.2, 'n_estimators': 45}</td>\n",
       "      <td>0.825301</td>\n",
       "      <td>0.092354</td>\n",
       "      <td>3</td>\n",
       "    </tr>\n",
       "    <tr>\n",
       "      <th>12</th>\n",
       "      <td>{'learning_rate': 1.0, 'n_estimators': 75}</td>\n",
       "      <td>0.825301</td>\n",
       "      <td>0.076201</td>\n",
       "      <td>3</td>\n",
       "    </tr>\n",
       "    <tr>\n",
       "      <th>64</th>\n",
       "      <td>{'learning_rate': 0.2, 'n_estimators': 55}</td>\n",
       "      <td>0.819277</td>\n",
       "      <td>0.097864</td>\n",
       "      <td>5</td>\n",
       "    </tr>\n",
       "    <tr>\n",
       "      <th>92</th>\n",
       "      <td>{'learning_rate': 0.15, 'n_estimators': 55}</td>\n",
       "      <td>0.819277</td>\n",
       "      <td>0.097864</td>\n",
       "      <td>5</td>\n",
       "    </tr>\n",
       "    <tr>\n",
       "      <th>93</th>\n",
       "      <td>{'learning_rate': 0.15, 'n_estimators': 60}</td>\n",
       "      <td>0.819277</td>\n",
       "      <td>0.094173</td>\n",
       "      <td>5</td>\n",
       "    </tr>\n",
       "  </tbody>\n",
       "</table>\n",
       "</div>"
      ],
      "text/plain": [
       "                                         params  mean_test_score  \\\n",
       "33  {'learning_rate': 0.25, 'n_estimators': 40}         0.837349   \n",
       "63   {'learning_rate': 0.2, 'n_estimators': 50}         0.837349   \n",
       "62   {'learning_rate': 0.2, 'n_estimators': 45}         0.825301   \n",
       "12   {'learning_rate': 1.0, 'n_estimators': 75}         0.825301   \n",
       "64   {'learning_rate': 0.2, 'n_estimators': 55}         0.819277   \n",
       "92  {'learning_rate': 0.15, 'n_estimators': 55}         0.819277   \n",
       "93  {'learning_rate': 0.15, 'n_estimators': 60}         0.819277   \n",
       "\n",
       "    std_test_score  rank_test_score  \n",
       "33        0.091331                1  \n",
       "63        0.097757                1  \n",
       "62        0.092354                3  \n",
       "12        0.076201                3  \n",
       "64        0.097864                5  \n",
       "92        0.097864                5  \n",
       "93        0.094173                5  "
      ]
     },
     "execution_count": 49,
     "metadata": {},
     "output_type": "execute_result"
    }
   ],
   "source": [
    "pd.DataFrame(grid_result_ada.cv_results_)[['params', 'mean_test_score', \n",
    "                                           'std_test_score', 'rank_test_score']].sort_values('rank_test_score').head(7)"
   ]
  },
  {
   "cell_type": "markdown",
   "metadata": {},
   "source": [
    "#### The best estimator seems to be with learning_rate=0.25 and n_estimators=40."
   ]
  },
  {
   "cell_type": "markdown",
   "metadata": {},
   "source": [
    "## Step 5: Evaluation of the Tuned Models on the Test Set"
   ]
  },
  {
   "cell_type": "code",
   "execution_count": 50,
   "metadata": {},
   "outputs": [],
   "source": [
    "from sklearn.metrics import accuracy_score, recall_score"
   ]
  },
  {
   "cell_type": "markdown",
   "metadata": {},
   "source": [
    "#### KNC -- K-Neighbors Classifier with n_neighbors=1"
   ]
  },
  {
   "cell_type": "code",
   "execution_count": 51,
   "metadata": {},
   "outputs": [
    {
     "name": "stdout",
     "output_type": "stream",
     "text": [
      "KNC accuracy:  0.8571428571428571\n",
      "KNC recall:  0.9090909090909091\n"
     ]
    }
   ],
   "source": [
    "scaler = StandardScaler()\n",
    "X_train_sc = scaler.fit_transform(X_train)\n",
    "X_test_sc = scaler.transform(X_test)\n",
    "\n",
    "knn = KNeighborsClassifier(n_neighbors=1)\n",
    "knn.fit(X_train_sc, y_train)\n",
    "preds = knn.predict(X_test_sc)\n",
    "print('KNC accuracy: ', accuracy_score(y_test, preds))\n",
    "print('KNC recall: ', recall_score(y_test, preds, pos_label='M'))"
   ]
  },
  {
   "cell_type": "markdown",
   "metadata": {},
   "source": [
    "This is truly weird! The accuracy on the test set is about 4% higher than the 10-fold cross validation accuracy on the training set. This is indicative of the high variance of the estimator coupled with small sample size."
   ]
  },
  {
   "cell_type": "markdown",
   "metadata": {},
   "source": [
    "#### SVC -- Support Vector Classifier with C=10.0 and kernel='rbf'"
   ]
  },
  {
   "cell_type": "code",
   "execution_count": 52,
   "metadata": {},
   "outputs": [
    {
     "name": "stdout",
     "output_type": "stream",
     "text": [
      "SVC accuracy:  0.9523809523809523\n",
      "SVC recall:  0.9545454545454546\n"
     ]
    }
   ],
   "source": [
    "svc = SVC(C=10.0, kernel='rbf')\n",
    "svc.fit(X_train_sc, y_train)\n",
    "preds = svc.predict(X_test_sc)\n",
    "print('SVC accuracy: ', accuracy_score(y_test, preds))\n",
    "print('SVC recall: ', recall_score(y_test, preds, pos_label='M'))"
   ]
  },
  {
   "cell_type": "markdown",
   "metadata": {},
   "source": [
    "Again, this is truly weird! The accuracy on the test set is about 8% higher than the 10-fold cross validation accuracy on the training set. This is indicative of the high variance of the estimator coupled with small sample size."
   ]
  },
  {
   "cell_type": "markdown",
   "metadata": {},
   "source": [
    "#### ETsC -- Extra Trees Classifier with max_depth=13 and n_estimators=25."
   ]
  },
  {
   "cell_type": "code",
   "execution_count": 53,
   "metadata": {},
   "outputs": [
    {
     "name": "stdout",
     "output_type": "stream",
     "text": [
      "ETsC accuracy:  0.8809523809523809\n",
      "ETsC recall:  1.0\n"
     ]
    }
   ],
   "source": [
    "x_tree = ExtraTreesClassifier(max_depth=13, n_estimators=25, random_state=2019)\n",
    "x_tree.fit(X_train, y_train)\n",
    "preds = x_tree.predict(X_test)\n",
    "print('ETsC accuracy: ', accuracy_score(y_test, preds))\n",
    "print('ETsC recall: ', recall_score(y_test, preds, pos_label='M'))"
   ]
  },
  {
   "cell_type": "markdown",
   "metadata": {},
   "source": [
    "We might have a winner here! Even though the accuracy of this estimator is lower than three others, it has perfect recall."
   ]
  },
  {
   "cell_type": "markdown",
   "metadata": {},
   "source": [
    "#### GBC -- Gradient Boosting Classifier with learning_rate=0.05, max_depth=2, and n_estimators=135"
   ]
  },
  {
   "cell_type": "code",
   "execution_count": 54,
   "metadata": {
    "scrolled": true
   },
   "outputs": [
    {
     "name": "stdout",
     "output_type": "stream",
     "text": [
      "GBC accuracy:  0.9047619047619048\n",
      "GBC recall:  0.9090909090909091\n"
     ]
    }
   ],
   "source": [
    "grad_boost = GradientBoostingClassifier(learning_rate=0.05, max_depth=2, n_estimators=115, random_state=2019)\n",
    "grad_boost.fit(X_train, y_train)\n",
    "preds = grad_boost.predict(X_test)\n",
    "print('GBC accuracy: ', accuracy_score(y_test, preds))\n",
    "print('GBC recall: ', recall_score(y_test, preds, pos_label='M'))"
   ]
  },
  {
   "cell_type": "markdown",
   "metadata": {},
   "source": [
    "Again, this is truly weird! The accuracy on the test set is about 8% higher than the 10-fold cross validation accuracy on the training set. This is indicative of the high variance of the estimator coupled with small sample size."
   ]
  },
  {
   "cell_type": "markdown",
   "metadata": {},
   "source": [
    "#### ADA -- Ada Boost Classifier with learning_rate=0.25 and n_estimators=40"
   ]
  },
  {
   "cell_type": "code",
   "execution_count": 55,
   "metadata": {},
   "outputs": [
    {
     "name": "stdout",
     "output_type": "stream",
     "text": [
      "ADA accuracy:  0.8095238095238095\n",
      "ADA recall:  0.8636363636363636\n"
     ]
    }
   ],
   "source": [
    "ada_boost = AdaBoostClassifier(learning_rate=0.25, n_estimators=40, random_state=2019)\n",
    "ada_boost.fit(X_train, y_train)\n",
    "preds = ada_boost.predict(X_test)\n",
    "print('ADA accuracy: ', accuracy_score(y_test, preds))\n",
    "print('ADA recall: ', recall_score(y_test, preds, pos_label='M'))"
   ]
  },
  {
   "cell_type": "markdown",
   "metadata": {},
   "source": [
    "## Step 6: Evaluation of the Extra Trees Classifier"
   ]
  },
  {
   "cell_type": "code",
   "execution_count": 56,
   "metadata": {},
   "outputs": [
    {
     "name": "stdout",
     "output_type": "stream",
     "text": [
      "ETsC accuracy on the training set:  1.0\n",
      "ETsC recall on the training set:  1.0\n"
     ]
    }
   ],
   "source": [
    "print('ETsC accuracy on the training set: ', accuracy_score(y_train, x_tree.predict(X_train)))\n",
    "print('ETsC recall on the training set: ', recall_score(y_train, x_tree.predict(X_train), pos_label='M'))"
   ]
  },
  {
   "cell_type": "code",
   "execution_count": 57,
   "metadata": {},
   "outputs": [
    {
     "name": "stdout",
     "output_type": "stream",
     "text": [
      "ETsC accuracy on the test set:  0.8809523809523809\n",
      "ETsC recall on the test set:  1.0\n"
     ]
    }
   ],
   "source": [
    "print('ETsC accuracy on the test set: ', accuracy_score(y_test, x_tree.predict(X_test)))\n",
    "print('ETsC recall on the test set: ', recall_score(y_test, x_tree.predict(X_test), pos_label='M'))"
   ]
  },
  {
   "cell_type": "code",
   "execution_count": 58,
   "metadata": {},
   "outputs": [],
   "source": [
    "from sklearn.metrics import roc_curve, roc_auc_score"
   ]
  },
  {
   "cell_type": "code",
   "execution_count": 59,
   "metadata": {},
   "outputs": [
    {
     "data": {
      "image/png": "[encoded data removed]",
      "text/plain": [
       "<Figure size 432x288 with 1 Axes>"
      ]
     },
     "metadata": {
      "needs_background": "light"
     },
     "output_type": "display_data"
    }
   ],
   "source": [
    "fpr, tpr, thresholds = roc_curve((y_test == 'M') * 1, (x_tree.predict(X_test) == 'M') * 1)\n",
    "plt.plot(fpr, tpr)\n",
    "plt.plot([0, 1], [0, 1], color='red', linestyle='--')\n",
    "plt.xlabel('False Positive Rate')\n",
    "plt.ylabel('True Positive Rate')\n",
    "plt.title('ROC Curve for the Extra Trees Classifier')\n",
    "plt.show()"
   ]
  },
  {
   "cell_type": "code",
   "execution_count": 60,
   "metadata": {},
   "outputs": [
    {
     "name": "stdout",
     "output_type": "stream",
     "text": [
      "Area under the Curve for the Extra Trees Classifier:  0.875\n"
     ]
    }
   ],
   "source": [
    "auc = roc_auc_score((y_test == 'M') * 1, (x_tree.predict(X_test) == 'M') * 1)\n",
    "print('Area under the Curve for the Extra Trees Classifier: ', auc)"
   ]
  },
  {
   "cell_type": "markdown",
   "metadata": {},
   "source": [
    "## Step 7: How reliable is the Extra Trees Classifier for this dataset?"
   ]
  },
  {
   "cell_type": "markdown",
   "metadata": {},
   "source": [
    "It seems to me that I got somehow lucky by choosing random_state=2019. Now, I will vary the random_state for 100 times and average the results in order to have a better sense of the reliability of the model."
   ]
  },
  {
   "cell_type": "code",
   "execution_count": 61,
   "metadata": {},
   "outputs": [],
   "source": [
    "acc_results = {}\n",
    "rec_results = {}\n",
    "\n",
    "for r in range(1970, 2070):\n",
    "    X_train, X_test, y_train, y_test = train_test_split(X, y, test_size=0.20, stratify=y, random_state=r)\n",
    "    x_tree = ExtraTreesClassifier(max_depth=13, n_estimators=25, random_state=r)\n",
    "    x_tree.fit(X_train, y_train)\n",
    "    preds = x_tree.predict(X_test)\n",
    "    acc = accuracy_score(y_test, preds)\n",
    "    acc_results[r] = acc\n",
    "    rec = recall_score(y_test, preds, pos_label='M')\n",
    "    rec_results[r] = rec"
   ]
  },
  {
   "cell_type": "code",
   "execution_count": 62,
   "metadata": {},
   "outputs": [
    {
     "name": "stdout",
     "output_type": "stream",
     "text": [
      "average accuracy of ETsC:  0.8426190476190477\n",
      "std of accuracy ETsC:  0.06198666742756468\n"
     ]
    }
   ],
   "source": [
    "print('average accuracy of ETsC: ', np.mean(list(acc_results.values())))\n",
    "print('std of accuracy ETsC: ', np.std(list(acc_results.values())))"
   ]
  },
  {
   "cell_type": "code",
   "execution_count": 63,
   "metadata": {},
   "outputs": [
    {
     "name": "stdout",
     "output_type": "stream",
     "text": [
      "average recall of ETsC:  0.8931818181818181\n",
      "std of recall of ETsC:  0.06472286757226427\n"
     ]
    }
   ],
   "source": [
    "print('average recall of ETsC: ', np.mean(list(rec_results.values())))\n",
    "print('std of recall of ETsC: ', np.std(list(rec_results.values())))"
   ]
  },
  {
   "cell_type": "markdown",
   "metadata": {},
   "source": [
    "This result confirms that I magically got lucky by choosing 2019 as the random_state. The result above shows that the average accuracy and recall of the model is lower."
   ]
  },
  {
   "cell_type": "markdown",
   "metadata": {},
   "source": [
    "## Step 8: Can SVC be better than ETsC on average?"
   ]
  },
  {
   "cell_type": "markdown",
   "metadata": {},
   "source": [
    "Now I will use the same procedure to answer the question."
   ]
  },
  {
   "cell_type": "code",
   "execution_count": 64,
   "metadata": {},
   "outputs": [],
   "source": [
    "acc_results = {}\n",
    "rec_results = {}\n",
    "\n",
    "for r in range(1970, 2070):\n",
    "    X_train, X_test, y_train, y_test = train_test_split(X, y, test_size=0.20, stratify=y, random_state=r)\n",
    "    model = Pipeline([\n",
    "    ('scaler', StandardScaler()),\n",
    "    ('svc', SVC(kernel='rbf', C=10.0))])\n",
    "    model.fit(X_train, y_train)\n",
    "    preds = model.predict(X_test)\n",
    "    acc = accuracy_score(y_test, preds)\n",
    "    acc_results[r] = acc\n",
    "    rec = recall_score(y_test, preds, pos_label='M')\n",
    "    rec_results[r] = rec"
   ]
  },
  {
   "cell_type": "code",
   "execution_count": 65,
   "metadata": {},
   "outputs": [
    {
     "name": "stdout",
     "output_type": "stream",
     "text": [
      "average accuracy of SVC:  0.8830952380952379\n",
      "std of accuracy SVC:  0.04654685786736052\n"
     ]
    }
   ],
   "source": [
    "print('average accuracy of SVC: ', np.mean(list(acc_results.values())))\n",
    "print('std of accuracy SVC: ', np.std(list(acc_results.values())))"
   ]
  },
  {
   "cell_type": "code",
   "execution_count": 66,
   "metadata": {},
   "outputs": [
    {
     "name": "stdout",
     "output_type": "stream",
     "text": [
      "average recall of SVC:  0.9268181818181818\n",
      "std of recall of SVC:  0.06677178351953889\n"
     ]
    }
   ],
   "source": [
    "print('average recall of SVC: ', np.mean(list(rec_results.values())))\n",
    "print('std of recall of SVC: ', np.std(list(rec_results.values())))"
   ]
  },
  {
   "cell_type": "markdown",
   "metadata": {},
   "source": [
    "And the answer is \"YES!\""
   ]
  },
  {
   "cell_type": "markdown",
   "metadata": {},
   "source": [
    "## Step 9: What about KNC?"
   ]
  },
  {
   "cell_type": "code",
   "execution_count": 67,
   "metadata": {},
   "outputs": [],
   "source": [
    "acc_results = {}\n",
    "rec_results = {}\n",
    "\n",
    "for r in range(1970, 2070):\n",
    "    X_train, X_test, y_train, y_test = train_test_split(X, y, test_size=0.20, stratify=y, random_state=r)\n",
    "    model = Pipeline([\n",
    "    ('scaler', StandardScaler()),\n",
    "    ('knc', KNeighborsClassifier(n_neighbors=1))])\n",
    "    model.fit(X_train, y_train)\n",
    "    preds = model.predict(X_test)\n",
    "    acc = accuracy_score(y_test, preds)\n",
    "    acc_results[r] = acc\n",
    "    rec = recall_score(y_test, preds, pos_label='M')\n",
    "    rec_results[r] = rec"
   ]
  },
  {
   "cell_type": "code",
   "execution_count": 68,
   "metadata": {},
   "outputs": [
    {
     "name": "stdout",
     "output_type": "stream",
     "text": [
      "average accuracy of KNC:  0.8588095238095238\n",
      "std of accuracy KNC:  0.04894059057567339\n"
     ]
    }
   ],
   "source": [
    "print('average accuracy of KNC: ', np.mean(list(acc_results.values())))\n",
    "print('std of accuracy KNC: ', np.std(list(acc_results.values())))"
   ]
  },
  {
   "cell_type": "code",
   "execution_count": 69,
   "metadata": {},
   "outputs": [
    {
     "name": "stdout",
     "output_type": "stream",
     "text": [
      "average recall of KNC:  0.9036363636363635\n",
      "std of recall of KNC:  0.05502816709244202\n"
     ]
    }
   ],
   "source": [
    "print('average recall of KNC: ', np.mean(list(rec_results.values())))\n",
    "print('std of recall of KNC: ', np.std(list(rec_results.values())))"
   ]
  },
  {
   "cell_type": "markdown",
   "metadata": {},
   "source": [
    "Better than ETsC, but not as good as SVC!"
   ]
  },
  {
   "cell_type": "markdown",
   "metadata": {},
   "source": [
    "## Step 10: What about GBC and ADA?"
   ]
  },
  {
   "cell_type": "code",
   "execution_count": 70,
   "metadata": {},
   "outputs": [],
   "source": [
    "acc_results = {}\n",
    "rec_results = {}\n",
    "\n",
    "for r in range(1970, 2070):\n",
    "    X_train, X_test, y_train, y_test = train_test_split(X, y, test_size=0.20, stratify=y, random_state=r)\n",
    "    model = GradientBoostingClassifier(learning_rate=0.05, max_depth=2, n_estimators=115, random_state=r)\n",
    "    model.fit(X_train, y_train)\n",
    "    preds = model.predict(X_test)\n",
    "    acc = accuracy_score(y_test, preds)\n",
    "    acc_results[r] = acc\n",
    "    rec = recall_score(y_test, preds, pos_label='M')\n",
    "    rec_results[r] = rec"
   ]
  },
  {
   "cell_type": "code",
   "execution_count": 71,
   "metadata": {},
   "outputs": [
    {
     "name": "stdout",
     "output_type": "stream",
     "text": [
      "average accuracy of GBC:  0.8169047619047619\n",
      "std of accuracy GBC:  0.0638605872442041\n"
     ]
    }
   ],
   "source": [
    "print('average accuracy of GBC: ', np.mean(list(acc_results.values())))\n",
    "print('std of accuracy GBC: ', np.std(list(acc_results.values())))"
   ]
  },
  {
   "cell_type": "code",
   "execution_count": 72,
   "metadata": {},
   "outputs": [
    {
     "name": "stdout",
     "output_type": "stream",
     "text": [
      "average recall of GBC:  0.8568181818181817\n",
      "std of recall of GBC:  0.08241574711122157\n"
     ]
    }
   ],
   "source": [
    "print('average recall of GBC: ', np.mean(list(rec_results.values())))\n",
    "print('std of recall of GBC: ', np.std(list(rec_results.values())))"
   ]
  },
  {
   "cell_type": "code",
   "execution_count": 73,
   "metadata": {},
   "outputs": [],
   "source": [
    "acc_results = {}\n",
    "rec_results = {}\n",
    "\n",
    "for r in range(1970, 2070):\n",
    "    X_train, X_test, y_train, y_test = train_test_split(X, y, test_size=0.20, stratify=y, random_state=r)\n",
    "    model = AdaBoostClassifier(learning_rate=0.25, n_estimators=40, random_state=r)\n",
    "    model.fit(X_train, y_train)\n",
    "    preds = model.predict(X_test)\n",
    "    acc = accuracy_score(y_test, preds)\n",
    "    acc_results[r] = acc\n",
    "    rec = recall_score(y_test, preds, pos_label='M')\n",
    "    rec_results[r] = rec"
   ]
  },
  {
   "cell_type": "code",
   "execution_count": 74,
   "metadata": {},
   "outputs": [
    {
     "name": "stdout",
     "output_type": "stream",
     "text": [
      "average accuracy of ADA:  0.7866666666666667\n",
      "std of accuracy ADA:  0.0701407719600837\n"
     ]
    }
   ],
   "source": [
    "print('average accuracy of ADA: ', np.mean(list(acc_results.values())))\n",
    "print('std of accuracy ADA: ', np.std(list(acc_results.values())))"
   ]
  },
  {
   "cell_type": "code",
   "execution_count": 75,
   "metadata": {},
   "outputs": [
    {
     "name": "stdout",
     "output_type": "stream",
     "text": [
      "average recall of ADA:  0.8249999999999997\n",
      "std of recall of ADA:  0.08775788443776282\n"
     ]
    }
   ],
   "source": [
    "print('average recall of ADA: ', np.mean(list(rec_results.values())))\n",
    "print('std of recall of ADA: ', np.std(list(rec_results.values())))"
   ]
  },
  {
   "cell_type": "markdown",
   "metadata": {},
   "source": [
    "## Conclusion"
   ]
  },
  {
   "cell_type": "markdown",
   "metadata": {},
   "source": [
    "If I am forced to pick a model, I would pick SVC since it outperformed all other models on the average. The results are far from acceptable for such a sensitive goal though!\n",
    "The moral is that all models have high variance on small datasets and one should not settle for a model that might outperform others due to pure luck."
   ]
  },
  {
   "cell_type": "code",
   "execution_count": null,
   "metadata": {},
   "outputs": [],
   "source": []
  }
 ],
 "metadata": {
  "kernelspec": {
   "display_name": "Python 3",
   "language": "python",
   "name": "python3"
  },
  "language_info": {
   "codemirror_mode": {
    "name": "ipython",
    "version": 3
   },
   "file_extension": ".py",
   "mimetype": "text/x-python",
   "name": "python",
   "nbconvert_exporter": "python",
   "pygments_lexer": "ipython3",
   "version": "3.7.4"
  }
 },
 "nbformat": 4,
 "nbformat_minor": 4
}
