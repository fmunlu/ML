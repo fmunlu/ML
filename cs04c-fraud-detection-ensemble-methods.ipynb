{
 "cells": [
  {
   "cell_type": "markdown",
   "metadata": {},
   "source": [
    "# Credit Card Fraud Detection (part3)\n",
    "The objective is to identify fraudulent credit card transactions (492 instances) among legitimate transactions (284315 instances). \n",
    "\n",
    "In previous notebooks we dealt with the imbalanced class problem by changing the weights in the loss function (so that a misclassified minority class is penalized more than a misclassified majority class) and utilizing over/under sampling methods in the first and second notebooks respectively.\n",
    "\n",
    "Moreover, please refer to the first notebook for more information about the dataset."
   ]
  },
  {
   "cell_type": "markdown",
   "metadata": {},
   "source": [
    "## Step 1: Loading libraries to be used in the modeling and loading the dataset"
   ]
  },
  {
   "cell_type": "code",
   "execution_count": 1,
   "metadata": {},
   "outputs": [
    {
     "name": "stdout",
     "output_type": "stream",
     "text": [
      "numpy version:  1.18.1\n",
      "pandas version:  1.0.1\n",
      "seaborn version:  0.10.0\n"
     ]
    }
   ],
   "source": [
    "import numpy as np\n",
    "import pandas as pd\n",
    "import matplotlib.pyplot as plt\n",
    "import seaborn as sns\n",
    "%matplotlib inline\n",
    "\n",
    "print('numpy version: ',np.__version__)\n",
    "print('pandas version: ',pd.__version__)\n",
    "print('seaborn version: ',sns.__version__)"
   ]
  },
  {
   "cell_type": "code",
   "execution_count": 2,
   "metadata": {},
   "outputs": [],
   "source": [
    "#loading the data from the csv file downloaded from Kaggle\n",
    "\n",
    "data = pd.read_csv('datasets/credit-card-fraud.csv', header='infer')\n",
    "\n",
    "X = data.iloc[:, 0:30]\n",
    "y = data.loc[:, 'Class']"
   ]
  },
  {
   "cell_type": "markdown",
   "metadata": {},
   "source": [
    "## Step 2: Splitting the data into training and test sets"
   ]
  },
  {
   "cell_type": "code",
   "execution_count": 3,
   "metadata": {},
   "outputs": [],
   "source": [
    "#setting the random seed for reproducibility\n",
    "random_seed = 2020"
   ]
  },
  {
   "cell_type": "code",
   "execution_count": 4,
   "metadata": {},
   "outputs": [],
   "source": [
    "# I am setting 33.3% data aside for the test set.\n",
    "\n",
    "from sklearn.model_selection import train_test_split\n",
    "X_train, X_test, y_train, y_test = train_test_split(X, y, test_size=1/3, stratify=y, random_state=random_seed)"
   ]
  },
  {
   "cell_type": "markdown",
   "metadata": {},
   "source": [
    "## Step 3: Reviewing the results of the previous notebook\n",
    "The following models gave us the best results with respect to average precision in the previous notebook:\n",
    "* LGBM -- LGBMClassifier with n_estimators=150 and learning_rate=0.2\n",
    "* ETC_ADA -- Extra Trees Classifier with n_estimators=200 oversampled with ADASYN with n_neighbors=7\n",
    "\n",
    "Here we will reproduce these results and precision-recall curve for all models to establish a baseline for comparing subsequent models."
   ]
  },
  {
   "cell_type": "code",
   "execution_count": 5,
   "metadata": {},
   "outputs": [
    {
     "name": "stderr",
     "output_type": "stream",
     "text": [
      "Using TensorFlow backend.\n"
     ]
    }
   ],
   "source": [
    "from sklearn.ensemble import ExtraTreesClassifier\n",
    "import lightgbm as lgb\n",
    "from imblearn.over_sampling import ADASYN\n",
    "\n",
    "from sklearn.metrics import average_precision_score\n",
    "from sklearn.metrics import plot_precision_recall_curve"
   ]
  },
  {
   "cell_type": "code",
   "execution_count": 6,
   "metadata": {},
   "outputs": [
    {
     "data": {
      "text/plain": [
       "LGBMClassifier(boosting_type='gbdt', class_weight='balanced',\n",
       "               colsample_bytree=1.0, importance_type='split', learning_rate=0.2,\n",
       "               max_depth=-1, min_child_samples=20, min_child_weight=0.001,\n",
       "               min_split_gain=0.0, n_estimators=150, n_jobs=-1, num_leaves=31,\n",
       "               objective=None, random_state=2020, reg_alpha=0.0, reg_lambda=0.0,\n",
       "               silent=True, subsample=1.0, subsample_for_bin=200000,\n",
       "               subsample_freq=0)"
      ]
     },
     "execution_count": 6,
     "metadata": {},
     "output_type": "execute_result"
    }
   ],
   "source": [
    "LGBM = lgb.LGBMClassifier(class_weight='balanced', random_state=random_seed, n_estimators=150, \n",
    "                          learning_rate=0.2, n_jobs=-1)\n",
    "LGBM.fit(X_train, y_train)"
   ]
  },
  {
   "cell_type": "code",
   "execution_count": 7,
   "metadata": {},
   "outputs": [
    {
     "data": {
      "text/plain": [
       "ExtraTreesClassifier(bootstrap=False, ccp_alpha=0.0, class_weight=None,\n",
       "                     criterion='gini', max_depth=None, max_features='auto',\n",
       "                     max_leaf_nodes=None, max_samples=None,\n",
       "                     min_impurity_decrease=0.0, min_impurity_split=None,\n",
       "                     min_samples_leaf=1, min_samples_split=2,\n",
       "                     min_weight_fraction_leaf=0.0, n_estimators=200, n_jobs=-1,\n",
       "                     oob_score=False, random_state=2020, verbose=0,\n",
       "                     warm_start=False)"
      ]
     },
     "execution_count": 7,
     "metadata": {},
     "output_type": "execute_result"
    }
   ],
   "source": [
    "ada = ADASYN(n_neighbors=7, random_state=random_seed, n_jobs=-1)\n",
    "X_train_ada, y_train_ada = ada.fit_sample(X_train, y_train)\n",
    "\n",
    "ETC_ADA = ExtraTreesClassifier(n_estimators=200, random_state=random_seed, n_jobs=-1)\n",
    "ETC_ADA.fit(X_train_ada, y_train_ada)"
   ]
  },
  {
   "cell_type": "code",
   "execution_count": 8,
   "metadata": {},
   "outputs": [
    {
     "data": {
      "image/png": "[encoded data removed]",
      "text/plain": [
       "<Figure size 1152x720 with 1 Axes>"
      ]
     },
     "metadata": {
      "needs_background": "light"
     },
     "output_type": "display_data"
    }
   ],
   "source": [
    "disp_LGBM = plot_precision_recall_curve(LGBM, X_test, y_test)\n",
    "disp_ETC_ADA = plot_precision_recall_curve(ETC_ADA, X_test, y_test, ax=disp_LGBM.ax_)\n",
    "disp_LGBM.ax_.set_title('Precision-Recall Curves for LGBM and ETC_ADA')\n",
    "disp_LGBM.figure_.set_size_inches(16, 10)\n",
    "plt.grid()\n",
    "plt.show()"
   ]
  },
  {
   "cell_type": "code",
   "execution_count": 9,
   "metadata": {},
   "outputs": [
    {
     "name": "stdout",
     "output_type": "stream",
     "text": [
      "LGBM Average Precision =  0.84353\n",
      "ETC_ADA Average Precision =  0.86789\n"
     ]
    }
   ],
   "source": [
    "print('LGBM Average Precision = ', np.round(disp_LGBM.average_precision, 5))\n",
    "print('ETC_ADA Average Precision = ', np.round(disp_ETC_ADA.average_precision, 5))"
   ]
  },
  {
   "cell_type": "markdown",
   "metadata": {},
   "source": [
    "## Step 4: Ensemble methods of imbalanced-learn library"
   ]
  },
  {
   "cell_type": "code",
   "execution_count": 10,
   "metadata": {},
   "outputs": [],
   "source": [
    "from imblearn.ensemble import (BalancedBaggingClassifier,\n",
    "                               BalancedRandomForestClassifier,\n",
    "                               EasyEnsembleClassifier,\n",
    "                               RUSBoostClassifier)\n",
    "models = [\n",
    "    ('bbc', BalancedBaggingClassifier(random_state=random_seed)),\n",
    "    ('brfc', BalancedRandomForestClassifier(random_state=random_seed)),\n",
    "    ('eec', EasyEnsembleClassifier(random_state=random_seed)),\n",
    "    ('rbc', RUSBoostClassifier(random_state=random_seed))\n",
    "]"
   ]
  },
  {
   "cell_type": "code",
   "execution_count": 11,
   "metadata": {},
   "outputs": [],
   "source": [
    "from sklearn.model_selection import cross_val_score\n",
    "\n",
    "cv = 5\n",
    "scoring = 'average_precision'"
   ]
  },
  {
   "cell_type": "code",
   "execution_count": 12,
   "metadata": {},
   "outputs": [
    {
     "name": "stderr",
     "output_type": "stream",
     "text": [
      "[Parallel(n_jobs=-1)]: Using backend LokyBackend with 8 concurrent workers.\n",
      "[Parallel(n_jobs=-1)]: Done   2 out of   5 | elapsed:    7.2s remaining:   10.9s\n",
      "[Parallel(n_jobs=-1)]: Done   5 out of   5 | elapsed:    7.9s remaining:    0.0s\n",
      "[Parallel(n_jobs=-1)]: Done   5 out of   5 | elapsed:    7.9s finished\n",
      "[Parallel(n_jobs=-1)]: Using backend LokyBackend with 8 concurrent workers.\n",
      "[Parallel(n_jobs=-1)]: Done   2 out of   5 | elapsed:    6.4s remaining:    9.7s\n",
      "[Parallel(n_jobs=-1)]: Done   5 out of   5 | elapsed:    9.2s remaining:    0.0s\n",
      "[Parallel(n_jobs=-1)]: Done   5 out of   5 | elapsed:    9.2s finished\n",
      "[Parallel(n_jobs=-1)]: Using backend LokyBackend with 8 concurrent workers.\n",
      "[Parallel(n_jobs=-1)]: Done   2 out of   5 | elapsed:    8.9s remaining:   13.4s\n",
      "[Parallel(n_jobs=-1)]: Done   5 out of   5 | elapsed:    9.4s remaining:    0.0s\n",
      "[Parallel(n_jobs=-1)]: Done   5 out of   5 | elapsed:    9.4s finished\n",
      "[Parallel(n_jobs=-1)]: Using backend LokyBackend with 8 concurrent workers.\n",
      "[Parallel(n_jobs=-1)]: Done   2 out of   5 | elapsed:    6.1s remaining:    9.2s\n",
      "[Parallel(n_jobs=-1)]: Done   5 out of   5 | elapsed:    6.5s remaining:    0.0s\n",
      "[Parallel(n_jobs=-1)]: Done   5 out of   5 | elapsed:    6.5s finished\n"
     ]
    }
   ],
   "source": [
    "cv_results = {}\n",
    "\n",
    "for name, model in models:\n",
    "    cv_res = cross_val_score(model, X_train, y_train, cv=cv, scoring=scoring, verbose=2, n_jobs=-1)\n",
    "    cv_results[name] = cv_res"
   ]
  },
  {
   "cell_type": "code",
   "execution_count": 13,
   "metadata": {},
   "outputs": [],
   "source": [
    "results_df = pd.DataFrame(cv_results, index=range(1, cv+1))"
   ]
  },
  {
   "cell_type": "code",
   "execution_count": 14,
   "metadata": {},
   "outputs": [
    {
     "data": {
      "text/plain": [
       "bbc     0.522547\n",
       "rbc     0.605540\n",
       "eec     0.715537\n",
       "brfc    0.737709\n",
       "dtype: float64"
      ]
     },
     "execution_count": 14,
     "metadata": {},
     "output_type": "execute_result"
    }
   ],
   "source": [
    "results_df.mean(axis='index').sort_values()"
   ]
  },
  {
   "cell_type": "code",
   "execution_count": 15,
   "metadata": {},
   "outputs": [
    {
     "data": {
      "text/plain": [
       "bbc     0.090527\n",
       "brfc    0.043364\n",
       "eec     0.083808\n",
       "rbc     0.090549\n",
       "dtype: float64"
      ]
     },
     "execution_count": 15,
     "metadata": {},
     "output_type": "execute_result"
    }
   ],
   "source": [
    "results_df.std(axis='index')"
   ]
  },
  {
   "cell_type": "code",
   "execution_count": 16,
   "metadata": {},
   "outputs": [
    {
     "data": {
      "image/png": "[encoded data removed]",
      "text/plain": [
       "<Figure size 864x432 with 1 Axes>"
      ]
     },
     "metadata": {
      "needs_background": "light"
     },
     "output_type": "display_data"
    }
   ],
   "source": [
    "results_df.plot(kind='box', figsize=(12, 6))\n",
    "plt.title('CV scores for Ensemble Methods of imbalanced-learn')\n",
    "plt.axhline(y=0.7, color='red', linestyle='dashed')\n",
    "plt.ylabel('Average Precision')\n",
    "plt.show()"
   ]
  },
  {
   "cell_type": "markdown",
   "metadata": {},
   "source": [
    "## Step 4: Fine tuning the models"
   ]
  },
  {
   "cell_type": "code",
   "execution_count": 17,
   "metadata": {},
   "outputs": [],
   "source": [
    "from sklearn.model_selection import GridSearchCV"
   ]
  },
  {
   "cell_type": "markdown",
   "metadata": {},
   "source": [
    "### Balanced Bagging Classifier"
   ]
  },
  {
   "cell_type": "code",
   "execution_count": 18,
   "metadata": {},
   "outputs": [
    {
     "name": "stdout",
     "output_type": "stream",
     "text": [
      "Fitting 5 folds for each of 8 candidates, totalling 40 fits\n"
     ]
    },
    {
     "name": "stderr",
     "output_type": "stream",
     "text": [
      "[Parallel(n_jobs=-1)]: Using backend LokyBackend with 8 concurrent workers.\n",
      "[Parallel(n_jobs=-1)]: Done  25 tasks      | elapsed:  7.9min\n",
      "[Parallel(n_jobs=-1)]: Done  40 out of  40 | elapsed: 12.4min finished\n"
     ]
    }
   ],
   "source": [
    "n_estimators = [100, 200, 400, 600]  #default=10\n",
    "bootstrap = [True, False]  #default=True\n",
    "par_grid_bbc = dict(n_estimators=n_estimators, bootstrap=bootstrap)\n",
    "\n",
    "bbc = BalancedBaggingClassifier(random_state=random_seed)\n",
    "\n",
    "grid_bbc = GridSearchCV(estimator=bbc, param_grid=par_grid_bbc, cv=cv, \n",
    "                        verbose=2, n_jobs=-1, scoring=scoring)\n",
    "grid_result_bbc = grid_bbc.fit(X_train, y_train)"
   ]
  },
  {
   "cell_type": "code",
   "execution_count": 19,
   "metadata": {},
   "outputs": [
    {
     "data": {
      "text/plain": [
       "{'bootstrap': True, 'n_estimators': 600}"
      ]
     },
     "execution_count": 19,
     "metadata": {},
     "output_type": "execute_result"
    }
   ],
   "source": [
    "grid_result_bbc.best_params_"
   ]
  },
  {
   "cell_type": "code",
   "execution_count": 20,
   "metadata": {},
   "outputs": [
    {
     "data": {
      "text/plain": [
       "0.7731712982981265"
      ]
     },
     "execution_count": 20,
     "metadata": {},
     "output_type": "execute_result"
    }
   ],
   "source": [
    "grid_result_bbc.best_score_"
   ]
  },
  {
   "cell_type": "code",
   "execution_count": 21,
   "metadata": {},
   "outputs": [
    {
     "data": {
      "text/html": [
       "<div>\n",
       "<style scoped>\n",
       "    .dataframe tbody tr th:only-of-type {\n",
       "        vertical-align: middle;\n",
       "    }\n",
       "\n",
       "    .dataframe tbody tr th {\n",
       "        vertical-align: top;\n",
       "    }\n",
       "\n",
       "    .dataframe thead th {\n",
       "        text-align: right;\n",
       "    }\n",
       "</style>\n",
       "<table border=\"1\" class=\"dataframe\">\n",
       "  <thead>\n",
       "    <tr style=\"text-align: right;\">\n",
       "      <th></th>\n",
       "      <th>params</th>\n",
       "      <th>mean_test_score</th>\n",
       "      <th>std_test_score</th>\n",
       "      <th>rank_test_score</th>\n",
       "    </tr>\n",
       "  </thead>\n",
       "  <tbody>\n",
       "    <tr>\n",
       "      <th>3</th>\n",
       "      <td>{'bootstrap': True, 'n_estimators': 600}</td>\n",
       "      <td>0.773171</td>\n",
       "      <td>0.029623</td>\n",
       "      <td>1</td>\n",
       "    </tr>\n",
       "    <tr>\n",
       "      <th>2</th>\n",
       "      <td>{'bootstrap': True, 'n_estimators': 400}</td>\n",
       "      <td>0.762247</td>\n",
       "      <td>0.031620</td>\n",
       "      <td>2</td>\n",
       "    </tr>\n",
       "    <tr>\n",
       "      <th>6</th>\n",
       "      <td>{'bootstrap': False, 'n_estimators': 400}</td>\n",
       "      <td>0.759691</td>\n",
       "      <td>0.037466</td>\n",
       "      <td>3</td>\n",
       "    </tr>\n",
       "    <tr>\n",
       "      <th>7</th>\n",
       "      <td>{'bootstrap': False, 'n_estimators': 600}</td>\n",
       "      <td>0.757185</td>\n",
       "      <td>0.035731</td>\n",
       "      <td>4</td>\n",
       "    </tr>\n",
       "    <tr>\n",
       "      <th>5</th>\n",
       "      <td>{'bootstrap': False, 'n_estimators': 200}</td>\n",
       "      <td>0.751727</td>\n",
       "      <td>0.040905</td>\n",
       "      <td>5</td>\n",
       "    </tr>\n",
       "    <tr>\n",
       "      <th>1</th>\n",
       "      <td>{'bootstrap': True, 'n_estimators': 200}</td>\n",
       "      <td>0.750056</td>\n",
       "      <td>0.035411</td>\n",
       "      <td>6</td>\n",
       "    </tr>\n",
       "    <tr>\n",
       "      <th>0</th>\n",
       "      <td>{'bootstrap': True, 'n_estimators': 100}</td>\n",
       "      <td>0.745859</td>\n",
       "      <td>0.041021</td>\n",
       "      <td>7</td>\n",
       "    </tr>\n",
       "  </tbody>\n",
       "</table>\n",
       "</div>"
      ],
      "text/plain": [
       "                                      params  mean_test_score  std_test_score  \\\n",
       "3   {'bootstrap': True, 'n_estimators': 600}         0.773171        0.029623   \n",
       "2   {'bootstrap': True, 'n_estimators': 400}         0.762247        0.031620   \n",
       "6  {'bootstrap': False, 'n_estimators': 400}         0.759691        0.037466   \n",
       "7  {'bootstrap': False, 'n_estimators': 600}         0.757185        0.035731   \n",
       "5  {'bootstrap': False, 'n_estimators': 200}         0.751727        0.040905   \n",
       "1   {'bootstrap': True, 'n_estimators': 200}         0.750056        0.035411   \n",
       "0   {'bootstrap': True, 'n_estimators': 100}         0.745859        0.041021   \n",
       "\n",
       "   rank_test_score  \n",
       "3                1  \n",
       "2                2  \n",
       "6                3  \n",
       "7                4  \n",
       "5                5  \n",
       "1                6  \n",
       "0                7  "
      ]
     },
     "execution_count": 21,
     "metadata": {},
     "output_type": "execute_result"
    }
   ],
   "source": [
    "pd.DataFrame(grid_result_bbc.cv_results_)[['params', 'mean_test_score', \n",
    "                                           'std_test_score', 'rank_test_score']].sort_values('rank_test_score').head(7)"
   ]
  },
  {
   "cell_type": "markdown",
   "metadata": {},
   "source": [
    "#### The best estimator is with n_estimators=600\n",
    "It is not surprising that we get better results with larger number of estimators in the model. Moreover, n_estimators=600 seems to be the sweet spot in the sense that there is not significant improvement in the score with increased number of estimators."
   ]
  },
  {
   "cell_type": "markdown",
   "metadata": {},
   "source": [
    "### Balanced Random Forest Classifier"
   ]
  },
  {
   "cell_type": "code",
   "execution_count": 22,
   "metadata": {},
   "outputs": [
    {
     "name": "stdout",
     "output_type": "stream",
     "text": [
      "Fitting 5 folds for each of 8 candidates, totalling 40 fits\n"
     ]
    },
    {
     "name": "stderr",
     "output_type": "stream",
     "text": [
      "[Parallel(n_jobs=-1)]: Using backend LokyBackend with 8 concurrent workers.\n",
      "[Parallel(n_jobs=-1)]: Done  25 tasks      | elapsed:  1.4min\n",
      "[Parallel(n_jobs=-1)]: Done  40 out of  40 | elapsed:  2.7min finished\n"
     ]
    }
   ],
   "source": [
    "n_estimators = [100, 200, 400, 600]  #default=100\n",
    "bootstrap = [True, False]  #default=True\n",
    "par_grid_brfc = dict(n_estimators=n_estimators, bootstrap=bootstrap)\n",
    "\n",
    "brfc = BalancedRandomForestClassifier(random_state=random_seed)\n",
    "\n",
    "grid_brfc = GridSearchCV(estimator=brfc, param_grid=par_grid_brfc, cv=cv, \n",
    "                        verbose=2, n_jobs=-1, scoring=scoring)\n",
    "grid_result_brfc = grid_brfc.fit(X_train, y_train)"
   ]
  },
  {
   "cell_type": "code",
   "execution_count": 23,
   "metadata": {},
   "outputs": [
    {
     "data": {
      "text/plain": [
       "{'bootstrap': False, 'n_estimators': 600}"
      ]
     },
     "execution_count": 23,
     "metadata": {},
     "output_type": "execute_result"
    }
   ],
   "source": [
    "grid_result_brfc.best_params_"
   ]
  },
  {
   "cell_type": "code",
   "execution_count": 24,
   "metadata": {},
   "outputs": [
    {
     "data": {
      "text/plain": [
       "0.7713567103669683"
      ]
     },
     "execution_count": 24,
     "metadata": {},
     "output_type": "execute_result"
    }
   ],
   "source": [
    "grid_result_brfc.best_score_"
   ]
  },
  {
   "cell_type": "code",
   "execution_count": 25,
   "metadata": {},
   "outputs": [
    {
     "data": {
      "text/html": [
       "<div>\n",
       "<style scoped>\n",
       "    .dataframe tbody tr th:only-of-type {\n",
       "        vertical-align: middle;\n",
       "    }\n",
       "\n",
       "    .dataframe tbody tr th {\n",
       "        vertical-align: top;\n",
       "    }\n",
       "\n",
       "    .dataframe thead th {\n",
       "        text-align: right;\n",
       "    }\n",
       "</style>\n",
       "<table border=\"1\" class=\"dataframe\">\n",
       "  <thead>\n",
       "    <tr style=\"text-align: right;\">\n",
       "      <th></th>\n",
       "      <th>params</th>\n",
       "      <th>mean_test_score</th>\n",
       "      <th>std_test_score</th>\n",
       "      <th>rank_test_score</th>\n",
       "    </tr>\n",
       "  </thead>\n",
       "  <tbody>\n",
       "    <tr>\n",
       "      <th>7</th>\n",
       "      <td>{'bootstrap': False, 'n_estimators': 600}</td>\n",
       "      <td>0.771357</td>\n",
       "      <td>0.034545</td>\n",
       "      <td>1</td>\n",
       "    </tr>\n",
       "    <tr>\n",
       "      <th>6</th>\n",
       "      <td>{'bootstrap': False, 'n_estimators': 400}</td>\n",
       "      <td>0.764609</td>\n",
       "      <td>0.034570</td>\n",
       "      <td>2</td>\n",
       "    </tr>\n",
       "    <tr>\n",
       "      <th>2</th>\n",
       "      <td>{'bootstrap': True, 'n_estimators': 400}</td>\n",
       "      <td>0.756094</td>\n",
       "      <td>0.030381</td>\n",
       "      <td>3</td>\n",
       "    </tr>\n",
       "    <tr>\n",
       "      <th>1</th>\n",
       "      <td>{'bootstrap': True, 'n_estimators': 200}</td>\n",
       "      <td>0.754762</td>\n",
       "      <td>0.033253</td>\n",
       "      <td>4</td>\n",
       "    </tr>\n",
       "    <tr>\n",
       "      <th>5</th>\n",
       "      <td>{'bootstrap': False, 'n_estimators': 200}</td>\n",
       "      <td>0.753386</td>\n",
       "      <td>0.045416</td>\n",
       "      <td>5</td>\n",
       "    </tr>\n",
       "    <tr>\n",
       "      <th>3</th>\n",
       "      <td>{'bootstrap': True, 'n_estimators': 600}</td>\n",
       "      <td>0.751022</td>\n",
       "      <td>0.034336</td>\n",
       "      <td>6</td>\n",
       "    </tr>\n",
       "    <tr>\n",
       "      <th>4</th>\n",
       "      <td>{'bootstrap': False, 'n_estimators': 100}</td>\n",
       "      <td>0.745153</td>\n",
       "      <td>0.042554</td>\n",
       "      <td>7</td>\n",
       "    </tr>\n",
       "  </tbody>\n",
       "</table>\n",
       "</div>"
      ],
      "text/plain": [
       "                                      params  mean_test_score  std_test_score  \\\n",
       "7  {'bootstrap': False, 'n_estimators': 600}         0.771357        0.034545   \n",
       "6  {'bootstrap': False, 'n_estimators': 400}         0.764609        0.034570   \n",
       "2   {'bootstrap': True, 'n_estimators': 400}         0.756094        0.030381   \n",
       "1   {'bootstrap': True, 'n_estimators': 200}         0.754762        0.033253   \n",
       "5  {'bootstrap': False, 'n_estimators': 200}         0.753386        0.045416   \n",
       "3   {'bootstrap': True, 'n_estimators': 600}         0.751022        0.034336   \n",
       "4  {'bootstrap': False, 'n_estimators': 100}         0.745153        0.042554   \n",
       "\n",
       "   rank_test_score  \n",
       "7                1  \n",
       "6                2  \n",
       "2                3  \n",
       "1                4  \n",
       "5                5  \n",
       "3                6  \n",
       "4                7  "
      ]
     },
     "execution_count": 25,
     "metadata": {},
     "output_type": "execute_result"
    }
   ],
   "source": [
    "pd.DataFrame(grid_result_brfc.cv_results_)[['params', 'mean_test_score', \n",
    "                                           'std_test_score', 'rank_test_score']].sort_values('rank_test_score').head(7)"
   ]
  },
  {
   "cell_type": "markdown",
   "metadata": {},
   "source": [
    "#### The best estimator is with n_estimators=600 and bootstrap=False\n",
    "Again, it is not surprising that the larger number of estimators in the model, the better the result is. Similarly, n_estimators=600 seems to be the sweet spot."
   ]
  },
  {
   "cell_type": "markdown",
   "metadata": {},
   "source": [
    "### Easy Ensemble Classifier\n",
    "The default estimator in the Easy Ensemble Classifier is AdaBoost; however, we will also include LGBMClassifier since we tend to get good results with it."
   ]
  },
  {
   "cell_type": "code",
   "execution_count": 26,
   "metadata": {},
   "outputs": [
    {
     "name": "stdout",
     "output_type": "stream",
     "text": [
      "Fitting 5 folds for each of 14 candidates, totalling 70 fits\n"
     ]
    },
    {
     "name": "stderr",
     "output_type": "stream",
     "text": [
      "[Parallel(n_jobs=-1)]: Using backend LokyBackend with 8 concurrent workers.\n",
      "[Parallel(n_jobs=-1)]: Done  25 tasks      | elapsed:  9.4min\n",
      "[Parallel(n_jobs=-1)]: Done  70 out of  70 | elapsed: 29.6min finished\n"
     ]
    }
   ],
   "source": [
    "n_estimators = [10, 50, 100, 150, 200, 250, 300]  #default=10\n",
    "lgbm = lgb.LGBMClassifier(random_state=random_seed)\n",
    "base_estimator = [None, lgbm]\n",
    "par_grid_eec = dict(n_estimators=n_estimators, base_estimator=base_estimator)\n",
    "\n",
    "eec = EasyEnsembleClassifier(random_state=random_seed)\n",
    "\n",
    "grid_eec = GridSearchCV(estimator=eec, param_grid=par_grid_eec, cv=cv, \n",
    "                        verbose=2, n_jobs=-1, scoring=scoring)\n",
    "grid_result_eec = grid_eec.fit(X_train, y_train)"
   ]
  },
  {
   "cell_type": "code",
   "execution_count": 27,
   "metadata": {},
   "outputs": [
    {
     "data": {
      "text/plain": [
       "{'base_estimator': LGBMClassifier(boosting_type='gbdt', class_weight=None, colsample_bytree=1.0,\n",
       "                importance_type='split', learning_rate=0.1, max_depth=-1,\n",
       "                min_child_samples=20, min_child_weight=0.001, min_split_gain=0.0,\n",
       "                n_estimators=100, n_jobs=-1, num_leaves=31, objective=None,\n",
       "                random_state=2020, reg_alpha=0.0, reg_lambda=0.0, silent=True,\n",
       "                subsample=1.0, subsample_for_bin=200000, subsample_freq=0),\n",
       " 'n_estimators': 300}"
      ]
     },
     "execution_count": 27,
     "metadata": {},
     "output_type": "execute_result"
    }
   ],
   "source": [
    "grid_result_eec.best_params_"
   ]
  },
  {
   "cell_type": "code",
   "execution_count": 28,
   "metadata": {},
   "outputs": [
    {
     "data": {
      "text/plain": [
       "0.8209730716319406"
      ]
     },
     "execution_count": 28,
     "metadata": {},
     "output_type": "execute_result"
    }
   ],
   "source": [
    "grid_result_eec.best_score_"
   ]
  },
  {
   "cell_type": "code",
   "execution_count": 29,
   "metadata": {},
   "outputs": [
    {
     "data": {
      "text/html": [
       "<div>\n",
       "<style scoped>\n",
       "    .dataframe tbody tr th:only-of-type {\n",
       "        vertical-align: middle;\n",
       "    }\n",
       "\n",
       "    .dataframe tbody tr th {\n",
       "        vertical-align: top;\n",
       "    }\n",
       "\n",
       "    .dataframe thead th {\n",
       "        text-align: right;\n",
       "    }\n",
       "</style>\n",
       "<table border=\"1\" class=\"dataframe\">\n",
       "  <thead>\n",
       "    <tr style=\"text-align: right;\">\n",
       "      <th></th>\n",
       "      <th>params</th>\n",
       "      <th>mean_test_score</th>\n",
       "      <th>std_test_score</th>\n",
       "      <th>rank_test_score</th>\n",
       "    </tr>\n",
       "  </thead>\n",
       "  <tbody>\n",
       "    <tr>\n",
       "      <th>13</th>\n",
       "      <td>{'base_estimator': LGBMClassifier(boosting_typ...</td>\n",
       "      <td>0.820973</td>\n",
       "      <td>0.022097</td>\n",
       "      <td>1</td>\n",
       "    </tr>\n",
       "    <tr>\n",
       "      <th>12</th>\n",
       "      <td>{'base_estimator': LGBMClassifier(boosting_typ...</td>\n",
       "      <td>0.820059</td>\n",
       "      <td>0.023809</td>\n",
       "      <td>2</td>\n",
       "    </tr>\n",
       "    <tr>\n",
       "      <th>11</th>\n",
       "      <td>{'base_estimator': LGBMClassifier(boosting_typ...</td>\n",
       "      <td>0.805318</td>\n",
       "      <td>0.012537</td>\n",
       "      <td>3</td>\n",
       "    </tr>\n",
       "    <tr>\n",
       "      <th>10</th>\n",
       "      <td>{'base_estimator': LGBMClassifier(boosting_typ...</td>\n",
       "      <td>0.767262</td>\n",
       "      <td>0.048990</td>\n",
       "      <td>4</td>\n",
       "    </tr>\n",
       "    <tr>\n",
       "      <th>9</th>\n",
       "      <td>{'base_estimator': LGBMClassifier(boosting_typ...</td>\n",
       "      <td>0.750828</td>\n",
       "      <td>0.038798</td>\n",
       "      <td>5</td>\n",
       "    </tr>\n",
       "    <tr>\n",
       "      <th>1</th>\n",
       "      <td>{'base_estimator': None, 'n_estimators': 50}</td>\n",
       "      <td>0.742701</td>\n",
       "      <td>0.041861</td>\n",
       "      <td>6</td>\n",
       "    </tr>\n",
       "    <tr>\n",
       "      <th>5</th>\n",
       "      <td>{'base_estimator': None, 'n_estimators': 250}</td>\n",
       "      <td>0.740538</td>\n",
       "      <td>0.050086</td>\n",
       "      <td>7</td>\n",
       "    </tr>\n",
       "  </tbody>\n",
       "</table>\n",
       "</div>"
      ],
      "text/plain": [
       "                                               params  mean_test_score  \\\n",
       "13  {'base_estimator': LGBMClassifier(boosting_typ...         0.820973   \n",
       "12  {'base_estimator': LGBMClassifier(boosting_typ...         0.820059   \n",
       "11  {'base_estimator': LGBMClassifier(boosting_typ...         0.805318   \n",
       "10  {'base_estimator': LGBMClassifier(boosting_typ...         0.767262   \n",
       "9   {'base_estimator': LGBMClassifier(boosting_typ...         0.750828   \n",
       "1        {'base_estimator': None, 'n_estimators': 50}         0.742701   \n",
       "5       {'base_estimator': None, 'n_estimators': 250}         0.740538   \n",
       "\n",
       "    std_test_score  rank_test_score  \n",
       "13        0.022097                1  \n",
       "12        0.023809                2  \n",
       "11        0.012537                3  \n",
       "10        0.048990                4  \n",
       "9         0.038798                5  \n",
       "1         0.041861                6  \n",
       "5         0.050086                7  "
      ]
     },
     "execution_count": 29,
     "metadata": {},
     "output_type": "execute_result"
    }
   ],
   "source": [
    "pd.DataFrame(grid_result_eec.cv_results_)[['params', 'mean_test_score', \n",
    "                                           'std_test_score', 'rank_test_score']].sort_values('rank_test_score').head(7)"
   ]
  },
  {
   "cell_type": "markdown",
   "metadata": {},
   "source": [
    "#### The best estimator is with n_estimators=300 and base_estimator=LGBMClassifier"
   ]
  },
  {
   "cell_type": "markdown",
   "metadata": {},
   "source": [
    "### RUS Boost Classifier\n",
    "The default estimator in the Easy Ensemble Classifier is AdaBoost; however, we will also include LGBMClassifier since we tend to get good results with it."
   ]
  },
  {
   "cell_type": "code",
   "execution_count": 30,
   "metadata": {},
   "outputs": [
    {
     "name": "stdout",
     "output_type": "stream",
     "text": [
      "Fitting 5 folds for each of 36 candidates, totalling 180 fits\n"
     ]
    },
    {
     "name": "stderr",
     "output_type": "stream",
     "text": [
      "[Parallel(n_jobs=-1)]: Using backend LokyBackend with 8 concurrent workers.\n",
      "[Parallel(n_jobs=-1)]: Done  25 tasks      | elapsed:  1.6min\n",
      "[Parallel(n_jobs=-1)]: Done 146 tasks      | elapsed: 17.3min\n",
      "[Parallel(n_jobs=-1)]: Done 180 out of 180 | elapsed: 25.0min finished\n"
     ]
    }
   ],
   "source": [
    "n_estimators = [30, 50, 100, 150, 250, 350]  #default=50\n",
    "lgbm = lgb.LGBMClassifier(random_state=random_seed)\n",
    "base_estimator = [None, lgbm]\n",
    "learning_rate = [0.05, 0.1, 1.0] #default=1.0\n",
    "par_grid_rbc = dict(n_estimators=n_estimators, base_estimator=base_estimator, \n",
    "                    learning_rate=learning_rate)\n",
    "\n",
    "rbc = RUSBoostClassifier(random_state=random_seed)\n",
    "\n",
    "grid_rbc = GridSearchCV(estimator=rbc, param_grid=par_grid_rbc, cv=cv, \n",
    "                        verbose=2, n_jobs=-1, scoring=scoring)\n",
    "grid_result_rbc = grid_rbc.fit(X_train, y_train)"
   ]
  },
  {
   "cell_type": "code",
   "execution_count": 31,
   "metadata": {},
   "outputs": [
    {
     "data": {
      "text/plain": [
       "{'base_estimator': None, 'learning_rate': 0.1, 'n_estimators': 350}"
      ]
     },
     "execution_count": 31,
     "metadata": {},
     "output_type": "execute_result"
    }
   ],
   "source": [
    "grid_result_rbc.best_params_"
   ]
  },
  {
   "cell_type": "code",
   "execution_count": 32,
   "metadata": {},
   "outputs": [
    {
     "data": {
      "text/plain": [
       "0.7589317641339678"
      ]
     },
     "execution_count": 32,
     "metadata": {},
     "output_type": "execute_result"
    }
   ],
   "source": [
    "grid_result_rbc.best_score_"
   ]
  },
  {
   "cell_type": "code",
   "execution_count": 33,
   "metadata": {},
   "outputs": [
    {
     "data": {
      "text/html": [
       "<div>\n",
       "<style scoped>\n",
       "    .dataframe tbody tr th:only-of-type {\n",
       "        vertical-align: middle;\n",
       "    }\n",
       "\n",
       "    .dataframe tbody tr th {\n",
       "        vertical-align: top;\n",
       "    }\n",
       "\n",
       "    .dataframe thead th {\n",
       "        text-align: right;\n",
       "    }\n",
       "</style>\n",
       "<table border=\"1\" class=\"dataframe\">\n",
       "  <thead>\n",
       "    <tr style=\"text-align: right;\">\n",
       "      <th></th>\n",
       "      <th>params</th>\n",
       "      <th>mean_test_score</th>\n",
       "      <th>std_test_score</th>\n",
       "      <th>rank_test_score</th>\n",
       "    </tr>\n",
       "  </thead>\n",
       "  <tbody>\n",
       "    <tr>\n",
       "      <th>11</th>\n",
       "      <td>{'base_estimator': None, 'learning_rate': 0.1,...</td>\n",
       "      <td>0.758932</td>\n",
       "      <td>0.020850</td>\n",
       "      <td>1</td>\n",
       "    </tr>\n",
       "    <tr>\n",
       "      <th>10</th>\n",
       "      <td>{'base_estimator': None, 'learning_rate': 0.1,...</td>\n",
       "      <td>0.755657</td>\n",
       "      <td>0.025419</td>\n",
       "      <td>2</td>\n",
       "    </tr>\n",
       "    <tr>\n",
       "      <th>5</th>\n",
       "      <td>{'base_estimator': None, 'learning_rate': 0.05...</td>\n",
       "      <td>0.749708</td>\n",
       "      <td>0.041633</td>\n",
       "      <td>3</td>\n",
       "    </tr>\n",
       "    <tr>\n",
       "      <th>4</th>\n",
       "      <td>{'base_estimator': None, 'learning_rate': 0.05...</td>\n",
       "      <td>0.738514</td>\n",
       "      <td>0.036646</td>\n",
       "      <td>4</td>\n",
       "    </tr>\n",
       "    <tr>\n",
       "      <th>9</th>\n",
       "      <td>{'base_estimator': None, 'learning_rate': 0.1,...</td>\n",
       "      <td>0.736303</td>\n",
       "      <td>0.035622</td>\n",
       "      <td>5</td>\n",
       "    </tr>\n",
       "    <tr>\n",
       "      <th>8</th>\n",
       "      <td>{'base_estimator': None, 'learning_rate': 0.1,...</td>\n",
       "      <td>0.708721</td>\n",
       "      <td>0.055714</td>\n",
       "      <td>6</td>\n",
       "    </tr>\n",
       "    <tr>\n",
       "      <th>3</th>\n",
       "      <td>{'base_estimator': None, 'learning_rate': 0.05...</td>\n",
       "      <td>0.695753</td>\n",
       "      <td>0.053322</td>\n",
       "      <td>7</td>\n",
       "    </tr>\n",
       "  </tbody>\n",
       "</table>\n",
       "</div>"
      ],
      "text/plain": [
       "                                               params  mean_test_score  \\\n",
       "11  {'base_estimator': None, 'learning_rate': 0.1,...         0.758932   \n",
       "10  {'base_estimator': None, 'learning_rate': 0.1,...         0.755657   \n",
       "5   {'base_estimator': None, 'learning_rate': 0.05...         0.749708   \n",
       "4   {'base_estimator': None, 'learning_rate': 0.05...         0.738514   \n",
       "9   {'base_estimator': None, 'learning_rate': 0.1,...         0.736303   \n",
       "8   {'base_estimator': None, 'learning_rate': 0.1,...         0.708721   \n",
       "3   {'base_estimator': None, 'learning_rate': 0.05...         0.695753   \n",
       "\n",
       "    std_test_score  rank_test_score  \n",
       "11        0.020850                1  \n",
       "10        0.025419                2  \n",
       "5         0.041633                3  \n",
       "4         0.036646                4  \n",
       "9         0.035622                5  \n",
       "8         0.055714                6  \n",
       "3         0.053322                7  "
      ]
     },
     "execution_count": 33,
     "metadata": {},
     "output_type": "execute_result"
    }
   ],
   "source": [
    "pd.DataFrame(grid_result_rbc.cv_results_)[['params', 'mean_test_score', \n",
    "                                           'std_test_score', 'rank_test_score']].sort_values('rank_test_score').head(7)"
   ]
  },
  {
   "cell_type": "markdown",
   "metadata": {},
   "source": [
    "#### The best estimator is with n_estimators=350 and learning_rate=0.1"
   ]
  },
  {
   "cell_type": "markdown",
   "metadata": {},
   "source": [
    "## Step 5: Evaluation of the models on the test set"
   ]
  },
  {
   "cell_type": "code",
   "execution_count": 34,
   "metadata": {},
   "outputs": [
    {
     "data": {
      "text/plain": [
       "BalancedBaggingClassifier(base_estimator=None, bootstrap=True,\n",
       "                          bootstrap_features=False, max_features=1.0,\n",
       "                          max_samples=1.0, n_estimators=600, n_jobs=-1,\n",
       "                          oob_score=False, random_state=2020, replacement=False,\n",
       "                          sampling_strategy='auto', verbose=0,\n",
       "                          warm_start=False)"
      ]
     },
     "execution_count": 34,
     "metadata": {},
     "output_type": "execute_result"
    }
   ],
   "source": [
    "bbc = BalancedBaggingClassifier(n_estimators=600, random_state=random_seed, \n",
    "                                n_jobs=-1)\n",
    "bbc.fit(X_train, y_train)"
   ]
  },
  {
   "cell_type": "code",
   "execution_count": 35,
   "metadata": {},
   "outputs": [
    {
     "data": {
      "text/plain": [
       "BalancedRandomForestClassifier(bootstrap=False, ccp_alpha=0.0,\n",
       "                               class_weight=None, criterion='gini',\n",
       "                               max_depth=None, max_features='auto',\n",
       "                               max_leaf_nodes=None, max_samples=None,\n",
       "                               min_impurity_decrease=0.0, min_samples_leaf=2,\n",
       "                               min_samples_split=2,\n",
       "                               min_weight_fraction_leaf=0.0, n_estimators=600,\n",
       "                               n_jobs=-1, oob_score=False, random_state=2020,\n",
       "                               replacement=False, sampling_strategy='auto',\n",
       "                               verbose=0, warm_start=False)"
      ]
     },
     "execution_count": 35,
     "metadata": {},
     "output_type": "execute_result"
    }
   ],
   "source": [
    "brfc = BalancedRandomForestClassifier(n_estimators=600, bootstrap=False, \n",
    "                                      random_state=random_seed, n_jobs=-1)\n",
    "brfc.fit(X_train, y_train)"
   ]
  },
  {
   "cell_type": "code",
   "execution_count": 36,
   "metadata": {},
   "outputs": [
    {
     "data": {
      "text/plain": [
       "EasyEnsembleClassifier(base_estimator=LGBMClassifier(boosting_type='gbdt',\n",
       "                                                     class_weight=None,\n",
       "                                                     colsample_bytree=1.0,\n",
       "                                                     importance_type='split',\n",
       "                                                     learning_rate=0.1,\n",
       "                                                     max_depth=-1,\n",
       "                                                     min_child_samples=20,\n",
       "                                                     min_child_weight=0.001,\n",
       "                                                     min_split_gain=0.0,\n",
       "                                                     n_estimators=100,\n",
       "                                                     n_jobs=-1, num_leaves=31,\n",
       "                                                     objective=None,\n",
       "                                                     random_state=2020,\n",
       "                                                     reg_alpha=0.0,\n",
       "                                                     reg_lambda=0.0,\n",
       "                                                     silent=True, subsample=1.0,\n",
       "                                                     subsample_for_bin=200000,\n",
       "                                                     subsample_freq=0),\n",
       "                       n_estimators=300, n_jobs=-1, random_state=2020,\n",
       "                       replacement=False, sampling_strategy='auto', verbose=0,\n",
       "                       warm_start=False)"
      ]
     },
     "execution_count": 36,
     "metadata": {},
     "output_type": "execute_result"
    }
   ],
   "source": [
    "eec = EasyEnsembleClassifier(base_estimator=lgbm, n_estimators=300, \n",
    "                             random_state=random_seed, n_jobs=-1)\n",
    "eec.fit(X_train, y_train)"
   ]
  },
  {
   "cell_type": "code",
   "execution_count": 37,
   "metadata": {},
   "outputs": [
    {
     "data": {
      "text/plain": [
       "RUSBoostClassifier(algorithm='SAMME.R', base_estimator=None, learning_rate=0.1,\n",
       "                   n_estimators=350, random_state=2020, replacement=False,\n",
       "                   sampling_strategy='auto')"
      ]
     },
     "execution_count": 37,
     "metadata": {},
     "output_type": "execute_result"
    }
   ],
   "source": [
    "rbc = RUSBoostClassifier(n_estimators=350, learning_rate=0.1, \n",
    "                         random_state=random_seed)\n",
    "rbc.fit(X_train, y_train)"
   ]
  },
  {
   "cell_type": "code",
   "execution_count": 38,
   "metadata": {},
   "outputs": [
    {
     "data": {
      "image/png": "[encoded data removed]",
      "text/plain": [
       "<Figure size 1152x720 with 1 Axes>"
      ]
     },
     "metadata": {
      "needs_background": "light"
     },
     "output_type": "display_data"
    }
   ],
   "source": [
    "disp_bbc = plot_precision_recall_curve(bbc, X_test, y_test)\n",
    "disp_brfc = plot_precision_recall_curve(brfc, X_test, y_test, ax=disp_bbc.ax_)\n",
    "disp_eec = plot_precision_recall_curve(eec, X_test, y_test, ax=disp_bbc.ax_)\n",
    "disp_rbc = plot_precision_recall_curve(rbc, X_test, y_test, ax=disp_bbc.ax_)\n",
    "disp_bbc.figure_.set_size_inches(16, 10)\n",
    "disp_bbc.ax_.set_title('Precision-Recall Curves for all Balanced Ensemble Models')\n",
    "plt.grid()\n",
    "plt.show()"
   ]
  },
  {
   "cell_type": "markdown",
   "metadata": {},
   "source": [
    "#### Observation: \n",
    "It is apparent from the comparison of the precision-recall curves that Easy Ensemble Classifier dominates all others for all practical values of desired recall. Therefore, we will make a comparison between EEC and the duo of LGBM and ETC_ADA in the next section."
   ]
  },
  {
   "cell_type": "markdown",
   "metadata": {},
   "source": [
    "## Step 6: Conclusion"
   ]
  },
  {
   "cell_type": "code",
   "execution_count": 39,
   "metadata": {},
   "outputs": [
    {
     "data": {
      "image/png": "[encoded data removed]",
      "text/plain": [
       "<Figure size 1152x720 with 1 Axes>"
      ]
     },
     "metadata": {
      "needs_background": "light"
     },
     "output_type": "display_data"
    }
   ],
   "source": [
    "disp_LGBM = plot_precision_recall_curve(LGBM, X_test, y_test)\n",
    "disp_ETC_ADA = plot_precision_recall_curve(ETC_ADA, X_test, y_test, ax=disp_LGBM.ax_)\n",
    "disp_eec = plot_precision_recall_curve(eec, X_test, y_test, ax=disp_LGBM.ax_)\n",
    "disp_LGBM.ax_.set_title('Precision-Recall Curves for EEC, LGBM, and ETC_ADA')\n",
    "disp_LGBM.figure_.set_size_inches(16, 10)\n",
    "plt.grid()\n",
    "plt.show()"
   ]
  },
  {
   "cell_type": "markdown",
   "metadata": {},
   "source": [
    "LGBM and ETC_ADA duo dominates EEC everywhere along the precision-recall curve except at a very small section with a very small margin; consequently, balanced ensemble methods did not improve the result we achieved in the previous notebook. As a result, LGBM and ETC_ADA in combination is still the best predicitive model we were able to construct so far. "
   ]
  },
  {
   "cell_type": "code",
   "execution_count": null,
   "metadata": {},
   "outputs": [],
   "source": []
  }
 ],
 "metadata": {
  "kernelspec": {
   "display_name": "Python 3",
   "language": "python",
   "name": "python3"
  },
  "language_info": {
   "codemirror_mode": {
    "name": "ipython",
    "version": 3
   },
   "file_extension": ".py",
   "mimetype": "text/x-python",
   "name": "python",
   "nbconvert_exporter": "python",
   "pygments_lexer": "ipython3",
   "version": "3.7.6"
  }
 },
 "nbformat": 4,
 "nbformat_minor": 4
}
