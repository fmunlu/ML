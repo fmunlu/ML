{
 "cells": [
  {
   "cell_type": "markdown",
   "metadata": {},
   "source": [
    "# Credit Card Fraud Detection (part2)\n",
    "The objective is to identify fraudulent credit card transactions (492 instances) among legitimate transactions (284315 instances). In the previous notebook we dealt with the imbalanced class problem by assigning greater weight to the fraudulent cases so that the classifiers penalize fraudulent transactions misclassified as legitimate more as compared to legitimate transactions misclassified as fraud. We will utilize over/under sampling methods in this notebook instead.\n",
    "\n",
    "Please refer to the previous notebook for more information about the dataset."
   ]
  },
  {
   "cell_type": "markdown",
   "metadata": {},
   "source": [
    "## Step 1: Loading libraries to be used in the modeling and loading the dataset"
   ]
  },
  {
   "cell_type": "code",
   "execution_count": 1,
   "metadata": {},
   "outputs": [
    {
     "name": "stdout",
     "output_type": "stream",
     "text": [
      "numpy version:  1.18.1\n",
      "pandas version:  1.0.0\n",
      "seaborn version:  0.10.0\n"
     ]
    }
   ],
   "source": [
    "import numpy as np\n",
    "import pandas as pd\n",
    "import matplotlib.pyplot as plt\n",
    "import seaborn as sns\n",
    "%matplotlib inline\n",
    "\n",
    "print('numpy version: ',np.__version__)\n",
    "print('pandas version: ',pd.__version__)\n",
    "print('seaborn version: ',sns.__version__)"
   ]
  },
  {
   "cell_type": "code",
   "execution_count": 2,
   "metadata": {},
   "outputs": [],
   "source": [
    "#loading the data from the csv file downloaded from Kaggle\n",
    "\n",
    "data = pd.read_csv('datasets/credit-card-fraud.csv', header='infer')\n",
    "\n",
    "X = data.iloc[:, 0:30]\n",
    "y = data.loc[:, 'Class']"
   ]
  },
  {
   "cell_type": "markdown",
   "metadata": {},
   "source": [
    "## Step 2: Splitting the data into training and test sets"
   ]
  },
  {
   "cell_type": "code",
   "execution_count": 3,
   "metadata": {},
   "outputs": [],
   "source": [
    "#setting the random seed for reproducibility\n",
    "random_seed = 2020"
   ]
  },
  {
   "cell_type": "code",
   "execution_count": 4,
   "metadata": {},
   "outputs": [],
   "source": [
    "# I am setting 33.3% data aside for the test set.\n",
    "\n",
    "from sklearn.model_selection import train_test_split\n",
    "X_train, X_test, y_train, y_test = train_test_split(X, y, test_size=1/3, stratify=y, random_state=random_seed)"
   ]
  },
  {
   "cell_type": "markdown",
   "metadata": {},
   "source": [
    "## Step 3: Reviewing the results of the previous notebook\n",
    "The following models gave us the best results with respect to average precision in the previous notebook:\n",
    "* ETsC -- Extra Trees Classifier witn n_estimators=200\n",
    "* RFC -- Random Forest Classifier with n_estimators=150\n",
    "* LGBM -- LGBMClassifier with n_estimators=150 and learning_rate=0.2\n",
    "\n",
    "Here we will reproduce these results and precision-recall curve for all models to establish a baseline for comparing subsequent models."
   ]
  },
  {
   "cell_type": "code",
   "execution_count": 5,
   "metadata": {},
   "outputs": [],
   "source": [
    "from sklearn.ensemble import ExtraTreesClassifier, RandomForestClassifier\n",
    "import lightgbm as lgb\n",
    "\n",
    "from sklearn.metrics import average_precision_score\n",
    "from sklearn.metrics import plot_precision_recall_curve"
   ]
  },
  {
   "cell_type": "code",
   "execution_count": 6,
   "metadata": {},
   "outputs": [
    {
     "data": {
      "text/plain": [
       "ExtraTreesClassifier(bootstrap=False, ccp_alpha=0.0, class_weight='balanced',\n",
       "                     criterion='gini', max_depth=None, max_features='auto',\n",
       "                     max_leaf_nodes=None, max_samples=None,\n",
       "                     min_impurity_decrease=0.0, min_impurity_split=None,\n",
       "                     min_samples_leaf=1, min_samples_split=2,\n",
       "                     min_weight_fraction_leaf=0.0, n_estimators=200, n_jobs=-1,\n",
       "                     oob_score=False, random_state=2020, verbose=0,\n",
       "                     warm_start=False)"
      ]
     },
     "execution_count": 6,
     "metadata": {},
     "output_type": "execute_result"
    }
   ],
   "source": [
    "ETsC = ExtraTreesClassifier(n_estimators=200, class_weight='balanced', random_state=random_seed, \n",
    "                              n_jobs=-1)\n",
    "ETsC.fit(X_train, y_train)"
   ]
  },
  {
   "cell_type": "code",
   "execution_count": 7,
   "metadata": {},
   "outputs": [
    {
     "data": {
      "text/plain": [
       "RandomForestClassifier(bootstrap=True, ccp_alpha=0.0, class_weight='balanced',\n",
       "                       criterion='gini', max_depth=None, max_features='auto',\n",
       "                       max_leaf_nodes=None, max_samples=None,\n",
       "                       min_impurity_decrease=0.0, min_impurity_split=None,\n",
       "                       min_samples_leaf=1, min_samples_split=2,\n",
       "                       min_weight_fraction_leaf=0.0, n_estimators=150,\n",
       "                       n_jobs=-1, oob_score=False, random_state=2020, verbose=0,\n",
       "                       warm_start=False)"
      ]
     },
     "execution_count": 7,
     "metadata": {},
     "output_type": "execute_result"
    }
   ],
   "source": [
    "RFC = RandomForestClassifier(n_estimators=150, class_weight='balanced', random_state=random_seed,\n",
    "                             n_jobs=-1)\n",
    "RFC.fit(X_train, y_train)"
   ]
  },
  {
   "cell_type": "code",
   "execution_count": 8,
   "metadata": {},
   "outputs": [
    {
     "data": {
      "text/plain": [
       "LGBMClassifier(boosting_type='gbdt', class_weight='balanced',\n",
       "               colsample_bytree=1.0, importance_type='split', learning_rate=0.2,\n",
       "               max_depth=-1, min_child_samples=20, min_child_weight=0.001,\n",
       "               min_split_gain=0.0, n_estimators=150, n_jobs=-1, num_leaves=31,\n",
       "               objective=None, random_state=2020, reg_alpha=0.0, reg_lambda=0.0,\n",
       "               silent=True, subsample=1.0, subsample_for_bin=200000,\n",
       "               subsample_freq=0)"
      ]
     },
     "execution_count": 8,
     "metadata": {},
     "output_type": "execute_result"
    }
   ],
   "source": [
    "LGBM = lgb.LGBMClassifier(class_weight='balanced', random_state=random_seed, n_estimators=150, \n",
    "                          learning_rate=0.2, n_jobs=-1)\n",
    "LGBM.fit(X_train, y_train)\n"
   ]
  },
  {
   "cell_type": "code",
   "execution_count": 9,
   "metadata": {},
   "outputs": [
    {
     "data": {
      "image/png": "[encoded data removed]",
      "text/plain": [
       "<Figure size 1152x720 with 1 Axes>"
      ]
     },
     "metadata": {
      "needs_background": "light"
     },
     "output_type": "display_data"
    }
   ],
   "source": [
    "disp_ETsC = plot_precision_recall_curve(ETsC, X_test, y_test)\n",
    "disp_RFC = plot_precision_recall_curve(RFC, X_test, y_test, ax=disp_ETsC.ax_)\n",
    "disp_LGBM = plot_precision_recall_curve(LGBM, X_test, y_test, ax=disp_ETsC.ax_)\n",
    "disp_ETsC.ax_.set_title('Precision-Recall Curves for all Models')\n",
    "disp_ETsC.figure_.set_size_inches(16, 10)\n",
    "plt.grid()\n",
    "plt.show()"
   ]
  },
  {
   "cell_type": "code",
   "execution_count": 10,
   "metadata": {},
   "outputs": [
    {
     "name": "stdout",
     "output_type": "stream",
     "text": [
      "ETsC Average Precision =  0.84951\n",
      "RFC Average Precision =  0.84819\n",
      "LGBM Average Precision =  0.84353\n"
     ]
    }
   ],
   "source": [
    "print('ETsC Average Precision = ', np.round(disp_ETsC.average_precision, 5))\n",
    "print('RFC Average Precision = ', np.round(disp_RFC.average_precision, 5))\n",
    "print('LGBM Average Precision = ', np.round(disp_LGBM.average_precision, 5))"
   ]
  },
  {
   "cell_type": "markdown",
   "metadata": {},
   "source": [
    "## Step 4: Undersampling\n",
    "Now we will use various undersampling techniques with ETsC, RFC, and LGBM with default settings."
   ]
  },
  {
   "cell_type": "code",
   "execution_count": 11,
   "metadata": {},
   "outputs": [
    {
     "name": "stderr",
     "output_type": "stream",
     "text": [
      "Using TensorFlow backend.\n"
     ]
    }
   ],
   "source": [
    "from imblearn.under_sampling import (EditedNearestNeighbours,\n",
    "                                     RepeatedEditedNearestNeighbours,\n",
    "                                     AllKNN,\n",
    "                                     NearMiss,\n",
    "                                     NeighbourhoodCleaningRule,\n",
    "                                     OneSidedSelection,\n",
    "                                     RandomUnderSampler,\n",
    "                                     TomekLinks)\n",
    "undersamplers = [\n",
    "    ('enn', EditedNearestNeighbours()),\n",
    "    ('renn', RepeatedEditedNearestNeighbours()),\n",
    "    ('aknn', AllKNN()),\n",
    "    ('nrms', NearMiss()),\n",
    "    ('ncr', NeighbourhoodCleaningRule()),\n",
    "    ('oss', OneSidedSelection(random_state=random_seed)),\n",
    "    ('rus', RandomUnderSampler(random_state=random_seed)),\n",
    "    ('tmk', TomekLinks())\n",
    "]"
   ]
  },
  {
   "cell_type": "markdown",
   "metadata": {},
   "source": [
    "#### Warning:\n",
    "We originally had 'Condensed Nearest Neighbour' and 'Instance Hardness Threshold' in the undersampler list; however, they are taken out due to the fact that it took considerable time to train without remarkable results."
   ]
  },
  {
   "cell_type": "code",
   "execution_count": 12,
   "metadata": {},
   "outputs": [],
   "source": [
    "from imblearn.pipeline import Pipeline\n",
    "from sklearn.model_selection import cross_val_score\n",
    "\n",
    "cv = 5\n",
    "scoring = 'average_precision'"
   ]
  },
  {
   "cell_type": "markdown",
   "metadata": {},
   "source": [
    "### Extra Trees Classifier with Undersampling"
   ]
  },
  {
   "cell_type": "code",
   "execution_count": 13,
   "metadata": {},
   "outputs": [
    {
     "name": "stderr",
     "output_type": "stream",
     "text": [
      "[Parallel(n_jobs=-1)]: Using backend LokyBackend with 8 concurrent workers.\n",
      "[Parallel(n_jobs=-1)]: Done   2 out of   5 | elapsed:   35.6s remaining:   53.4s\n",
      "[Parallel(n_jobs=-1)]: Done   5 out of   5 | elapsed:   36.0s remaining:    0.0s\n",
      "[Parallel(n_jobs=-1)]: Done   5 out of   5 | elapsed:   36.0s finished\n",
      "[Parallel(n_jobs=-1)]: Using backend LokyBackend with 8 concurrent workers.\n",
      "[Parallel(n_jobs=-1)]: Done   2 out of   5 | elapsed:  1.0min remaining:  1.5min\n",
      "[Parallel(n_jobs=-1)]: Done   5 out of   5 | elapsed:  1.2min remaining:    0.0s\n",
      "[Parallel(n_jobs=-1)]: Done   5 out of   5 | elapsed:  1.2min finished\n",
      "[Parallel(n_jobs=-1)]: Using backend LokyBackend with 8 concurrent workers.\n",
      "[Parallel(n_jobs=-1)]: Done   2 out of   5 | elapsed:   45.8s remaining:  1.1min\n",
      "[Parallel(n_jobs=-1)]: Done   5 out of   5 | elapsed:   46.4s remaining:    0.0s\n",
      "[Parallel(n_jobs=-1)]: Done   5 out of   5 | elapsed:   46.4s finished\n",
      "[Parallel(n_jobs=-1)]: Using backend LokyBackend with 8 concurrent workers.\n",
      "[Parallel(n_jobs=-1)]: Done   2 out of   5 | elapsed:    1.5s remaining:    2.3s\n",
      "[Parallel(n_jobs=-1)]: Done   5 out of   5 | elapsed:    1.7s remaining:    0.0s\n",
      "[Parallel(n_jobs=-1)]: Done   5 out of   5 | elapsed:    1.7s finished\n",
      "[Parallel(n_jobs=-1)]: Using backend LokyBackend with 8 concurrent workers.\n",
      "[Parallel(n_jobs=-1)]: Done   2 out of   5 | elapsed:   38.7s remaining:   58.1s\n",
      "[Parallel(n_jobs=-1)]: Done   5 out of   5 | elapsed:   39.7s remaining:    0.0s\n",
      "[Parallel(n_jobs=-1)]: Done   5 out of   5 | elapsed:   39.7s finished\n",
      "[Parallel(n_jobs=-1)]: Using backend LokyBackend with 8 concurrent workers.\n",
      "[Parallel(n_jobs=-1)]: Done   2 out of   5 | elapsed:   33.5s remaining:   50.3s\n",
      "[Parallel(n_jobs=-1)]: Done   5 out of   5 | elapsed:   36.3s remaining:    0.0s\n",
      "[Parallel(n_jobs=-1)]: Done   5 out of   5 | elapsed:   36.3s finished\n",
      "[Parallel(n_jobs=-1)]: Using backend LokyBackend with 8 concurrent workers.\n",
      "[Parallel(n_jobs=-1)]: Done   2 out of   5 | elapsed:    0.6s remaining:    1.0s\n",
      "[Parallel(n_jobs=-1)]: Done   5 out of   5 | elapsed:    0.8s remaining:    0.0s\n",
      "[Parallel(n_jobs=-1)]: Done   5 out of   5 | elapsed:    0.8s finished\n",
      "[Parallel(n_jobs=-1)]: Using backend LokyBackend with 8 concurrent workers.\n",
      "[Parallel(n_jobs=-1)]: Done   2 out of   5 | elapsed:   31.2s remaining:   46.8s\n",
      "[Parallel(n_jobs=-1)]: Done   5 out of   5 | elapsed:   31.9s remaining:    0.0s\n",
      "[Parallel(n_jobs=-1)]: Done   5 out of   5 | elapsed:   31.9s finished\n"
     ]
    }
   ],
   "source": [
    "cv_results_etsc = {}\n",
    "\n",
    "for name, us in undersamplers:\n",
    "    model_pip = Pipeline([\n",
    "        (name, us),\n",
    "        ('etsc', ExtraTreesClassifier(random_state=random_seed))\n",
    "    ])\n",
    "    cv_res = cross_val_score(model_pip, X_train, y_train, cv=cv, scoring=scoring, verbose=2, n_jobs=-1)\n",
    "    cv_results_etsc[name] = cv_res"
   ]
  },
  {
   "cell_type": "code",
   "execution_count": 14,
   "metadata": {},
   "outputs": [],
   "source": [
    "results_df_etsc = pd.DataFrame(cv_results_etsc, index=range(1, cv+1))"
   ]
  },
  {
   "cell_type": "code",
   "execution_count": 15,
   "metadata": {},
   "outputs": [
    {
     "data": {
      "text/plain": [
       "rus     0.734535\n",
       "nrms    0.737279\n",
       "renn    0.841533\n",
       "aknn    0.841813\n",
       "oss     0.842150\n",
       "tmk     0.842398\n",
       "enn     0.843145\n",
       "ncr     0.844481\n",
       "dtype: float64"
      ]
     },
     "execution_count": 15,
     "metadata": {},
     "output_type": "execute_result"
    }
   ],
   "source": [
    "results_df_etsc.mean(axis='index').sort_values()"
   ]
  },
  {
   "cell_type": "code",
   "execution_count": 16,
   "metadata": {},
   "outputs": [
    {
     "data": {
      "text/plain": [
       "enn     0.016680\n",
       "renn    0.018222\n",
       "aknn    0.018202\n",
       "nrms    0.039806\n",
       "ncr     0.018324\n",
       "oss     0.018340\n",
       "rus     0.037462\n",
       "tmk     0.017504\n",
       "dtype: float64"
      ]
     },
     "execution_count": 16,
     "metadata": {},
     "output_type": "execute_result"
    }
   ],
   "source": [
    "results_df_etsc.std(axis='index')"
   ]
  },
  {
   "cell_type": "code",
   "execution_count": 17,
   "metadata": {},
   "outputs": [
    {
     "data": {
      "image/png": "[encoded data removed]",
      "text/plain": [
       "<Figure size 864x432 with 1 Axes>"
      ]
     },
     "metadata": {
      "needs_background": "light"
     },
     "output_type": "display_data"
    }
   ],
   "source": [
    "results_df_etsc.plot(kind='box', figsize=(12, 6))\n",
    "plt.title('CV scores for Extra Trees Classifier with Undersamplers')\n",
    "plt.axhline(y=0.8, color='red', linestyle='dashed')\n",
    "plt.ylabel('Average Precision')\n",
    "plt.show()"
   ]
  },
  {
   "cell_type": "markdown",
   "metadata": {},
   "source": [
    "### Random Forest Classifier with Undersampling"
   ]
  },
  {
   "cell_type": "code",
   "execution_count": 18,
   "metadata": {},
   "outputs": [
    {
     "name": "stderr",
     "output_type": "stream",
     "text": [
      "[Parallel(n_jobs=-1)]: Using backend LokyBackend with 8 concurrent workers.\n",
      "[Parallel(n_jobs=-1)]: Done   2 out of   5 | elapsed:  2.7min remaining:  4.1min\n",
      "[Parallel(n_jobs=-1)]: Done   5 out of   5 | elapsed:  2.8min remaining:    0.0s\n",
      "[Parallel(n_jobs=-1)]: Done   5 out of   5 | elapsed:  2.8min finished\n",
      "[Parallel(n_jobs=-1)]: Using backend LokyBackend with 8 concurrent workers.\n",
      "[Parallel(n_jobs=-1)]: Done   2 out of   5 | elapsed:  3.1min remaining:  4.7min\n",
      "[Parallel(n_jobs=-1)]: Done   5 out of   5 | elapsed:  3.3min remaining:    0.0s\n",
      "[Parallel(n_jobs=-1)]: Done   5 out of   5 | elapsed:  3.3min finished\n",
      "[Parallel(n_jobs=-1)]: Using backend LokyBackend with 8 concurrent workers.\n",
      "[Parallel(n_jobs=-1)]: Done   2 out of   5 | elapsed:  2.8min remaining:  4.2min\n",
      "[Parallel(n_jobs=-1)]: Done   5 out of   5 | elapsed:  2.9min remaining:    0.0s\n",
      "[Parallel(n_jobs=-1)]: Done   5 out of   5 | elapsed:  2.9min finished\n",
      "[Parallel(n_jobs=-1)]: Using backend LokyBackend with 8 concurrent workers.\n",
      "[Parallel(n_jobs=-1)]: Done   2 out of   5 | elapsed:    1.4s remaining:    2.2s\n",
      "[Parallel(n_jobs=-1)]: Done   5 out of   5 | elapsed:    1.6s remaining:    0.0s\n",
      "[Parallel(n_jobs=-1)]: Done   5 out of   5 | elapsed:    1.6s finished\n",
      "[Parallel(n_jobs=-1)]: Using backend LokyBackend with 8 concurrent workers.\n",
      "[Parallel(n_jobs=-1)]: Done   2 out of   5 | elapsed:  2.8min remaining:  4.2min\n",
      "[Parallel(n_jobs=-1)]: Done   5 out of   5 | elapsed:  2.9min remaining:    0.0s\n",
      "[Parallel(n_jobs=-1)]: Done   5 out of   5 | elapsed:  2.9min finished\n",
      "[Parallel(n_jobs=-1)]: Using backend LokyBackend with 8 concurrent workers.\n",
      "[Parallel(n_jobs=-1)]: Done   2 out of   5 | elapsed:  2.6min remaining:  3.9min\n",
      "[Parallel(n_jobs=-1)]: Done   5 out of   5 | elapsed:  2.6min remaining:    0.0s\n",
      "[Parallel(n_jobs=-1)]: Done   5 out of   5 | elapsed:  2.6min finished\n",
      "[Parallel(n_jobs=-1)]: Using backend LokyBackend with 8 concurrent workers.\n",
      "[Parallel(n_jobs=-1)]: Done   2 out of   5 | elapsed:    0.6s remaining:    1.0s\n",
      "[Parallel(n_jobs=-1)]: Done   5 out of   5 | elapsed:    0.7s remaining:    0.0s\n",
      "[Parallel(n_jobs=-1)]: Done   5 out of   5 | elapsed:    0.7s finished\n",
      "[Parallel(n_jobs=-1)]: Using backend LokyBackend with 8 concurrent workers.\n",
      "[Parallel(n_jobs=-1)]: Done   2 out of   5 | elapsed:  2.6min remaining:  3.9min\n",
      "[Parallel(n_jobs=-1)]: Done   5 out of   5 | elapsed:  2.7min remaining:    0.0s\n",
      "[Parallel(n_jobs=-1)]: Done   5 out of   5 | elapsed:  2.7min finished\n"
     ]
    }
   ],
   "source": [
    "cv_results_rfc = {}\n",
    "\n",
    "for name, us in undersamplers:\n",
    "    model_pip = Pipeline([\n",
    "        (name, us),\n",
    "        ('rfc', RandomForestClassifier(random_state=random_seed))\n",
    "    ])\n",
    "    cv_res = cross_val_score(model_pip, X_train, y_train, cv=cv, scoring=scoring, verbose=2, n_jobs=-1)\n",
    "    cv_results_rfc[name] = cv_res"
   ]
  },
  {
   "cell_type": "code",
   "execution_count": 19,
   "metadata": {},
   "outputs": [],
   "source": [
    "results_df_rfc = pd.DataFrame(cv_results_rfc, index=range(1, cv+1))"
   ]
  },
  {
   "cell_type": "code",
   "execution_count": 20,
   "metadata": {},
   "outputs": [
    {
     "data": {
      "text/plain": [
       "nrms    0.736033\n",
       "rus     0.742984\n",
       "oss     0.833217\n",
       "tmk     0.835633\n",
       "renn    0.835924\n",
       "ncr     0.836188\n",
       "enn     0.836364\n",
       "aknn    0.838108\n",
       "dtype: float64"
      ]
     },
     "execution_count": 20,
     "metadata": {},
     "output_type": "execute_result"
    }
   ],
   "source": [
    "results_df_rfc.mean(axis='index').sort_values()"
   ]
  },
  {
   "cell_type": "code",
   "execution_count": 21,
   "metadata": {},
   "outputs": [
    {
     "data": {
      "text/plain": [
       "enn     0.012665\n",
       "renn    0.013345\n",
       "aknn    0.018080\n",
       "nrms    0.035183\n",
       "ncr     0.013430\n",
       "oss     0.017559\n",
       "rus     0.041908\n",
       "tmk     0.014099\n",
       "dtype: float64"
      ]
     },
     "execution_count": 21,
     "metadata": {},
     "output_type": "execute_result"
    }
   ],
   "source": [
    "results_df_rfc.std(axis='index')"
   ]
  },
  {
   "cell_type": "code",
   "execution_count": 22,
   "metadata": {},
   "outputs": [
    {
     "data": {
      "image/png": "[encoded data removed]",
      "text/plain": [
       "<Figure size 864x432 with 1 Axes>"
      ]
     },
     "metadata": {
      "needs_background": "light"
     },
     "output_type": "display_data"
    }
   ],
   "source": [
    "results_df_rfc.plot(kind='box', figsize=(12, 6))\n",
    "plt.title('CV scores for Random Forest Classifier with Undersamplers')\n",
    "plt.axhline(y=0.8, color='red', linestyle='dashed')\n",
    "plt.ylabel('Average Precision')\n",
    "plt.show()"
   ]
  },
  {
   "cell_type": "markdown",
   "metadata": {},
   "source": [
    "### LGBM Classifier with Undersampling"
   ]
  },
  {
   "cell_type": "code",
   "execution_count": 23,
   "metadata": {},
   "outputs": [
    {
     "name": "stderr",
     "output_type": "stream",
     "text": [
      "[Parallel(n_jobs=-1)]: Using backend LokyBackend with 8 concurrent workers.\n",
      "[Parallel(n_jobs=-1)]: Done   2 out of   5 | elapsed:   12.4s remaining:   18.7s\n",
      "[Parallel(n_jobs=-1)]: Done   5 out of   5 | elapsed:   13.0s remaining:    0.0s\n",
      "[Parallel(n_jobs=-1)]: Done   5 out of   5 | elapsed:   13.0s finished\n",
      "[Parallel(n_jobs=-1)]: Using backend LokyBackend with 8 concurrent workers.\n",
      "[Parallel(n_jobs=-1)]: Done   2 out of   5 | elapsed:   43.0s remaining:  1.1min\n",
      "[Parallel(n_jobs=-1)]: Done   5 out of   5 | elapsed:   57.9s remaining:    0.0s\n",
      "[Parallel(n_jobs=-1)]: Done   5 out of   5 | elapsed:   57.9s finished\n",
      "[Parallel(n_jobs=-1)]: Using backend LokyBackend with 8 concurrent workers.\n",
      "[Parallel(n_jobs=-1)]: Done   2 out of   5 | elapsed:   25.9s remaining:   38.9s\n",
      "[Parallel(n_jobs=-1)]: Done   5 out of   5 | elapsed:   26.8s remaining:    0.0s\n",
      "[Parallel(n_jobs=-1)]: Done   5 out of   5 | elapsed:   26.8s finished\n",
      "[Parallel(n_jobs=-1)]: Using backend LokyBackend with 8 concurrent workers.\n",
      "[Parallel(n_jobs=-1)]: Done   2 out of   5 | elapsed:    1.8s remaining:    2.8s\n",
      "[Parallel(n_jobs=-1)]: Done   5 out of   5 | elapsed:    1.9s remaining:    0.0s\n",
      "[Parallel(n_jobs=-1)]: Done   5 out of   5 | elapsed:    1.9s finished\n",
      "[Parallel(n_jobs=-1)]: Using backend LokyBackend with 8 concurrent workers.\n",
      "[Parallel(n_jobs=-1)]: Done   2 out of   5 | elapsed:   21.9s remaining:   32.9s\n",
      "[Parallel(n_jobs=-1)]: Done   5 out of   5 | elapsed:   22.6s remaining:    0.0s\n",
      "[Parallel(n_jobs=-1)]: Done   5 out of   5 | elapsed:   22.6s finished\n",
      "[Parallel(n_jobs=-1)]: Using backend LokyBackend with 8 concurrent workers.\n",
      "[Parallel(n_jobs=-1)]: Done   2 out of   5 | elapsed:   19.0s remaining:   28.6s\n",
      "[Parallel(n_jobs=-1)]: Done   5 out of   5 | elapsed:   20.5s remaining:    0.0s\n",
      "[Parallel(n_jobs=-1)]: Done   5 out of   5 | elapsed:   20.5s finished\n",
      "[Parallel(n_jobs=-1)]: Using backend LokyBackend with 8 concurrent workers.\n",
      "[Parallel(n_jobs=-1)]: Done   2 out of   5 | elapsed:    0.8s remaining:    1.3s\n",
      "[Parallel(n_jobs=-1)]: Done   5 out of   5 | elapsed:    0.9s remaining:    0.0s\n",
      "[Parallel(n_jobs=-1)]: Done   5 out of   5 | elapsed:    0.9s finished\n",
      "[Parallel(n_jobs=-1)]: Using backend LokyBackend with 8 concurrent workers.\n",
      "[Parallel(n_jobs=-1)]: Done   2 out of   5 | elapsed:   13.9s remaining:   20.9s\n",
      "[Parallel(n_jobs=-1)]: Done   5 out of   5 | elapsed:   14.3s remaining:    0.0s\n",
      "[Parallel(n_jobs=-1)]: Done   5 out of   5 | elapsed:   14.3s finished\n"
     ]
    }
   ],
   "source": [
    "cv_results_lgbm = {}\n",
    "\n",
    "for name, us in undersamplers:\n",
    "    model_pip = Pipeline([\n",
    "        (name, us),\n",
    "        ('lgbm', lgb.LGBMClassifier(random_state=random_seed))\n",
    "    ])\n",
    "    cv_res = cross_val_score(model_pip, X_train, y_train, cv=cv, scoring=scoring, verbose=2, n_jobs=-1)\n",
    "    cv_results_lgbm[name] = cv_res"
   ]
  },
  {
   "cell_type": "code",
   "execution_count": 24,
   "metadata": {},
   "outputs": [],
   "source": [
    "results_df_lgbm = pd.DataFrame(cv_results_lgbm, index=range(1, cv+1))"
   ]
  },
  {
   "cell_type": "code",
   "execution_count": 25,
   "metadata": {},
   "outputs": [
    {
     "data": {
      "text/plain": [
       "ncr     0.095025\n",
       "enn     0.121612\n",
       "renn    0.131549\n",
       "aknn    0.174218\n",
       "oss     0.174278\n",
       "tmk     0.189949\n",
       "nrms    0.629813\n",
       "rus     0.682396\n",
       "dtype: float64"
      ]
     },
     "execution_count": 25,
     "metadata": {},
     "output_type": "execute_result"
    }
   ],
   "source": [
    "results_df_lgbm.mean(axis='index').sort_values()"
   ]
  },
  {
   "cell_type": "code",
   "execution_count": 26,
   "metadata": {},
   "outputs": [
    {
     "data": {
      "text/plain": [
       "enn     0.115590\n",
       "renn    0.093273\n",
       "aknn    0.125663\n",
       "nrms    0.125238\n",
       "ncr     0.124298\n",
       "oss     0.074071\n",
       "rus     0.068642\n",
       "tmk     0.133578\n",
       "dtype: float64"
      ]
     },
     "execution_count": 26,
     "metadata": {},
     "output_type": "execute_result"
    }
   ],
   "source": [
    "results_df_lgbm.std(axis='index')"
   ]
  },
  {
   "cell_type": "code",
   "execution_count": 27,
   "metadata": {},
   "outputs": [
    {
     "data": {
      "image/png": "[encoded data removed]",
      "text/plain": [
       "<Figure size 864x432 with 1 Axes>"
      ]
     },
     "metadata": {
      "needs_background": "light"
     },
     "output_type": "display_data"
    }
   ],
   "source": [
    "results_df_lgbm.plot(kind='box', figsize=(12, 6))\n",
    "plt.title('CV scores for LGBM Classifier with Undersamplers')\n",
    "plt.axhline(y=0.8, color='red', linestyle='dashed')\n",
    "plt.ylabel('Average Precision')\n",
    "plt.show()"
   ]
  },
  {
   "cell_type": "markdown",
   "metadata": {},
   "source": [
    "## Step 5: Oversampling\n",
    "Now we will use various oversampling and combination techniques with ETsC, RFC, and LGBM with default settings."
   ]
  },
  {
   "cell_type": "code",
   "execution_count": 28,
   "metadata": {},
   "outputs": [],
   "source": [
    "from imblearn.over_sampling import (ADASYN,\n",
    "                                    BorderlineSMOTE,\n",
    "                                    RandomOverSampler,\n",
    "                                    SMOTE,\n",
    "                                    SVMSMOTE)\n",
    "from imblearn.combine import SMOTEENN, SMOTETomek\n",
    "oversamplers = [\n",
    "    ('ada', ADASYN(random_state=random_seed)),\n",
    "    ('bls', BorderlineSMOTE(random_state=random_seed)),\n",
    "    ('ros', RandomOverSampler(random_state=random_seed)),\n",
    "    ('smt', SMOTE(random_state=random_seed)),\n",
    "    ('svsm', SVMSMOTE(random_state=random_seed)),\n",
    "    ('smtenn', SMOTEENN(random_state=random_seed)),\n",
    "    ('smttmk', SMOTETomek(random_state=random_seed))\n",
    "]"
   ]
  },
  {
   "cell_type": "markdown",
   "metadata": {},
   "source": [
    "### Extra Trees Classifier with Oversampling"
   ]
  },
  {
   "cell_type": "code",
   "execution_count": 29,
   "metadata": {},
   "outputs": [
    {
     "name": "stderr",
     "output_type": "stream",
     "text": [
      "[Parallel(n_jobs=-1)]: Using backend LokyBackend with 8 concurrent workers.\n",
      "[Parallel(n_jobs=-1)]: Done   2 out of   5 | elapsed:   52.2s remaining:  1.3min\n",
      "[Parallel(n_jobs=-1)]: Done   5 out of   5 | elapsed:   53.5s remaining:    0.0s\n",
      "[Parallel(n_jobs=-1)]: Done   5 out of   5 | elapsed:   53.5s finished\n",
      "[Parallel(n_jobs=-1)]: Using backend LokyBackend with 8 concurrent workers.\n",
      "[Parallel(n_jobs=-1)]: Done   2 out of   5 | elapsed:   46.4s remaining:  1.2min\n",
      "[Parallel(n_jobs=-1)]: Done   5 out of   5 | elapsed:   48.0s remaining:    0.0s\n",
      "[Parallel(n_jobs=-1)]: Done   5 out of   5 | elapsed:   48.0s finished\n",
      "[Parallel(n_jobs=-1)]: Using backend LokyBackend with 8 concurrent workers.\n",
      "[Parallel(n_jobs=-1)]: Done   2 out of   5 | elapsed:   52.8s remaining:  1.3min\n",
      "[Parallel(n_jobs=-1)]: Done   5 out of   5 | elapsed:   54.8s remaining:    0.0s\n",
      "[Parallel(n_jobs=-1)]: Done   5 out of   5 | elapsed:   54.8s finished\n",
      "[Parallel(n_jobs=-1)]: Using backend LokyBackend with 8 concurrent workers.\n",
      "[Parallel(n_jobs=-1)]: Done   2 out of   5 | elapsed:   58.3s remaining:  1.5min\n",
      "[Parallel(n_jobs=-1)]: Done   5 out of   5 | elapsed:  1.0min remaining:    0.0s\n",
      "[Parallel(n_jobs=-1)]: Done   5 out of   5 | elapsed:  1.0min finished\n",
      "[Parallel(n_jobs=-1)]: Using backend LokyBackend with 8 concurrent workers.\n",
      "[Parallel(n_jobs=-1)]: Done   2 out of   5 | elapsed:   40.9s remaining:  1.0min\n",
      "[Parallel(n_jobs=-1)]: Done   5 out of   5 | elapsed:   43.3s remaining:    0.0s\n",
      "[Parallel(n_jobs=-1)]: Done   5 out of   5 | elapsed:   43.3s finished\n",
      "[Parallel(n_jobs=-1)]: Using backend LokyBackend with 8 concurrent workers.\n",
      "[Parallel(n_jobs=-1)]: Done   2 out of   5 | elapsed:  1.1min remaining:  1.7min\n",
      "[Parallel(n_jobs=-1)]: Done   5 out of   5 | elapsed:  1.1min remaining:    0.0s\n",
      "[Parallel(n_jobs=-1)]: Done   5 out of   5 | elapsed:  1.1min finished\n",
      "[Parallel(n_jobs=-1)]: Using backend LokyBackend with 8 concurrent workers.\n",
      "[Parallel(n_jobs=-1)]: Done   2 out of   5 | elapsed:  1.3min remaining:  1.9min\n",
      "[Parallel(n_jobs=-1)]: Done   5 out of   5 | elapsed:  1.3min remaining:    0.0s\n",
      "[Parallel(n_jobs=-1)]: Done   5 out of   5 | elapsed:  1.3min finished\n"
     ]
    }
   ],
   "source": [
    "cv_results_etsc_o = {}\n",
    "\n",
    "for name, os in oversamplers:\n",
    "    model_pip = Pipeline([\n",
    "        (name, os),\n",
    "        ('etsc', ExtraTreesClassifier(random_state=random_seed))\n",
    "    ])\n",
    "    cv_res = cross_val_score(model_pip, X_train, y_train, cv=cv, scoring=scoring, verbose=2, n_jobs=-1)\n",
    "    cv_results_etsc_o[name] = cv_res"
   ]
  },
  {
   "cell_type": "code",
   "execution_count": 30,
   "metadata": {},
   "outputs": [],
   "source": [
    "results_df_etsc_o = pd.DataFrame(cv_results_etsc_o, index=range(1, cv+1))"
   ]
  },
  {
   "cell_type": "code",
   "execution_count": 31,
   "metadata": {},
   "outputs": [
    {
     "data": {
      "text/plain": [
       "smtenn    0.835111\n",
       "smt       0.842020\n",
       "svsm      0.845015\n",
       "smttmk    0.845444\n",
       "ros       0.845491\n",
       "ada       0.845796\n",
       "bls       0.846461\n",
       "dtype: float64"
      ]
     },
     "execution_count": 31,
     "metadata": {},
     "output_type": "execute_result"
    }
   ],
   "source": [
    "results_df_etsc_o.mean(axis='index').sort_values()"
   ]
  },
  {
   "cell_type": "code",
   "execution_count": 32,
   "metadata": {},
   "outputs": [
    {
     "data": {
      "text/plain": [
       "ada       0.025109\n",
       "bls       0.015611\n",
       "ros       0.021334\n",
       "smt       0.021908\n",
       "svsm      0.016804\n",
       "smtenn    0.020804\n",
       "smttmk    0.025634\n",
       "dtype: float64"
      ]
     },
     "execution_count": 32,
     "metadata": {},
     "output_type": "execute_result"
    }
   ],
   "source": [
    "results_df_etsc_o.std(axis='index')"
   ]
  },
  {
   "cell_type": "code",
   "execution_count": 33,
   "metadata": {},
   "outputs": [
    {
     "data": {
      "image/png": "[encoded data removed]",
      "text/plain": [
       "<Figure size 864x432 with 1 Axes>"
      ]
     },
     "metadata": {
      "needs_background": "light"
     },
     "output_type": "display_data"
    }
   ],
   "source": [
    "results_df_etsc_o.plot(kind='box', figsize=(12, 6))\n",
    "plt.title('CV scores for Extra Trees Classifier with Oversamplers')\n",
    "plt.axhline(y=0.85, color='red', linestyle='dashed')\n",
    "plt.ylabel('Average Precision')\n",
    "plt.show()"
   ]
  },
  {
   "cell_type": "markdown",
   "metadata": {},
   "source": [
    "### Random Forest Classifier with Oversampling"
   ]
  },
  {
   "cell_type": "code",
   "execution_count": 34,
   "metadata": {},
   "outputs": [
    {
     "name": "stderr",
     "output_type": "stream",
     "text": [
      "[Parallel(n_jobs=-1)]: Using backend LokyBackend with 8 concurrent workers.\n",
      "[Parallel(n_jobs=-1)]: Done   2 out of   5 | elapsed:  4.6min remaining:  6.8min\n",
      "[Parallel(n_jobs=-1)]: Done   5 out of   5 | elapsed:  4.6min remaining:    0.0s\n",
      "[Parallel(n_jobs=-1)]: Done   5 out of   5 | elapsed:  4.6min finished\n",
      "[Parallel(n_jobs=-1)]: Using backend LokyBackend with 8 concurrent workers.\n",
      "[Parallel(n_jobs=-1)]: Done   2 out of   5 | elapsed:  4.3min remaining:  6.4min\n",
      "[Parallel(n_jobs=-1)]: Done   5 out of   5 | elapsed:  4.4min remaining:    0.0s\n",
      "[Parallel(n_jobs=-1)]: Done   5 out of   5 | elapsed:  4.4min finished\n",
      "[Parallel(n_jobs=-1)]: Using backend LokyBackend with 8 concurrent workers.\n",
      "[Parallel(n_jobs=-1)]: Done   2 out of   5 | elapsed:  2.3min remaining:  3.4min\n",
      "[Parallel(n_jobs=-1)]: Done   5 out of   5 | elapsed:  2.3min remaining:    0.0s\n",
      "[Parallel(n_jobs=-1)]: Done   5 out of   5 | elapsed:  2.3min finished\n",
      "[Parallel(n_jobs=-1)]: Using backend LokyBackend with 8 concurrent workers.\n",
      "[Parallel(n_jobs=-1)]: Done   2 out of   5 | elapsed:  4.9min remaining:  7.3min\n",
      "[Parallel(n_jobs=-1)]: Done   5 out of   5 | elapsed:  5.0min remaining:    0.0s\n",
      "[Parallel(n_jobs=-1)]: Done   5 out of   5 | elapsed:  5.0min finished\n",
      "[Parallel(n_jobs=-1)]: Using backend LokyBackend with 8 concurrent workers.\n",
      "[Parallel(n_jobs=-1)]: Done   2 out of   5 | elapsed:  3.2min remaining:  4.7min\n",
      "[Parallel(n_jobs=-1)]: Done   5 out of   5 | elapsed:  3.9min remaining:    0.0s\n",
      "[Parallel(n_jobs=-1)]: Done   5 out of   5 | elapsed:  3.9min finished\n",
      "[Parallel(n_jobs=-1)]: Using backend LokyBackend with 8 concurrent workers.\n",
      "[Parallel(n_jobs=-1)]: Done   2 out of   5 | elapsed:  4.5min remaining:  6.8min\n",
      "[Parallel(n_jobs=-1)]: Done   5 out of   5 | elapsed:  4.6min remaining:    0.0s\n",
      "[Parallel(n_jobs=-1)]: Done   5 out of   5 | elapsed:  4.6min finished\n",
      "[Parallel(n_jobs=-1)]: Using backend LokyBackend with 8 concurrent workers.\n",
      "[Parallel(n_jobs=-1)]: Done   2 out of   5 | elapsed:  5.0min remaining:  7.5min\n",
      "[Parallel(n_jobs=-1)]: Done   5 out of   5 | elapsed:  5.1min remaining:    0.0s\n",
      "[Parallel(n_jobs=-1)]: Done   5 out of   5 | elapsed:  5.1min finished\n"
     ]
    }
   ],
   "source": [
    "cv_results_rfc_o = {}\n",
    "\n",
    "for name, os in oversamplers:\n",
    "    model_pip = Pipeline([\n",
    "        (name, os),\n",
    "        ('rfc', RandomForestClassifier(random_state=random_seed))\n",
    "    ])\n",
    "    cv_res = cross_val_score(model_pip, X_train, y_train, cv=cv, scoring=scoring, verbose=2, n_jobs=-1)\n",
    "    cv_results_rfc_o[name] = cv_res"
   ]
  },
  {
   "cell_type": "code",
   "execution_count": 35,
   "metadata": {},
   "outputs": [],
   "source": [
    "results_df_rfc_o = pd.DataFrame(cv_results_rfc_o, index=range(1, cv+1))"
   ]
  },
  {
   "cell_type": "code",
   "execution_count": 36,
   "metadata": {},
   "outputs": [
    {
     "data": {
      "text/plain": [
       "smttmk    0.832530\n",
       "ada       0.833601\n",
       "bls       0.835362\n",
       "smtenn    0.837292\n",
       "svsm      0.837391\n",
       "smt       0.838485\n",
       "ros       0.843578\n",
       "dtype: float64"
      ]
     },
     "execution_count": 36,
     "metadata": {},
     "output_type": "execute_result"
    }
   ],
   "source": [
    "results_df_rfc_o.mean(axis='index').sort_values()"
   ]
  },
  {
   "cell_type": "code",
   "execution_count": 37,
   "metadata": {},
   "outputs": [
    {
     "data": {
      "text/plain": [
       "ada       0.023046\n",
       "bls       0.018270\n",
       "ros       0.020801\n",
       "smt       0.022094\n",
       "svsm      0.012061\n",
       "smtenn    0.020160\n",
       "smttmk    0.019193\n",
       "dtype: float64"
      ]
     },
     "execution_count": 37,
     "metadata": {},
     "output_type": "execute_result"
    }
   ],
   "source": [
    "results_df_rfc_o.std(axis='index')"
   ]
  },
  {
   "cell_type": "code",
   "execution_count": 38,
   "metadata": {},
   "outputs": [
    {
     "data": {
      "image/png": "[encoded data removed]",
      "text/plain": [
       "<Figure size 864x432 with 1 Axes>"
      ]
     },
     "metadata": {
      "needs_background": "light"
     },
     "output_type": "display_data"
    }
   ],
   "source": [
    "results_df_rfc_o.plot(kind='box', figsize=(12, 6))\n",
    "plt.title('CV scores for Random Forest Classifier with Oversamplers')\n",
    "plt.axhline(y=0.85, color='red', linestyle='dashed')\n",
    "plt.ylabel('Average Precision')\n",
    "plt.show()"
   ]
  },
  {
   "cell_type": "markdown",
   "metadata": {},
   "source": [
    "### LGBM Classifier with Oversampling"
   ]
  },
  {
   "cell_type": "code",
   "execution_count": 39,
   "metadata": {},
   "outputs": [
    {
     "name": "stderr",
     "output_type": "stream",
     "text": [
      "[Parallel(n_jobs=-1)]: Using backend LokyBackend with 8 concurrent workers.\n",
      "[Parallel(n_jobs=-1)]: Done   2 out of   5 | elapsed:   15.1s remaining:   22.7s\n",
      "[Parallel(n_jobs=-1)]: Done   5 out of   5 | elapsed:   15.6s remaining:    0.0s\n",
      "[Parallel(n_jobs=-1)]: Done   5 out of   5 | elapsed:   15.6s finished\n",
      "[Parallel(n_jobs=-1)]: Using backend LokyBackend with 8 concurrent workers.\n",
      "[Parallel(n_jobs=-1)]: Done   2 out of   5 | elapsed:   14.1s remaining:   21.2s\n",
      "[Parallel(n_jobs=-1)]: Done   5 out of   5 | elapsed:   17.4s remaining:    0.0s\n",
      "[Parallel(n_jobs=-1)]: Done   5 out of   5 | elapsed:   17.4s finished\n",
      "[Parallel(n_jobs=-1)]: Using backend LokyBackend with 8 concurrent workers.\n",
      "[Parallel(n_jobs=-1)]: Done   2 out of   5 | elapsed:   11.9s remaining:   17.9s\n",
      "[Parallel(n_jobs=-1)]: Done   5 out of   5 | elapsed:   12.6s remaining:    0.0s\n",
      "[Parallel(n_jobs=-1)]: Done   5 out of   5 | elapsed:   12.6s finished\n",
      "[Parallel(n_jobs=-1)]: Using backend LokyBackend with 8 concurrent workers.\n",
      "[Parallel(n_jobs=-1)]: Done   2 out of   5 | elapsed:   12.5s remaining:   18.8s\n",
      "[Parallel(n_jobs=-1)]: Done   5 out of   5 | elapsed:   12.9s remaining:    0.0s\n",
      "[Parallel(n_jobs=-1)]: Done   5 out of   5 | elapsed:   12.9s finished\n",
      "[Parallel(n_jobs=-1)]: Using backend LokyBackend with 8 concurrent workers.\n",
      "[Parallel(n_jobs=-1)]: Done   2 out of   5 | elapsed:   17.4s remaining:   26.1s\n",
      "[Parallel(n_jobs=-1)]: Done   5 out of   5 | elapsed:   20.8s remaining:    0.0s\n",
      "[Parallel(n_jobs=-1)]: Done   5 out of   5 | elapsed:   20.8s finished\n",
      "[Parallel(n_jobs=-1)]: Using backend LokyBackend with 8 concurrent workers.\n",
      "[Parallel(n_jobs=-1)]: Done   2 out of   5 | elapsed:   28.4s remaining:   42.7s\n",
      "[Parallel(n_jobs=-1)]: Done   5 out of   5 | elapsed:   29.8s remaining:    0.0s\n",
      "[Parallel(n_jobs=-1)]: Done   5 out of   5 | elapsed:   29.8s finished\n",
      "[Parallel(n_jobs=-1)]: Using backend LokyBackend with 8 concurrent workers.\n",
      "[Parallel(n_jobs=-1)]: Done   2 out of   5 | elapsed:   29.7s remaining:   44.6s\n",
      "[Parallel(n_jobs=-1)]: Done   5 out of   5 | elapsed:   30.1s remaining:    0.0s\n",
      "[Parallel(n_jobs=-1)]: Done   5 out of   5 | elapsed:   30.1s finished\n"
     ]
    }
   ],
   "source": [
    "cv_results_lgbm_o = {}\n",
    "\n",
    "for name, os in oversamplers:\n",
    "    model_pip = Pipeline([\n",
    "        (name, os),\n",
    "        ('lgbm', lgb.LGBMClassifier(random_state=random_seed))\n",
    "    ])\n",
    "    cv_res = cross_val_score(model_pip, X_train, y_train, cv=cv, scoring=scoring, verbose=2, n_jobs=-1)\n",
    "    cv_results_lgbm_o[name] = cv_res"
   ]
  },
  {
   "cell_type": "code",
   "execution_count": 40,
   "metadata": {},
   "outputs": [],
   "source": [
    "results_df_lgbm_o = pd.DataFrame(cv_results_lgbm_o, index=range(1, cv+1))"
   ]
  },
  {
   "cell_type": "code",
   "execution_count": 41,
   "metadata": {},
   "outputs": [
    {
     "data": {
      "text/plain": [
       "smt       0.773090\n",
       "smttmk    0.788245\n",
       "ada       0.795778\n",
       "smtenn    0.798648\n",
       "bls       0.829631\n",
       "ros       0.836730\n",
       "svsm      0.842851\n",
       "dtype: float64"
      ]
     },
     "execution_count": 41,
     "metadata": {},
     "output_type": "execute_result"
    }
   ],
   "source": [
    "results_df_lgbm_o.mean(axis='index').sort_values()"
   ]
  },
  {
   "cell_type": "code",
   "execution_count": 42,
   "metadata": {},
   "outputs": [
    {
     "data": {
      "text/plain": [
       "ada       0.060580\n",
       "bls       0.020305\n",
       "ros       0.028980\n",
       "smt       0.031866\n",
       "svsm      0.012490\n",
       "smtenn    0.053073\n",
       "smttmk    0.059774\n",
       "dtype: float64"
      ]
     },
     "execution_count": 42,
     "metadata": {},
     "output_type": "execute_result"
    }
   ],
   "source": [
    "results_df_lgbm_o.std(axis='index')"
   ]
  },
  {
   "cell_type": "code",
   "execution_count": 43,
   "metadata": {},
   "outputs": [
    {
     "data": {
      "image/png": "[encoded data removed]",
      "text/plain": [
       "<Figure size 864x432 with 1 Axes>"
      ]
     },
     "metadata": {
      "needs_background": "light"
     },
     "output_type": "display_data"
    }
   ],
   "source": [
    "results_df_lgbm_o.plot(kind='box', figsize=(12, 6))\n",
    "plt.title('CV scores for LGBM Classifier with Oversamplers')\n",
    "plt.axhline(y=0.85, color='red', linestyle='dashed')\n",
    "plt.ylabel('Average Precision')\n",
    "plt.show()"
   ]
  },
  {
   "cell_type": "markdown",
   "metadata": {},
   "source": [
    "## Step 6: Fine tuning of promising models\n",
    "Now we will fine tune (finding optimal hyperparameters) for the top four models using 5-fold cross validation with respect to 'average precision':\n",
    "1. Extra Trees Classifier with Border Line SMOTE (AP = 0.846461)\n",
    "2. Extra Trees Classifier with ADASYN (AP = 0.845796)\n",
    "3. Extra Trees Classifier with Random Over Sampler (AP = 0.845491)\n",
    "4. Extra Trees Classifier with Neighbourhood Cleaning Rule (AP = 0.844481)"
   ]
  },
  {
   "cell_type": "code",
   "execution_count": 44,
   "metadata": {},
   "outputs": [],
   "source": [
    "from sklearn.model_selection import GridSearchCV"
   ]
  },
  {
   "cell_type": "markdown",
   "metadata": {},
   "source": [
    "### Extra Trees Classifier with Border Line SMOTE"
   ]
  },
  {
   "cell_type": "code",
   "execution_count": 45,
   "metadata": {},
   "outputs": [
    {
     "name": "stdout",
     "output_type": "stream",
     "text": [
      "Fitting 5 folds for each of 72 candidates, totalling 360 fits\n"
     ]
    },
    {
     "name": "stderr",
     "output_type": "stream",
     "text": [
      "[Parallel(n_jobs=-1)]: Using backend LokyBackend with 8 concurrent workers.\n",
      "[Parallel(n_jobs=-1)]: Done  25 tasks      | elapsed:  5.8min\n",
      "[Parallel(n_jobs=-1)]: Done 146 tasks      | elapsed: 33.0min\n",
      "[Parallel(n_jobs=-1)]: Done 360 out of 360 | elapsed: 82.2min finished\n"
     ]
    }
   ],
   "source": [
    "n_estimators = [75, 100, 150, 200]   #default=100, bias increases as it decreases\n",
    "k_neighbors = [3, 5, 7] #default=5\n",
    "m_neighbors = [8, 10, 12] #default=10\n",
    "kind = ['borderline-1', 'borderline-2'] #default='borderline-1'\n",
    "\n",
    "par_grid_bls = dict(etsc__n_estimators=n_estimators, bls__k_neighbors=k_neighbors, \n",
    "                    bls__m_neighbors=m_neighbors, bls__kind=kind)\n",
    "\n",
    "model_pip = Pipeline([\n",
    "        ('bls', BorderlineSMOTE(random_state=random_seed)),\n",
    "        ('etsc', ExtraTreesClassifier(random_state=random_seed))\n",
    "    ])\n",
    "\n",
    "grid_bls = GridSearchCV(estimator=model_pip, param_grid=par_grid_bls, cv=cv, \n",
    "                        verbose=2, n_jobs=-1, scoring=scoring)\n",
    "grid_result_bls = grid_bls.fit(X_train, y_train)"
   ]
  },
  {
   "cell_type": "code",
   "execution_count": 46,
   "metadata": {},
   "outputs": [
    {
     "data": {
      "text/plain": [
       "{'bls__k_neighbors': 7,\n",
       " 'bls__kind': 'borderline-1',\n",
       " 'bls__m_neighbors': 10,\n",
       " 'etsc__n_estimators': 150}"
      ]
     },
     "execution_count": 46,
     "metadata": {},
     "output_type": "execute_result"
    }
   ],
   "source": [
    "grid_result_bls.best_params_"
   ]
  },
  {
   "cell_type": "code",
   "execution_count": 47,
   "metadata": {},
   "outputs": [
    {
     "data": {
      "text/plain": [
       "0.8530669366143346"
      ]
     },
     "execution_count": 47,
     "metadata": {},
     "output_type": "execute_result"
    }
   ],
   "source": [
    "grid_result_bls.best_score_"
   ]
  },
  {
   "cell_type": "code",
   "execution_count": 48,
   "metadata": {},
   "outputs": [
    {
     "data": {
      "text/html": [
       "<div>\n",
       "<style scoped>\n",
       "    .dataframe tbody tr th:only-of-type {\n",
       "        vertical-align: middle;\n",
       "    }\n",
       "\n",
       "    .dataframe tbody tr th {\n",
       "        vertical-align: top;\n",
       "    }\n",
       "\n",
       "    .dataframe thead th {\n",
       "        text-align: right;\n",
       "    }\n",
       "</style>\n",
       "<table border=\"1\" class=\"dataframe\">\n",
       "  <thead>\n",
       "    <tr style=\"text-align: right;\">\n",
       "      <th></th>\n",
       "      <th>params</th>\n",
       "      <th>mean_test_score</th>\n",
       "      <th>std_test_score</th>\n",
       "      <th>rank_test_score</th>\n",
       "    </tr>\n",
       "  </thead>\n",
       "  <tbody>\n",
       "    <tr>\n",
       "      <th>54</th>\n",
       "      <td>{'bls__k_neighbors': 7, 'bls__kind': 'borderli...</td>\n",
       "      <td>0.853067</td>\n",
       "      <td>0.010292</td>\n",
       "      <td>1</td>\n",
       "    </tr>\n",
       "    <tr>\n",
       "      <th>43</th>\n",
       "      <td>{'bls__k_neighbors': 5, 'bls__kind': 'borderli...</td>\n",
       "      <td>0.852627</td>\n",
       "      <td>0.011723</td>\n",
       "      <td>2</td>\n",
       "    </tr>\n",
       "    <tr>\n",
       "      <th>67</th>\n",
       "      <td>{'bls__k_neighbors': 7, 'bls__kind': 'borderli...</td>\n",
       "      <td>0.852576</td>\n",
       "      <td>0.009133</td>\n",
       "      <td>3</td>\n",
       "    </tr>\n",
       "    <tr>\n",
       "      <th>39</th>\n",
       "      <td>{'bls__k_neighbors': 5, 'bls__kind': 'borderli...</td>\n",
       "      <td>0.852188</td>\n",
       "      <td>0.011488</td>\n",
       "      <td>4</td>\n",
       "    </tr>\n",
       "    <tr>\n",
       "      <th>55</th>\n",
       "      <td>{'bls__k_neighbors': 7, 'bls__kind': 'borderli...</td>\n",
       "      <td>0.852162</td>\n",
       "      <td>0.011592</td>\n",
       "      <td>5</td>\n",
       "    </tr>\n",
       "    <tr>\n",
       "      <th>42</th>\n",
       "      <td>{'bls__k_neighbors': 5, 'bls__kind': 'borderli...</td>\n",
       "      <td>0.851685</td>\n",
       "      <td>0.010191</td>\n",
       "      <td>6</td>\n",
       "    </tr>\n",
       "    <tr>\n",
       "      <th>71</th>\n",
       "      <td>{'bls__k_neighbors': 7, 'bls__kind': 'borderli...</td>\n",
       "      <td>0.851673</td>\n",
       "      <td>0.012416</td>\n",
       "      <td>7</td>\n",
       "    </tr>\n",
       "  </tbody>\n",
       "</table>\n",
       "</div>"
      ],
      "text/plain": [
       "                                               params  mean_test_score  \\\n",
       "54  {'bls__k_neighbors': 7, 'bls__kind': 'borderli...         0.853067   \n",
       "43  {'bls__k_neighbors': 5, 'bls__kind': 'borderli...         0.852627   \n",
       "67  {'bls__k_neighbors': 7, 'bls__kind': 'borderli...         0.852576   \n",
       "39  {'bls__k_neighbors': 5, 'bls__kind': 'borderli...         0.852188   \n",
       "55  {'bls__k_neighbors': 7, 'bls__kind': 'borderli...         0.852162   \n",
       "42  {'bls__k_neighbors': 5, 'bls__kind': 'borderli...         0.851685   \n",
       "71  {'bls__k_neighbors': 7, 'bls__kind': 'borderli...         0.851673   \n",
       "\n",
       "    std_test_score  rank_test_score  \n",
       "54        0.010292                1  \n",
       "43        0.011723                2  \n",
       "67        0.009133                3  \n",
       "39        0.011488                4  \n",
       "55        0.011592                5  \n",
       "42        0.010191                6  \n",
       "71        0.012416                7  "
      ]
     },
     "execution_count": 48,
     "metadata": {},
     "output_type": "execute_result"
    }
   ],
   "source": [
    "pd.DataFrame(grid_result_bls.cv_results_)[['params', 'mean_test_score', \n",
    "                                           'std_test_score', 'rank_test_score']].sort_values('rank_test_score').head(7)"
   ]
  },
  {
   "cell_type": "markdown",
   "metadata": {},
   "source": [
    "#### The best model is Extra Trees Classifier (n_estimators=150) oversampled with Border Line SMOTE (k_neighbors=7)"
   ]
  },
  {
   "cell_type": "markdown",
   "metadata": {},
   "source": [
    "### Extra Trees Classifier with ADASYN"
   ]
  },
  {
   "cell_type": "code",
   "execution_count": 49,
   "metadata": {},
   "outputs": [
    {
     "name": "stdout",
     "output_type": "stream",
     "text": [
      "Fitting 5 folds for each of 24 candidates, totalling 120 fits\n"
     ]
    },
    {
     "name": "stderr",
     "output_type": "stream",
     "text": [
      "[Parallel(n_jobs=-1)]: Using backend LokyBackend with 8 concurrent workers.\n",
      "[Parallel(n_jobs=-1)]: Done  25 tasks      | elapsed:  5.4min\n",
      "[Parallel(n_jobs=-1)]: Done 120 out of 120 | elapsed: 27.5min finished\n"
     ]
    }
   ],
   "source": [
    "n_estimators = [75, 100, 150, 200]   #default=100, bias increases as it decreases\n",
    "n_neighbors = [2, 3, 4, 5, 6, 7] #default=5\n",
    "\n",
    "par_grid_ada = dict(etsc__n_estimators=n_estimators, ada__n_neighbors=n_neighbors)\n",
    "                    \n",
    "model_pip = Pipeline([\n",
    "        ('ada', ADASYN(random_state=random_seed)),\n",
    "        ('etsc', ExtraTreesClassifier(random_state=random_seed))\n",
    "    ])\n",
    "\n",
    "grid_ada = GridSearchCV(estimator=model_pip, param_grid=par_grid_ada, cv=cv, \n",
    "                        verbose=2, n_jobs=-1, scoring=scoring)\n",
    "grid_result_ada = grid_ada.fit(X_train, y_train)"
   ]
  },
  {
   "cell_type": "code",
   "execution_count": 50,
   "metadata": {},
   "outputs": [
    {
     "data": {
      "text/plain": [
       "{'ada__n_neighbors': 7, 'etsc__n_estimators': 200}"
      ]
     },
     "execution_count": 50,
     "metadata": {},
     "output_type": "execute_result"
    }
   ],
   "source": [
    "grid_result_ada.best_params_"
   ]
  },
  {
   "cell_type": "code",
   "execution_count": 51,
   "metadata": {},
   "outputs": [
    {
     "data": {
      "text/plain": [
       "0.8532866228850594"
      ]
     },
     "execution_count": 51,
     "metadata": {},
     "output_type": "execute_result"
    }
   ],
   "source": [
    "grid_result_ada.best_score_"
   ]
  },
  {
   "cell_type": "code",
   "execution_count": 52,
   "metadata": {},
   "outputs": [
    {
     "data": {
      "text/html": [
       "<div>\n",
       "<style scoped>\n",
       "    .dataframe tbody tr th:only-of-type {\n",
       "        vertical-align: middle;\n",
       "    }\n",
       "\n",
       "    .dataframe tbody tr th {\n",
       "        vertical-align: top;\n",
       "    }\n",
       "\n",
       "    .dataframe thead th {\n",
       "        text-align: right;\n",
       "    }\n",
       "</style>\n",
       "<table border=\"1\" class=\"dataframe\">\n",
       "  <thead>\n",
       "    <tr style=\"text-align: right;\">\n",
       "      <th></th>\n",
       "      <th>params</th>\n",
       "      <th>mean_test_score</th>\n",
       "      <th>std_test_score</th>\n",
       "      <th>rank_test_score</th>\n",
       "    </tr>\n",
       "  </thead>\n",
       "  <tbody>\n",
       "    <tr>\n",
       "      <th>23</th>\n",
       "      <td>{'ada__n_neighbors': 7, 'etsc__n_estimators': ...</td>\n",
       "      <td>0.853287</td>\n",
       "      <td>0.011428</td>\n",
       "      <td>1</td>\n",
       "    </tr>\n",
       "    <tr>\n",
       "      <th>18</th>\n",
       "      <td>{'ada__n_neighbors': 6, 'etsc__n_estimators': ...</td>\n",
       "      <td>0.852660</td>\n",
       "      <td>0.015241</td>\n",
       "      <td>2</td>\n",
       "    </tr>\n",
       "    <tr>\n",
       "      <th>17</th>\n",
       "      <td>{'ada__n_neighbors': 6, 'etsc__n_estimators': ...</td>\n",
       "      <td>0.852536</td>\n",
       "      <td>0.017110</td>\n",
       "      <td>3</td>\n",
       "    </tr>\n",
       "    <tr>\n",
       "      <th>19</th>\n",
       "      <td>{'ada__n_neighbors': 6, 'etsc__n_estimators': ...</td>\n",
       "      <td>0.852338</td>\n",
       "      <td>0.015660</td>\n",
       "      <td>4</td>\n",
       "    </tr>\n",
       "    <tr>\n",
       "      <th>22</th>\n",
       "      <td>{'ada__n_neighbors': 7, 'etsc__n_estimators': ...</td>\n",
       "      <td>0.850984</td>\n",
       "      <td>0.012799</td>\n",
       "      <td>5</td>\n",
       "    </tr>\n",
       "    <tr>\n",
       "      <th>15</th>\n",
       "      <td>{'ada__n_neighbors': 5, 'etsc__n_estimators': ...</td>\n",
       "      <td>0.850597</td>\n",
       "      <td>0.019724</td>\n",
       "      <td>6</td>\n",
       "    </tr>\n",
       "    <tr>\n",
       "      <th>16</th>\n",
       "      <td>{'ada__n_neighbors': 6, 'etsc__n_estimators': 75}</td>\n",
       "      <td>0.850391</td>\n",
       "      <td>0.021329</td>\n",
       "      <td>7</td>\n",
       "    </tr>\n",
       "  </tbody>\n",
       "</table>\n",
       "</div>"
      ],
      "text/plain": [
       "                                               params  mean_test_score  \\\n",
       "23  {'ada__n_neighbors': 7, 'etsc__n_estimators': ...         0.853287   \n",
       "18  {'ada__n_neighbors': 6, 'etsc__n_estimators': ...         0.852660   \n",
       "17  {'ada__n_neighbors': 6, 'etsc__n_estimators': ...         0.852536   \n",
       "19  {'ada__n_neighbors': 6, 'etsc__n_estimators': ...         0.852338   \n",
       "22  {'ada__n_neighbors': 7, 'etsc__n_estimators': ...         0.850984   \n",
       "15  {'ada__n_neighbors': 5, 'etsc__n_estimators': ...         0.850597   \n",
       "16  {'ada__n_neighbors': 6, 'etsc__n_estimators': 75}         0.850391   \n",
       "\n",
       "    std_test_score  rank_test_score  \n",
       "23        0.011428                1  \n",
       "18        0.015241                2  \n",
       "17        0.017110                3  \n",
       "19        0.015660                4  \n",
       "22        0.012799                5  \n",
       "15        0.019724                6  \n",
       "16        0.021329                7  "
      ]
     },
     "execution_count": 52,
     "metadata": {},
     "output_type": "execute_result"
    }
   ],
   "source": [
    "pd.DataFrame(grid_result_ada.cv_results_)[['params', 'mean_test_score', \n",
    "                                           'std_test_score', 'rank_test_score']].sort_values('rank_test_score').head(7)"
   ]
  },
  {
   "cell_type": "markdown",
   "metadata": {},
   "source": [
    "#### The best model is Extra Trees Classifier (n_estimators=200) oversampled with ADASYN (n_neighbors=7)"
   ]
  },
  {
   "cell_type": "markdown",
   "metadata": {},
   "source": [
    "### Extra Trees Classifier with Random Over Sampler"
   ]
  },
  {
   "cell_type": "code",
   "execution_count": 53,
   "metadata": {},
   "outputs": [
    {
     "name": "stdout",
     "output_type": "stream",
     "text": [
      "Fitting 5 folds for each of 4 candidates, totalling 20 fits\n"
     ]
    },
    {
     "name": "stderr",
     "output_type": "stream",
     "text": [
      "[Parallel(n_jobs=-1)]: Using backend LokyBackend with 8 concurrent workers.\n",
      "[Parallel(n_jobs=-1)]: Done  16 out of  20 | elapsed:  4.3min remaining:  1.1min\n",
      "[Parallel(n_jobs=-1)]: Done  20 out of  20 | elapsed:  5.0min finished\n"
     ]
    }
   ],
   "source": [
    "n_estimators = [75, 100, 150, 200]   #default=100, bias increases as it decreases\n",
    "\n",
    "par_grid_ros = dict(etsc__n_estimators=n_estimators)\n",
    "                    \n",
    "model_pip = Pipeline([\n",
    "        ('ros', RandomOverSampler(random_state=random_seed)),\n",
    "        ('etsc', ExtraTreesClassifier(random_state=random_seed))\n",
    "    ])\n",
    "\n",
    "grid_ros = GridSearchCV(estimator=model_pip, param_grid=par_grid_ros, cv=cv, \n",
    "                        verbose=2, n_jobs=-1, scoring=scoring)\n",
    "grid_result_ros = grid_ros.fit(X_train, y_train)"
   ]
  },
  {
   "cell_type": "code",
   "execution_count": 54,
   "metadata": {},
   "outputs": [
    {
     "data": {
      "text/plain": [
       "{'etsc__n_estimators': 200}"
      ]
     },
     "execution_count": 54,
     "metadata": {},
     "output_type": "execute_result"
    }
   ],
   "source": [
    "grid_result_ros.best_params_"
   ]
  },
  {
   "cell_type": "code",
   "execution_count": 55,
   "metadata": {},
   "outputs": [
    {
     "data": {
      "text/plain": [
       "0.8459686697670648"
      ]
     },
     "execution_count": 55,
     "metadata": {},
     "output_type": "execute_result"
    }
   ],
   "source": [
    "grid_result_ros.best_score_"
   ]
  },
  {
   "cell_type": "code",
   "execution_count": 56,
   "metadata": {},
   "outputs": [
    {
     "data": {
      "text/html": [
       "<div>\n",
       "<style scoped>\n",
       "    .dataframe tbody tr th:only-of-type {\n",
       "        vertical-align: middle;\n",
       "    }\n",
       "\n",
       "    .dataframe tbody tr th {\n",
       "        vertical-align: top;\n",
       "    }\n",
       "\n",
       "    .dataframe thead th {\n",
       "        text-align: right;\n",
       "    }\n",
       "</style>\n",
       "<table border=\"1\" class=\"dataframe\">\n",
       "  <thead>\n",
       "    <tr style=\"text-align: right;\">\n",
       "      <th></th>\n",
       "      <th>params</th>\n",
       "      <th>mean_test_score</th>\n",
       "      <th>std_test_score</th>\n",
       "      <th>rank_test_score</th>\n",
       "    </tr>\n",
       "  </thead>\n",
       "  <tbody>\n",
       "    <tr>\n",
       "      <th>3</th>\n",
       "      <td>{'etsc__n_estimators': 200}</td>\n",
       "      <td>0.845969</td>\n",
       "      <td>0.019069</td>\n",
       "      <td>1</td>\n",
       "    </tr>\n",
       "    <tr>\n",
       "      <th>1</th>\n",
       "      <td>{'etsc__n_estimators': 100}</td>\n",
       "      <td>0.845491</td>\n",
       "      <td>0.019082</td>\n",
       "      <td>2</td>\n",
       "    </tr>\n",
       "    <tr>\n",
       "      <th>2</th>\n",
       "      <td>{'etsc__n_estimators': 150}</td>\n",
       "      <td>0.845420</td>\n",
       "      <td>0.017945</td>\n",
       "      <td>3</td>\n",
       "    </tr>\n",
       "    <tr>\n",
       "      <th>0</th>\n",
       "      <td>{'etsc__n_estimators': 75}</td>\n",
       "      <td>0.843367</td>\n",
       "      <td>0.019299</td>\n",
       "      <td>4</td>\n",
       "    </tr>\n",
       "  </tbody>\n",
       "</table>\n",
       "</div>"
      ],
      "text/plain": [
       "                        params  mean_test_score  std_test_score  \\\n",
       "3  {'etsc__n_estimators': 200}         0.845969        0.019069   \n",
       "1  {'etsc__n_estimators': 100}         0.845491        0.019082   \n",
       "2  {'etsc__n_estimators': 150}         0.845420        0.017945   \n",
       "0   {'etsc__n_estimators': 75}         0.843367        0.019299   \n",
       "\n",
       "   rank_test_score  \n",
       "3                1  \n",
       "1                2  \n",
       "2                3  \n",
       "0                4  "
      ]
     },
     "execution_count": 56,
     "metadata": {},
     "output_type": "execute_result"
    }
   ],
   "source": [
    "pd.DataFrame(grid_result_ros.cv_results_)[['params', 'mean_test_score', \n",
    "                                           'std_test_score', 'rank_test_score']].sort_values('rank_test_score').head(7)"
   ]
  },
  {
   "cell_type": "markdown",
   "metadata": {},
   "source": [
    "#### The best model is Extra Trees Classifier (n_estimators=150) -picked due to lower variance- oversampled with Random Over Sampler"
   ]
  },
  {
   "cell_type": "markdown",
   "metadata": {},
   "source": [
    "### Extra Trees Classifier with Neighbourhood Cleaning Rule"
   ]
  },
  {
   "cell_type": "code",
   "execution_count": 57,
   "metadata": {},
   "outputs": [
    {
     "name": "stdout",
     "output_type": "stream",
     "text": [
      "Fitting 5 folds for each of 48 candidates, totalling 240 fits\n"
     ]
    },
    {
     "name": "stderr",
     "output_type": "stream",
     "text": [
      "[Parallel(n_jobs=-1)]: Using backend LokyBackend with 8 concurrent workers.\n",
      "[Parallel(n_jobs=-1)]: Done  25 tasks      | elapsed:  3.5min\n",
      "[Parallel(n_jobs=-1)]: Done 146 tasks      | elapsed: 19.4min\n",
      "[Parallel(n_jobs=-1)]: Done 240 out of 240 | elapsed: 37.7min finished\n"
     ]
    }
   ],
   "source": [
    "n_estimators = [75, 100, 150, 200]   #default=100, bias increases as it decreases\n",
    "n_neighbors = [2, 3, 4, 5]  #default=3\n",
    "threshold_cleaning = [0.45, 0.50, 0.55]  #default=0.5\n",
    "\n",
    "par_grid_ncr = dict(etsc__n_estimators=n_estimators, ncr__n_neighbors=n_neighbors, \n",
    "                    ncr__threshold_cleaning=threshold_cleaning)\n",
    "                    \n",
    "model_pip = Pipeline([\n",
    "        ('ncr', NeighbourhoodCleaningRule()),\n",
    "        ('etsc', ExtraTreesClassifier(random_state=random_seed))\n",
    "    ])\n",
    "\n",
    "grid_ncr = GridSearchCV(estimator=model_pip, param_grid=par_grid_ncr, cv=cv, \n",
    "                        verbose=2, n_jobs=-1, scoring=scoring)\n",
    "grid_result_ncr = grid_ncr.fit(X_train, y_train)"
   ]
  },
  {
   "cell_type": "code",
   "execution_count": 58,
   "metadata": {},
   "outputs": [
    {
     "data": {
      "text/plain": [
       "{'etsc__n_estimators': 200,\n",
       " 'ncr__n_neighbors': 3,\n",
       " 'ncr__threshold_cleaning': 0.45}"
      ]
     },
     "execution_count": 58,
     "metadata": {},
     "output_type": "execute_result"
    }
   ],
   "source": [
    "grid_result_ncr.best_params_"
   ]
  },
  {
   "cell_type": "code",
   "execution_count": 59,
   "metadata": {},
   "outputs": [
    {
     "data": {
      "text/plain": [
       "0.8478271760231489"
      ]
     },
     "execution_count": 59,
     "metadata": {},
     "output_type": "execute_result"
    }
   ],
   "source": [
    "grid_result_ncr.best_score_"
   ]
  },
  {
   "cell_type": "code",
   "execution_count": 60,
   "metadata": {},
   "outputs": [
    {
     "data": {
      "text/html": [
       "<div>\n",
       "<style scoped>\n",
       "    .dataframe tbody tr th:only-of-type {\n",
       "        vertical-align: middle;\n",
       "    }\n",
       "\n",
       "    .dataframe tbody tr th {\n",
       "        vertical-align: top;\n",
       "    }\n",
       "\n",
       "    .dataframe thead th {\n",
       "        text-align: right;\n",
       "    }\n",
       "</style>\n",
       "<table border=\"1\" class=\"dataframe\">\n",
       "  <thead>\n",
       "    <tr style=\"text-align: right;\">\n",
       "      <th></th>\n",
       "      <th>params</th>\n",
       "      <th>mean_test_score</th>\n",
       "      <th>std_test_score</th>\n",
       "      <th>rank_test_score</th>\n",
       "    </tr>\n",
       "  </thead>\n",
       "  <tbody>\n",
       "    <tr>\n",
       "      <th>41</th>\n",
       "      <td>{'etsc__n_estimators': 200, 'ncr__n_neighbors'...</td>\n",
       "      <td>0.847827</td>\n",
       "      <td>0.016132</td>\n",
       "      <td>1</td>\n",
       "    </tr>\n",
       "    <tr>\n",
       "      <th>40</th>\n",
       "      <td>{'etsc__n_estimators': 200, 'ncr__n_neighbors'...</td>\n",
       "      <td>0.847827</td>\n",
       "      <td>0.016132</td>\n",
       "      <td>1</td>\n",
       "    </tr>\n",
       "    <tr>\n",
       "      <th>39</th>\n",
       "      <td>{'etsc__n_estimators': 200, 'ncr__n_neighbors'...</td>\n",
       "      <td>0.847827</td>\n",
       "      <td>0.016132</td>\n",
       "      <td>1</td>\n",
       "    </tr>\n",
       "    <tr>\n",
       "      <th>38</th>\n",
       "      <td>{'etsc__n_estimators': 200, 'ncr__n_neighbors'...</td>\n",
       "      <td>0.847186</td>\n",
       "      <td>0.015690</td>\n",
       "      <td>4</td>\n",
       "    </tr>\n",
       "    <tr>\n",
       "      <th>36</th>\n",
       "      <td>{'etsc__n_estimators': 200, 'ncr__n_neighbors'...</td>\n",
       "      <td>0.847186</td>\n",
       "      <td>0.015690</td>\n",
       "      <td>4</td>\n",
       "    </tr>\n",
       "    <tr>\n",
       "      <th>37</th>\n",
       "      <td>{'etsc__n_estimators': 200, 'ncr__n_neighbors'...</td>\n",
       "      <td>0.847186</td>\n",
       "      <td>0.015690</td>\n",
       "      <td>4</td>\n",
       "    </tr>\n",
       "    <tr>\n",
       "      <th>47</th>\n",
       "      <td>{'etsc__n_estimators': 200, 'ncr__n_neighbors'...</td>\n",
       "      <td>0.846991</td>\n",
       "      <td>0.019938</td>\n",
       "      <td>7</td>\n",
       "    </tr>\n",
       "  </tbody>\n",
       "</table>\n",
       "</div>"
      ],
      "text/plain": [
       "                                               params  mean_test_score  \\\n",
       "41  {'etsc__n_estimators': 200, 'ncr__n_neighbors'...         0.847827   \n",
       "40  {'etsc__n_estimators': 200, 'ncr__n_neighbors'...         0.847827   \n",
       "39  {'etsc__n_estimators': 200, 'ncr__n_neighbors'...         0.847827   \n",
       "38  {'etsc__n_estimators': 200, 'ncr__n_neighbors'...         0.847186   \n",
       "36  {'etsc__n_estimators': 200, 'ncr__n_neighbors'...         0.847186   \n",
       "37  {'etsc__n_estimators': 200, 'ncr__n_neighbors'...         0.847186   \n",
       "47  {'etsc__n_estimators': 200, 'ncr__n_neighbors'...         0.846991   \n",
       "\n",
       "    std_test_score  rank_test_score  \n",
       "41        0.016132                1  \n",
       "40        0.016132                1  \n",
       "39        0.016132                1  \n",
       "38        0.015690                4  \n",
       "36        0.015690                4  \n",
       "37        0.015690                4  \n",
       "47        0.019938                7  "
      ]
     },
     "execution_count": 60,
     "metadata": {},
     "output_type": "execute_result"
    }
   ],
   "source": [
    "pd.DataFrame(grid_result_ncr.cv_results_)[['params', 'mean_test_score', \n",
    "                                           'std_test_score', 'rank_test_score']].sort_values('rank_test_score').head(7)"
   ]
  },
  {
   "cell_type": "markdown",
   "metadata": {},
   "source": [
    "#### The best model is Extra Trees Classifier (n_estimators=200) undersampled with Neighbourhood Cleaning Rule (threshold_cleaning=0.45)"
   ]
  },
  {
   "cell_type": "markdown",
   "metadata": {},
   "source": [
    "## Step 7: Evaluation of top models on the test set"
   ]
  },
  {
   "cell_type": "markdown",
   "metadata": {},
   "source": [
    "#### Extra Trees Classifier (n_estimators=150) oversampled with Border Line SMOTE (k_neighbors=7)"
   ]
  },
  {
   "cell_type": "code",
   "execution_count": 61,
   "metadata": {},
   "outputs": [
    {
     "data": {
      "text/plain": [
       "ExtraTreesClassifier(bootstrap=False, ccp_alpha=0.0, class_weight=None,\n",
       "                     criterion='gini', max_depth=None, max_features='auto',\n",
       "                     max_leaf_nodes=None, max_samples=None,\n",
       "                     min_impurity_decrease=0.0, min_impurity_split=None,\n",
       "                     min_samples_leaf=1, min_samples_split=2,\n",
       "                     min_weight_fraction_leaf=0.0, n_estimators=150, n_jobs=-1,\n",
       "                     oob_score=False, random_state=2020, verbose=0,\n",
       "                     warm_start=False)"
      ]
     },
     "execution_count": 61,
     "metadata": {},
     "output_type": "execute_result"
    }
   ],
   "source": [
    "bls = BorderlineSMOTE(k_neighbors=7, random_state=random_seed, n_jobs=-1)\n",
    "X_train_bls, y_train_bls = bls.fit_sample(X_train, y_train)\n",
    "\n",
    "etsc_bls = ExtraTreesClassifier(n_estimators=150, random_state=random_seed, n_jobs=-1)\n",
    "etsc_bls.fit(X_train_bls, y_train_bls)"
   ]
  },
  {
   "cell_type": "code",
   "execution_count": 62,
   "metadata": {},
   "outputs": [
    {
     "data": {
      "image/png": "[encoded data removed]",
      "text/plain": [
       "<Figure size 648x432 with 1 Axes>"
      ]
     },
     "metadata": {
      "needs_background": "light"
     },
     "output_type": "display_data"
    }
   ],
   "source": [
    "disp_bls = plot_precision_recall_curve(etsc_bls, X_test, y_test)\n",
    "disp_bls.ax_.set_title('Precision-Recall Curve for ETC with Border Line SMOTE')\n",
    "disp_bls.figure_.set_size_inches(9, 6)\n",
    "plt.grid()\n",
    "plt.show()"
   ]
  },
  {
   "cell_type": "code",
   "execution_count": 63,
   "metadata": {},
   "outputs": [
    {
     "name": "stdout",
     "output_type": "stream",
     "text": [
      "ETC with Border Line SMOTE Average Precision on the Test Set =  0.85844\n"
     ]
    }
   ],
   "source": [
    "print('ETC with Border Line SMOTE Average Precision on the Test Set = ', np.round(disp_bls.average_precision, 5))"
   ]
  },
  {
   "cell_type": "markdown",
   "metadata": {},
   "source": [
    "### Extra Trees Classifier (n_estimators=200) oversampled with ADASYN (n_neighbors=7)"
   ]
  },
  {
   "cell_type": "code",
   "execution_count": 64,
   "metadata": {},
   "outputs": [
    {
     "data": {
      "text/plain": [
       "ExtraTreesClassifier(bootstrap=False, ccp_alpha=0.0, class_weight=None,\n",
       "                     criterion='gini', max_depth=None, max_features='auto',\n",
       "                     max_leaf_nodes=None, max_samples=None,\n",
       "                     min_impurity_decrease=0.0, min_impurity_split=None,\n",
       "                     min_samples_leaf=1, min_samples_split=2,\n",
       "                     min_weight_fraction_leaf=0.0, n_estimators=200, n_jobs=-1,\n",
       "                     oob_score=False, random_state=2020, verbose=0,\n",
       "                     warm_start=False)"
      ]
     },
     "execution_count": 64,
     "metadata": {},
     "output_type": "execute_result"
    }
   ],
   "source": [
    "ada = ADASYN(n_neighbors=7, random_state=random_seed, n_jobs=-1)\n",
    "X_train_ada, y_train_ada = ada.fit_sample(X_train, y_train)\n",
    "\n",
    "etsc_ada = ExtraTreesClassifier(n_estimators=200, random_state=random_seed, n_jobs=-1)\n",
    "etsc_ada.fit(X_train_ada, y_train_ada)"
   ]
  },
  {
   "cell_type": "code",
   "execution_count": 65,
   "metadata": {},
   "outputs": [
    {
     "data": {
      "image/png": "[encoded data removed]",
      "text/plain": [
       "<Figure size 648x432 with 1 Axes>"
      ]
     },
     "metadata": {
      "needs_background": "light"
     },
     "output_type": "display_data"
    }
   ],
   "source": [
    "disp_ada = plot_precision_recall_curve(etsc_ada, X_test, y_test)\n",
    "disp_ada.ax_.set_title('Precision-Recall Curve for ETC with ADASYN')\n",
    "disp_ada.figure_.set_size_inches(9, 6)\n",
    "plt.grid()\n",
    "plt.show()"
   ]
  },
  {
   "cell_type": "code",
   "execution_count": 66,
   "metadata": {},
   "outputs": [
    {
     "name": "stdout",
     "output_type": "stream",
     "text": [
      "ETC with ADASYN Average Precision on the Test Set =  0.86789\n"
     ]
    }
   ],
   "source": [
    "print('ETC with ADASYN Average Precision on the Test Set = ', np.round(disp_ada.average_precision, 5))"
   ]
  },
  {
   "cell_type": "markdown",
   "metadata": {},
   "source": [
    "### Extra Trees Classifier (n_estimators=150) oversampled with Random Over Sampler"
   ]
  },
  {
   "cell_type": "code",
   "execution_count": 67,
   "metadata": {},
   "outputs": [
    {
     "data": {
      "text/plain": [
       "ExtraTreesClassifier(bootstrap=False, ccp_alpha=0.0, class_weight=None,\n",
       "                     criterion='gini', max_depth=None, max_features='auto',\n",
       "                     max_leaf_nodes=None, max_samples=None,\n",
       "                     min_impurity_decrease=0.0, min_impurity_split=None,\n",
       "                     min_samples_leaf=1, min_samples_split=2,\n",
       "                     min_weight_fraction_leaf=0.0, n_estimators=150, n_jobs=-1,\n",
       "                     oob_score=False, random_state=2020, verbose=0,\n",
       "                     warm_start=False)"
      ]
     },
     "execution_count": 67,
     "metadata": {},
     "output_type": "execute_result"
    }
   ],
   "source": [
    "ros = RandomOverSampler(random_state=random_seed)\n",
    "X_train_ros, y_train_ros = ros.fit_sample(X_train, y_train)\n",
    "\n",
    "etsc_ros = ExtraTreesClassifier(n_estimators=150, random_state=random_seed, n_jobs=-1)\n",
    "etsc_ros.fit(X_train_ros, y_train_ros)"
   ]
  },
  {
   "cell_type": "code",
   "execution_count": 68,
   "metadata": {},
   "outputs": [
    {
     "data": {
      "image/png": "[encoded data removed]",
      "text/plain": [
       "<Figure size 648x432 with 1 Axes>"
      ]
     },
     "metadata": {
      "needs_background": "light"
     },
     "output_type": "display_data"
    }
   ],
   "source": [
    "disp_ros = plot_precision_recall_curve(etsc_ros, X_test, y_test)\n",
    "disp_ros.ax_.set_title('Precision-Recall Curve for ETC with Random Over Sampler')\n",
    "disp_ros.figure_.set_size_inches(9, 6)\n",
    "plt.grid()\n",
    "plt.show()"
   ]
  },
  {
   "cell_type": "code",
   "execution_count": 69,
   "metadata": {},
   "outputs": [
    {
     "name": "stdout",
     "output_type": "stream",
     "text": [
      "ETC with Random Over Sampler Average Precision on the Test Set =  0.85533\n"
     ]
    }
   ],
   "source": [
    "print('ETC with Random Over Sampler Average Precision on the Test Set = ', np.round(disp_ros.average_precision, 5))"
   ]
  },
  {
   "cell_type": "markdown",
   "metadata": {},
   "source": [
    "### Extra Trees Classifier (n_estimators=200) undersampled with Neighbourhood Cleaning Rule (threshold_cleaning=0.45)"
   ]
  },
  {
   "cell_type": "code",
   "execution_count": 70,
   "metadata": {},
   "outputs": [
    {
     "data": {
      "text/plain": [
       "ExtraTreesClassifier(bootstrap=False, ccp_alpha=0.0, class_weight=None,\n",
       "                     criterion='gini', max_depth=None, max_features='auto',\n",
       "                     max_leaf_nodes=None, max_samples=None,\n",
       "                     min_impurity_decrease=0.0, min_impurity_split=None,\n",
       "                     min_samples_leaf=1, min_samples_split=2,\n",
       "                     min_weight_fraction_leaf=0.0, n_estimators=200, n_jobs=-1,\n",
       "                     oob_score=False, random_state=2020, verbose=0,\n",
       "                     warm_start=False)"
      ]
     },
     "execution_count": 70,
     "metadata": {},
     "output_type": "execute_result"
    }
   ],
   "source": [
    "ncr = NeighbourhoodCleaningRule(threshold_cleaning=0.45, n_jobs=-1)\n",
    "X_train_ncr, y_train_ncr = ncr.fit_sample(X_train, y_train)\n",
    "\n",
    "etsc_ncr = ExtraTreesClassifier(n_estimators=200, random_state=random_seed, n_jobs=-1)\n",
    "etsc_ncr.fit(X_train_ncr, y_train_ncr)"
   ]
  },
  {
   "cell_type": "code",
   "execution_count": 71,
   "metadata": {},
   "outputs": [
    {
     "data": {
      "image/png": "[encoded data removed]",
      "text/plain": [
       "<Figure size 648x432 with 1 Axes>"
      ]
     },
     "metadata": {
      "needs_background": "light"
     },
     "output_type": "display_data"
    }
   ],
   "source": [
    "disp_ncr = plot_precision_recall_curve(etsc_ncr, X_test, y_test)\n",
    "disp_ncr.ax_.set_title('Precision-Recall Curve for ETC with Neighbourhood Cleaning Rule')\n",
    "disp_ncr.figure_.set_size_inches(9, 6)\n",
    "plt.grid()\n",
    "plt.show()"
   ]
  },
  {
   "cell_type": "code",
   "execution_count": 72,
   "metadata": {},
   "outputs": [
    {
     "name": "stdout",
     "output_type": "stream",
     "text": [
      "ETC with Neighbourhood Cleaning Rule Average Precision on the Test Set =  0.85405\n"
     ]
    }
   ],
   "source": [
    "print('ETC with Neighbourhood Cleaning Rule Average Precision on the Test Set = ', np.round(disp_ncr.average_precision, 5))"
   ]
  },
  {
   "cell_type": "markdown",
   "metadata": {},
   "source": [
    "## Step 8: Conclusion\n",
    "Based on the precision-recall curves below:\n",
    "1. All four models performed similarly on the test set. If one model is better than any other along the precision-recall curve, it is only marginally so.\n",
    "2. Extra Trees Classifier with Random Over Sampler is dominated by the trio of the remaining models; thus, it will be a safe bet to remove it from the lot."
   ]
  },
  {
   "cell_type": "code",
   "execution_count": 73,
   "metadata": {},
   "outputs": [
    {
     "data": {
      "image/png": "[encoded data removed]",
      "text/plain": [
       "<Figure size 1152x720 with 1 Axes>"
      ]
     },
     "metadata": {
      "needs_background": "light"
     },
     "output_type": "display_data"
    }
   ],
   "source": [
    "disp_bls.plot(label='Border Line SMOTE')\n",
    "disp_ada.plot(label='ADASYN', ax=disp_bls.ax_)\n",
    "disp_ros.plot(label='Random Over Sampler', ax=disp_bls.ax_)\n",
    "disp_ncr.plot(label='Neighbourhood Cleaning Rule', ax=disp_bls.ax_)\n",
    "disp_bls.figure_.set_size_inches(16, 10)\n",
    "disp_bls.ax_.set_title('Precision-Recall Curves for ETC with all Resamplers')\n",
    "plt.grid()\n",
    "plt.show()"
   ]
  },
  {
   "cell_type": "markdown",
   "metadata": {},
   "source": [
    "Now, we will compare Extra Trees Classifier with Border Line SMOTE, ADASYN, and Neighbourhood Cleaning Rule with Random Forest Classifier and LGBM Classifier from the previous notebook."
   ]
  },
  {
   "cell_type": "code",
   "execution_count": 74,
   "metadata": {},
   "outputs": [
    {
     "data": {
      "image/png": "[encoded data removed]",
      "text/plain": [
       "<Figure size 1152x720 with 1 Axes>"
      ]
     },
     "metadata": {
      "needs_background": "light"
     },
     "output_type": "display_data"
    }
   ],
   "source": [
    "disp_bls.plot(label='Border Line SMOTE')\n",
    "disp_ada.plot(label='ADASYN', ax=disp_bls.ax_)\n",
    "disp_ncr.plot(label='Neighbourhood Cleaning Rule', ax=disp_bls.ax_)\n",
    "disp_RFC.plot(label='Random Forest Classifier', ax=disp_bls.ax_)\n",
    "disp_LGBM.plot(label='LGBM Classifier', ax=disp_bls.ax_)\n",
    "disp_bls.figure_.set_size_inches(16, 10)\n",
    "disp_bls.ax_.set_title('Precision-Recall Curves for all Models')\n",
    "plt.grid()\n",
    "plt.show()"
   ]
  },
  {
   "cell_type": "markdown",
   "metadata": {},
   "source": [
    "LGBM Classifier and ETC with ADASYN together seem to dominate rest of the models along the precision-recall curve except at a very small stretch with a very small margin. Therefore, it seems reasonable to drop all the other models from the group. We will plot the precision-recall curve for these two below for sake of completeness."
   ]
  },
  {
   "cell_type": "code",
   "execution_count": 75,
   "metadata": {},
   "outputs": [
    {
     "data": {
      "image/png": "[encoded data removed]",
      "text/plain": [
       "<Figure size 1152x720 with 1 Axes>"
      ]
     },
     "metadata": {
      "needs_background": "light"
     },
     "output_type": "display_data"
    }
   ],
   "source": [
    "disp_ada.plot(label='ADASYN')\n",
    "disp_LGBM.plot(label='LGBM Classifier', ax=disp_ada.ax_)\n",
    "disp_ada.figure_.set_size_inches(16, 10)\n",
    "disp_ada.ax_.set_title('Precision-Recall Curves for LGBM Classifier and ETC with ADASYN')\n",
    "plt.grid()\n",
    "plt.show()"
   ]
  },
  {
   "cell_type": "code",
   "execution_count": null,
   "metadata": {},
   "outputs": [],
   "source": []
  }
 ],
 "metadata": {
  "kernelspec": {
   "display_name": "Python 3",
   "language": "python",
   "name": "python3"
  },
  "language_info": {
   "codemirror_mode": {
    "name": "ipython",
    "version": 3
   },
   "file_extension": ".py",
   "mimetype": "text/x-python",
   "name": "python",
   "nbconvert_exporter": "python",
   "pygments_lexer": "ipython3",
   "version": "3.7.6"
  }
 },
 "nbformat": 4,
 "nbformat_minor": 4
}
